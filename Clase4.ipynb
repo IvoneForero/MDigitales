{
  "nbformat": 4,
  "nbformat_minor": 0,
  "metadata": {
    "colab": {
      "name": "Clase4.ipynb",
      "provenance": [],
      "authorship_tag": "ABX9TyMxUcmi5uY/FUl+pxVCNP5e",
      "include_colab_link": true
    },
    "kernelspec": {
      "name": "python3",
      "display_name": "Python 3"
    },
    "language_info": {
      "name": "python"
    }
  },
  "cells": [
    {
      "cell_type": "markdown",
      "metadata": {
        "id": "view-in-github",
        "colab_type": "text"
      },
      "source": [
        "<a href=\"https://colab.research.google.com/github/IvoneForero/MDigitales/blob/main/Clase4.ipynb\" target=\"_parent\"><img src=\"https://colab.research.google.com/assets/colab-badge.svg\" alt=\"Open In Colab\"/></a>"
      ]
    },
    {
      "cell_type": "markdown",
      "metadata": {
        "id": "vwEWYGnDjdDS"
      },
      "source": [
        "# **Continuacion de estructuras de control iterativas**\n",
        "\n",
        "**ACUMULADORES**\n",
        "\n",
        "se le da este nombre a las variables que se encargan de \"almacenar\" algún tipo de información.\n",
        "\n",
        "Ejemplo:\n",
        "El caso de la compra de viveres en la tienda.\n"
      ]
    },
    {
      "cell_type": "code",
      "metadata": {
        "colab": {
          "base_uri": "https://localhost:8080/"
        },
        "id": "eQPfH_DAjWjq",
        "outputId": "0d635096-68e1-4e19-c08b-8fa4cb3b4dbc"
      },
      "source": [
        "nombre=input(\"Nombre del consumidor\")\n",
        "listacomp=\"\"\n",
        "print(nombre, \"escribe los siguientes viveres para su compra en el supermercado:\")\n",
        "listacomp=listacomp+\"1 paca de papel higienico\"\n",
        "print(\"----Compras que tengo que hacer----\")\n",
        "listacomp=listacomp+\",2 shampoo Pantene 2 and 1\"\n",
        "listacomp=listacomp+ \",2 pacas de pañales Pequeñin etapa 3\"\n",
        "print(listacomp)"
      ],
      "execution_count": 1,
      "outputs": [
        {
          "output_type": "stream",
          "text": [
            "Nombre del consumidorivon\n",
            "ivon escribe los siguientes viveres para su compra en el supermercado:\n",
            "----Compras que tengo que hacer----\n",
            "1 paca de papel higienico,2 shampoo Pantene 2 and 1,2 pacas de pañales Pequeñin etapa 3\n"
          ],
          "name": "stdout"
        }
      ]
    },
    {
      "cell_type": "markdown",
      "metadata": {
        "id": "JBpz0zOflaFQ"
      },
      "source": [
        "La variable \"listacomp\" nos esta sirviendo para acumular información de la lista de compras. Podemos observar que **no** estamos creando una variable  por cada item, sino que una variable definida nosr sirve para almacenar la información.\n",
        "\n",
        "A continuación observamos un ejemplo donde se ponga en practica el uso de acumulación de variables usando cantidades y precios."
      ]
    },
    {
      "cell_type": "code",
      "metadata": {
        "colab": {
          "base_uri": "https://localhost:8080/"
        },
        "id": "GzvLClDomI2E",
        "outputId": "6fbd407c-4dac-41c3-a1a5-a5fbd3209e56"
      },
      "source": [
        "ppph= 14000 # Precio de paquete papel higiénico\n",
        "cpph= 2 #cantidad de paquete de papel higiénico\n",
        "pshampoo=18000 #Precio de shampoo Pantene 2 and 1\n",
        "csshampoo=4 #unidades de shampoo\n",
        "pcbebe=17000 #Precio de pacas de pañales pequeñin\n",
        "cpbebe=3 #cantidad de pacas de pañales pequeñin\n",
        "\n",
        "subtotal=0\n",
        "print(\"Calculando el total de la compra...\")\n",
        "total_pph=ppph*cpph\n",
        "print(\"El valor total de papel higiénico es: $\", total_pph)\n",
        "subtotal=subtotal+total_pph\n",
        "print(\"----El subtotal es: $\", subtotal)\n",
        "total_shampoo=pshampoo*csshampoo\n",
        "print(\"El valor total del shampoo es: $\", total_shampoo)\n",
        "subtotal=subtotal+total_shampoo\n",
        "print(\"----El subtotal es: $\", subtotal)\n",
        "total_pbebe=pcbebe*cpbebe\n",
        "print(\"El valor total para pañales es: $\", total_pbebe)\n",
        "subtotal=subtotal+total_pbebe\n",
        "print(\"----El total de su compra es: $\", subtotal)"
      ],
      "execution_count": 6,
      "outputs": [
        {
          "output_type": "stream",
          "text": [
            "Calculando el total de la compra...\n",
            "El valor total de papel higiénico es: $ 28000\n",
            "----El subtotal es: $ 28000\n",
            "El valor total del shampoo es: $ 72000\n",
            "----El subtotal es: $ 100000\n",
            "El valor total para pañales es: $ 51000\n",
            "----El subtotal es: $ 151000\n"
          ],
          "name": "stdout"
        }
      ]
    },
    {
      "cell_type": "markdown",
      "metadata": {
        "id": "s2YmkwFNpQNq"
      },
      "source": [
        "**CONTADORES**\n",
        "Tiene mucha relación con los acumuladores visto en el apartado anterior.\n",
        "Estas variables se caracterizan por ser variables de control, es decir controlan la cantidad de veces que se ejecuta determinada acción.\n",
        "Usando el eejmplo anterior y modificandolo un poco, podemos desarrollar el siguiente algoritmo:\n"
      ]
    },
    {
      "cell_type": "code",
      "metadata": {
        "colab": {
          "base_uri": "https://localhost:8080/"
        },
        "id": "Hp8jVmeyp1lV",
        "outputId": "07ac4db3-bcd0-4e03-b904-eb3f99b83a97"
      },
      "source": [
        "# Se comprara por unidad en este caso\n",
        "\n",
        "contp=0\n",
        "print(\"Se realizará la compra de pañales etapa 3 ... se ha iniciado la compra y asignación en el carrito. En total hay :\"), contp, \"pañales\"\n",
        "contp=contp+1\n",
        "print(\"Ahora hay\",contp , \"\")"
      ],
      "execution_count": 8,
      "outputs": [
        {
          "output_type": "stream",
          "text": [
            "Se realizará la compra de pañales etapa 3 ... se ha iniciado la compra y asignación en el carrito. En total hay :\n",
            "Ahora hay 1 \n"
          ],
          "name": "stdout"
        }
      ]
    },
    {
      "cell_type": "markdown",
      "metadata": {
        "id": "esmXdHjUq-tJ"
      },
      "source": [
        "**CICLOS CONTROLADOS POR CONDICIÓN**\n",
        "\n",
        "***WHILE***\n",
        "\n",
        "Recordemos que las variables de control nos permite manejar estados,pasar de un estado a otro es por ejemplo una variable que no contine elementos a contenerlos o una variable un elemento a particular (Acumulador o contador) y cambiarlo por completo. (Bandera).\n",
        "\n",
        "Estas variables de control son la base del ciclo de control. Siendo mas claros, pasar de una adición a algo más automatizado.\n",
        "\n",
        "Empezamos con el ciclo **\"WHILE\"**  en español es **\"mientras\"**.\n",
        "Este ciclo se compone de una **condición** y su **bloque de codigo **. lo que nos quiere decir el WHILE es que el bloque de codigo se ejecutara mientras la condición da como resultado TRUE O FALSE"
      ]
    },
    {
      "cell_type": "code",
      "metadata": {
        "colab": {
          "base_uri": "https://localhost:8080/"
        },
        "id": "Idm3ndiZsWzH",
        "outputId": "0c3e19a0-17fe-472d-d452-c211508a3bb8"
      },
      "source": [
        "lapiz=5\n",
        "contlapiz=0\n",
        "print(\"Se ha iniciado la compra. En total hay:\", contlapiz,lapiz)\n",
        "\n",
        "while(contlapiz <lapiz):\n",
        "  contlapiz=contlapiz+1\n",
        "  print(\"Se ha realizado la compra de Lapices. Ahora hay\", contlapiz, \"lapiz\")\n",
        "\n",
        "\n",
        "a=str(contlapiz)\n",
        "print(type(contlapiz))\n",
        "print(type(a))\n"
      ],
      "execution_count": 15,
      "outputs": [
        {
          "output_type": "stream",
          "text": [
            "Se ha iniciado la compra. En total hay: 0 5\n",
            "Se ha realizado la compra de Lapices. Ahora hay 1 lapiz\n",
            "Se ha realizado la compra de Lapices. Ahora hay 2 lapiz\n",
            "Se ha realizado la compra de Lapices. Ahora hay 3 lapiz\n",
            "Se ha realizado la compra de Lapices. Ahora hay 4 lapiz\n",
            "Se ha realizado la compra de Lapices. Ahora hay 5 lapiz\n",
            "<class 'int'>\n",
            "<class 'str'>\n"
          ],
          "name": "stdout"
        }
      ]
    },
    {
      "cell_type": "markdown",
      "metadata": {
        "id": "TPXVYfO9vCPE"
      },
      "source": [
        "**Nota:**\n",
        "Tener en cuenta que dentro del ciclo de  **WHILE **se va afectando las variables implicadas en la declaración de la condición que debe cumplir el ciclo.\n",
        "En el ejemplo anterior la variable \"contlapiz\" para que en algún momento la condición sea verdadera y termine el ciclo se tiene que cumplir la condición (contlapiz<lapiz). De lo contrario, tendríamos un ciclo que nunca se detendría (infinito). lo cual decantaria en un ciclo interminable.\n",
        "\n"
      ]
    },
    {
      "cell_type": "markdown",
      "metadata": {
        "id": "trfdUj-QwD1l"
      },
      "source": [
        "**CICLO FOR**\n",
        "\n",
        "Es un ciclo especializado y optimizado para los ciclos controlados por cantidad. Se compone de 3 elementos:\n",
        "\n",
        "1. La variable iteración\n",
        "2. Elemento de iteración\n",
        "3. Bloque de código a iterar\n",
        "\n",
        "**¿Ventajas de usar el FOR?**\n",
        "\n",
        "En python es muy importante y se considera una herramienta bastante flexible y posderosa, por permitir ingresar estructuras de datos complejas, cadena de caracteres, rangos, entre otros. los elementos de iteración usados en esta estructura de datos son necesarios que tengan la siguiente caracteristica:\n",
        "1. cantidad definida (Esto lo diferencia totalmente del WHILE)\n",
        "Porque el While parte de una condición de verdad, pero el **FOR** parte de una cantidad definida."
      ]
    },
    {
      "cell_type": "code",
      "metadata": {
        "colab": {
          "base_uri": "https://localhost:8080/"
        },
        "id": "WFvNpfU9xVjE",
        "outputId": "4559a05a-f77d-490a-dd32-394f8ce2e5d3"
      },
      "source": [
        "#Retomando el ejemplo de la compra de lapices\n",
        "print(\"Se ha iniciado la compra. En total hay: 0 lapices.\")\n",
        "for i in range(1,6): # En los rangos, la función range maneja un intervalo abierto a la derecha y cerrando a la izquierda\n",
        "  print(\"Se ha realizado la compra de lapices: Ahora hay\",i,\"lapices.\")"
      ],
      "execution_count": 16,
      "outputs": [
        {
          "output_type": "stream",
          "text": [
            " se ha iniciado la compra. En total hay: 0 lapices.\n",
            "se ha realizado la compra de lapices: Ahora hay 1 lapices.\n",
            "se ha realizado la compra de lapices: Ahora hay 2 lapices.\n",
            "se ha realizado la compra de lapices: Ahora hay 3 lapices.\n",
            "se ha realizado la compra de lapices: Ahora hay 4 lapices.\n",
            "se ha realizado la compra de lapices: Ahora hay 5 lapices.\n"
          ],
          "name": "stdout"
        }
      ]
    }
  ]
}