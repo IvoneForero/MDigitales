{
  "nbformat": 4,
  "nbformat_minor": 0,
  "metadata": {
    "colab": {
      "name": "Clase1_Ejercicios.ipynb",
      "provenance": [],
      "authorship_tag": "ABX9TyNaJaWlR2bBZkhSwXMajcM7",
      "include_colab_link": true
    },
    "kernelspec": {
      "name": "python3",
      "display_name": "Python 3"
    },
    "language_info": {
      "name": "python"
    }
  },
  "cells": [
    {
      "cell_type": "markdown",
      "metadata": {
        "id": "view-in-github",
        "colab_type": "text"
      },
      "source": [
        "<a href=\"https://colab.research.google.com/github/IvoneForero/MDigitales/blob/main/Clase1_Ejercicios.ipynb\" target=\"_parent\"><img src=\"https://colab.research.google.com/assets/colab-badge.svg\" alt=\"Open In Colab\"/></a>"
      ]
    },
    {
      "cell_type": "markdown",
      "metadata": {
        "id": "4KsqrYo-kARX"
      },
      "source": [
        "# **EJERCICIOS CLASE 1**\n",
        "\n",
        "**1. TIPO ENTEROS**"
      ]
    },
    {
      "cell_type": "code",
      "metadata": {
        "id": "Bt91TVg3G19Q"
      },
      "source": [
        ""
      ],
      "execution_count": null,
      "outputs": []
    },
    {
      "cell_type": "code",
      "metadata": {
        "id": "am_dontDkmXP"
      },
      "source": [
        ""
      ],
      "execution_count": null,
      "outputs": []
    },
    {
      "cell_type": "markdown",
      "metadata": {
        "id": "zcVFrmtuG8wI"
      },
      "source": [
        "**2. TIPO CADENA**"
      ]
    },
    {
      "cell_type": "code",
      "metadata": {
        "id": "JeomaPnRkzEd"
      },
      "source": [
        ""
      ],
      "execution_count": null,
      "outputs": []
    },
    {
      "cell_type": "code",
      "metadata": {
        "id": "CgEI2gMmkzOv"
      },
      "source": [
        ""
      ],
      "execution_count": null,
      "outputs": []
    },
    {
      "cell_type": "markdown",
      "metadata": {
        "id": "b-OfikpSkzg2"
      },
      "source": [
        "**3.TIPO BOOLEANO**"
      ]
    },
    {
      "cell_type": "code",
      "metadata": {
        "id": "mcS4J9zak-eU"
      },
      "source": [
        ""
      ],
      "execution_count": null,
      "outputs": []
    },
    {
      "cell_type": "code",
      "metadata": {
        "id": "dZ_LC-Ink-n1"
      },
      "source": [
        ""
      ],
      "execution_count": null,
      "outputs": []
    },
    {
      "cell_type": "markdown",
      "metadata": {
        "id": "MYzW3Dlok-9G"
      },
      "source": [
        "**4. TIPOS DE LISTA**"
      ]
    },
    {
      "cell_type": "code",
      "metadata": {
        "id": "fSW_rf-xlG4H"
      },
      "source": [
        ""
      ],
      "execution_count": null,
      "outputs": []
    },
    {
      "cell_type": "code",
      "metadata": {
        "id": "E9IT0oDklHJH"
      },
      "source": [
        ""
      ],
      "execution_count": null,
      "outputs": []
    },
    {
      "cell_type": "markdown",
      "metadata": {
        "id": "ojEeP6RDlJ7e"
      },
      "source": [
        "**5. TIPOS TUPLAS**"
      ]
    },
    {
      "cell_type": "code",
      "metadata": {
        "id": "s4ndeqWJlNZH"
      },
      "source": [
        ""
      ],
      "execution_count": null,
      "outputs": []
    },
    {
      "cell_type": "code",
      "metadata": {
        "id": "6AYA16zKlNsF"
      },
      "source": [
        ""
      ],
      "execution_count": null,
      "outputs": []
    },
    {
      "cell_type": "markdown",
      "metadata": {
        "id": "L08ekNzNlPp4"
      },
      "source": [
        "**6. TIPO DICCIONARIOS**"
      ]
    },
    {
      "cell_type": "code",
      "metadata": {
        "id": "3HTiA_zVlV6e"
      },
      "source": [
        ""
      ],
      "execution_count": null,
      "outputs": []
    },
    {
      "cell_type": "code",
      "metadata": {
        "id": "oMJqrH4blWJZ"
      },
      "source": [
        ""
      ],
      "execution_count": null,
      "outputs": []
    }
  ]
}