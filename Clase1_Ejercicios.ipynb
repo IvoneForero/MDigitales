{
  "nbformat": 4,
  "nbformat_minor": 0,
  "metadata": {
    "colab": {
      "name": "Clase1_Ejercicios.ipynb",
      "provenance": [],
      "authorship_tag": "ABX9TyNYQq8n3v8Ul/wKyTg360DY",
      "include_colab_link": true
    },
    "kernelspec": {
      "name": "python3",
      "display_name": "Python 3"
    },
    "language_info": {
      "name": "python"
    }
  },
  "cells": [
    {
      "cell_type": "markdown",
      "metadata": {
        "id": "view-in-github",
        "colab_type": "text"
      },
      "source": [
        "<a href=\"https://colab.research.google.com/github/IvoneForero/MDigitales/blob/main/Clase1_Ejercicios.ipynb\" target=\"_parent\"><img src=\"https://colab.research.google.com/assets/colab-badge.svg\" alt=\"Open In Colab\"/></a>"
      ]
    },
    {
      "cell_type": "markdown",
      "metadata": {
        "id": "4KsqrYo-kARX"
      },
      "source": [
        "# **EJERCICIOS CLASE 1**\n",
        "\n",
        "**1. TIPO ENTEROS**"
      ]
    },
    {
      "cell_type": "code",
      "metadata": {
        "id": "Bt91TVg3G19Q",
        "colab": {
          "base_uri": "https://localhost:8080/"
        },
        "outputId": "b826aa7a-db4e-4129-9f2f-370302796108"
      },
      "source": [
        "y=10\n",
        "z=5\n",
        "print(y+z)"
      ],
      "execution_count": 1,
      "outputs": [
        {
          "output_type": "stream",
          "text": [
            "15\n"
          ],
          "name": "stdout"
        }
      ]
    },
    {
      "cell_type": "code",
      "metadata": {
        "colab": {
          "base_uri": "https://localhost:8080/"
        },
        "id": "am_dontDkmXP",
        "outputId": "dd053a80-c45a-43ee-9a4e-0e54a6d3af5e"
      },
      "source": [
        "valor1=50\n",
        "valor2=3\n",
        "print(valor1*valor2)"
      ],
      "execution_count": 2,
      "outputs": [
        {
          "output_type": "stream",
          "text": [
            "150\n"
          ],
          "name": "stdout"
        }
      ]
    },
    {
      "cell_type": "code",
      "metadata": {
        "colab": {
          "base_uri": "https://localhost:8080/"
        },
        "id": "4Y8_08d1nWbG",
        "outputId": "cfacb8ad-756a-4a60-8093-d374f2205b64"
      },
      "source": [
        "m=float(12.3)\n",
        "print(m)\n",
        "b=int(51.3)\n",
        "print(b)"
      ],
      "execution_count": 5,
      "outputs": [
        {
          "output_type": "stream",
          "text": [
            "12.3\n",
            "51\n"
          ],
          "name": "stdout"
        }
      ]
    },
    {
      "cell_type": "markdown",
      "metadata": {
        "id": "zcVFrmtuG8wI"
      },
      "source": [
        "**2. TIPO CADENA**"
      ]
    },
    {
      "cell_type": "code",
      "metadata": {
        "colab": {
          "base_uri": "https://localhost:8080/"
        },
        "id": "JeomaPnRkzEd",
        "outputId": "806de28c-3122-4164-ceff-c8b8744adf86"
      },
      "source": [
        "name= \"Ivon\"\n",
        "surname = \"Forero\"\n",
        "print (name,surname)"
      ],
      "execution_count": 7,
      "outputs": [
        {
          "output_type": "stream",
          "text": [
            "Ivon Forero\n"
          ],
          "name": "stdout"
        }
      ]
    },
    {
      "cell_type": "code",
      "metadata": {
        "colab": {
          "base_uri": "https://localhost:8080/"
        },
        "id": "CgEI2gMmkzOv",
        "outputId": "5e703c58-6266-48c3-a7ef-6c0b6109f540"
      },
      "source": [
        "tex1= \"El valor a pagar\"\n",
        "val1= 100000\n",
        "print (tex1,val1)"
      ],
      "execution_count": 8,
      "outputs": [
        {
          "output_type": "stream",
          "text": [
            "El valor a pagar 100000\n"
          ],
          "name": "stdout"
        }
      ]
    },
    {
      "cell_type": "markdown",
      "metadata": {
        "id": "b-OfikpSkzg2"
      },
      "source": [
        "**3.TIPO BOOLEANO**"
      ]
    },
    {
      "cell_type": "code",
      "metadata": {
        "colab": {
          "base_uri": "https://localhost:8080/"
        },
        "id": "mcS4J9zak-eU",
        "outputId": "8c696dc0-08b5-4350-f6d0-b3c588ad5035"
      },
      "source": [
        "bol1= False\n",
        "print (\"El valor de la variable bol1 es:\", bol1)"
      ],
      "execution_count": 10,
      "outputs": [
        {
          "output_type": "stream",
          "text": [
            "El valor de la variable bol1 es: False\n"
          ],
          "name": "stdout"
        }
      ]
    },
    {
      "cell_type": "code",
      "metadata": {
        "colab": {
          "base_uri": "https://localhost:8080/"
        },
        "id": "dZ_LC-Ink-n1",
        "outputId": "8e537961-68b0-4e92-a113-e645bc79aea1"
      },
      "source": [
        "bandera= True\n",
        "print(\"El valor de bandera es:\", bandera)"
      ],
      "execution_count": 11,
      "outputs": [
        {
          "output_type": "stream",
          "text": [
            "El valor de bandera es: True\n"
          ],
          "name": "stdout"
        }
      ]
    },
    {
      "cell_type": "code",
      "metadata": {
        "colab": {
          "base_uri": "https://localhost:8080/"
        },
        "id": "YQr7YA68p4Js",
        "outputId": "504f06b1-29bd-4dbc-a732-a2c01cd29fd4"
      },
      "source": [
        "piano=False\n",
        "print(piano)"
      ],
      "execution_count": 12,
      "outputs": [
        {
          "output_type": "stream",
          "text": [
            "False\n"
          ],
          "name": "stdout"
        }
      ]
    },
    {
      "cell_type": "markdown",
      "metadata": {
        "id": "MYzW3Dlok-9G"
      },
      "source": [
        "**4. TIPOS DE LISTA**"
      ]
    },
    {
      "cell_type": "code",
      "metadata": {
        "colab": {
          "base_uri": "https://localhost:8080/"
        },
        "id": "fSW_rf-xlG4H",
        "outputId": "a954f765-4769-4f95-888f-a3fae2bd525a"
      },
      "source": [
        "dessert= 'cupcakes', 'torta', 'postres'\n",
        "print(dessert) "
      ],
      "execution_count": 13,
      "outputs": [
        {
          "output_type": "stream",
          "text": [
            "('cupcakes', 'torta', 'postres')\n"
          ],
          "name": "stdout"
        }
      ]
    },
    {
      "cell_type": "code",
      "metadata": {
        "colab": {
          "base_uri": "https://localhost:8080/"
        },
        "id": "E9IT0oDklHJH",
        "outputId": "d26e5451-3c1a-496e-adb0-50fe3da91b4e"
      },
      "source": [
        "cocina= ['plato','cuchara','olla','vaso','tenedor']\n",
        "print(cocina)\n",
        "mau= cocina[0:3]\n",
        "print(mau)"
      ],
      "execution_count": 17,
      "outputs": [
        {
          "output_type": "stream",
          "text": [
            "['plato', 'cuchara', 'olla', 'vaso', 'tenedor']\n",
            "['plato', 'cuchara', 'olla']\n"
          ],
          "name": "stdout"
        }
      ]
    },
    {
      "cell_type": "markdown",
      "metadata": {
        "id": "ojEeP6RDlJ7e"
      },
      "source": [
        "**5. TIPOS TUPLAS**"
      ]
    },
    {
      "cell_type": "code",
      "metadata": {
        "id": "s4ndeqWJlNZH"
      },
      "source": [
        ""
      ],
      "execution_count": null,
      "outputs": []
    },
    {
      "cell_type": "code",
      "metadata": {
        "id": "6AYA16zKlNsF"
      },
      "source": [
        ""
      ],
      "execution_count": null,
      "outputs": []
    },
    {
      "cell_type": "markdown",
      "metadata": {
        "id": "L08ekNzNlPp4"
      },
      "source": [
        "**6. TIPO DICCIONARIOS**"
      ]
    },
    {
      "cell_type": "code",
      "metadata": {
        "id": "3HTiA_zVlV6e"
      },
      "source": [
        ""
      ],
      "execution_count": null,
      "outputs": []
    },
    {
      "cell_type": "code",
      "metadata": {
        "id": "oMJqrH4blWJZ"
      },
      "source": [
        ""
      ],
      "execution_count": null,
      "outputs": []
    }
  ]
}