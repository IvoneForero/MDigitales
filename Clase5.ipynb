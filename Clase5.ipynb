{
  "nbformat": 4,
  "nbformat_minor": 0,
  "metadata": {
    "colab": {
      "name": "Clase5.ipynb",
      "provenance": [],
      "authorship_tag": "ABX9TyOZ99g34YdVOBKLI9qhCLMg",
      "include_colab_link": true
    },
    "kernelspec": {
      "name": "python3",
      "display_name": "Python 3"
    },
    "language_info": {
      "name": "python"
    }
  },
  "cells": [
    {
      "cell_type": "markdown",
      "metadata": {
        "id": "view-in-github",
        "colab_type": "text"
      },
      "source": [
        "<a href=\"https://colab.research.google.com/github/IvoneForero/MDigitales/blob/main/Clase5.ipynb\" target=\"_parent\"><img src=\"https://colab.research.google.com/assets/colab-badge.svg\" alt=\"Open In Colab\"/></a>"
      ]
    },
    {
      "cell_type": "markdown",
      "metadata": {
        "id": "D2c5Ydmzox9u"
      },
      "source": [
        "# **Continuación de ciclos**\n",
        "\n",
        "**Ciclo FOR -Bucle FOR**\n",
        "\n"
      ]
    },
    {
      "cell_type": "code",
      "metadata": {
        "colab": {
          "base_uri": "https://localhost:8080/"
        },
        "id": "3-X4myHtdwx_",
        "outputId": "34afbb7a-1be1-477f-b98b-090c5b09292b"
      },
      "source": [
        "for i in range(1,5):\n",
        "  print(i)"
      ],
      "execution_count": 1,
      "outputs": [
        {
          "output_type": "stream",
          "text": [
            "1\n",
            "2\n",
            "3\n",
            "4\n"
          ],
          "name": "stdout"
        }
      ]
    },
    {
      "cell_type": "markdown",
      "metadata": {
        "id": "ezOiYaljqBM5"
      },
      "source": [
        "Para dejar claro las partes que componen el bucle FOR, vamos a dejar claro las siguientes deficniciones:\n",
        "\n",
        "1. Iterable: Son los objetos que pueden ser iterados. por eljemplo unalista, valor tipo cadena, etc.\n",
        "\n",
        "2. Iterador: Son objetos que hacen referencia a un elemento. (Para hacer referencia a caada uno de los elementos hay un método denominado **\"next\"** que permitehacer referencia a los elementos del conjunto.\n",
        "\n",
        "** for *(variable) in (itinerable)*\n",
        "    * (Bloque código) *\n",
        "\n",
        "Algunos ejemplos de iterables en Python son las listas, cadenas, diccionarios, tuplas.etc.\n",
        "\n",
        "¿como saber que iterable a la hora de programas? podemos darnos que es iterable usando la función isinstance().\n",
        "\n"
      ]
    },
    {
      "cell_type": "code",
      "metadata": {
        "colab": {
          "base_uri": "https://localhost:8080/"
        },
        "id": "sPVEn8OYsg7J",
        "outputId": "040e96a4-788c-4f4d-f4ab-9cc5fe10fee6"
      },
      "source": [
        "from collections import Iterable #Paquete Iterable de Collections (Python 3.7) Kernel\n",
        "lista=[1,2,3,4,5,6,7,8,9,0]\n",
        "a='computador'\n",
        "b=14\n",
        "print(isinstance(lista,Iterable))\n",
        "print(isinstance(a,Iterable))\n",
        "print(isinstance(b,Iterable))"
      ],
      "execution_count": 7,
      "outputs": [
        {
          "output_type": "stream",
          "text": [
            "True\n",
            "True\n",
            "False\n"
          ],
          "name": "stdout"
        }
      ]
    },
    {
      "cell_type": "code",
      "metadata": {
        "colab": {
          "base_uri": "https://localhost:8080/",
          "height": 197
        },
        "id": "T5PLcggmvVso",
        "outputId": "74755079-4a61-4d52-a189-7e004ffeda8c"
      },
      "source": [
        "a=30\n",
        "for i in a:\n",
        "  print(i)"
      ],
      "execution_count": 8,
      "outputs": [
        {
          "output_type": "error",
          "ename": "TypeError",
          "evalue": "ignored",
          "traceback": [
            "\u001b[0;31m---------------------------------------------------------------------------\u001b[0m",
            "\u001b[0;31mTypeError\u001b[0m                                 Traceback (most recent call last)",
            "\u001b[0;32m<ipython-input-8-1d62c16627e9>\u001b[0m in \u001b[0;36m<module>\u001b[0;34m()\u001b[0m\n\u001b[1;32m      1\u001b[0m \u001b[0ma\u001b[0m\u001b[0;34m=\u001b[0m\u001b[0;36m30\u001b[0m\u001b[0;34m\u001b[0m\u001b[0;34m\u001b[0m\u001b[0m\n\u001b[0;32m----> 2\u001b[0;31m \u001b[0;32mfor\u001b[0m \u001b[0mi\u001b[0m \u001b[0;32min\u001b[0m \u001b[0ma\u001b[0m\u001b[0;34m:\u001b[0m\u001b[0;34m\u001b[0m\u001b[0;34m\u001b[0m\u001b[0m\n\u001b[0m\u001b[1;32m      3\u001b[0m   \u001b[0mprint\u001b[0m\u001b[0;34m(\u001b[0m\u001b[0mi\u001b[0m\u001b[0;34m)\u001b[0m\u001b[0;34m\u001b[0m\u001b[0;34m\u001b[0m\u001b[0m\n",
            "\u001b[0;31mTypeError\u001b[0m: 'int' object is not iterable"
          ]
        }
      ]
    },
    {
      "cell_type": "markdown",
      "metadata": {
        "id": "L2Pc2kb5vosP"
      },
      "source": [
        "Para entender los Itenadores, es importante conocer la función  *iter()*\n",
        "Esta función puede ser llamada sobre un objeto que sea iterable y nos devolverá un Iterador.\n",
        "\n",
        "Ejemplo:"
      ]
    },
    {
      "cell_type": "code",
      "metadata": {
        "colab": {
          "base_uri": "https://localhost:8080/"
        },
        "id": "1sRminaTv_UW",
        "outputId": "74ef07d6-8be1-489b-fa28-1161f7e87187"
      },
      "source": [
        "lista=[1,2,3,4,5,6,7,8,9,0]\n",
        "ref=iter(lista)\n",
        "print(ref)\n",
        "print(type(ref))"
      ],
      "execution_count": 11,
      "outputs": [
        {
          "output_type": "stream",
          "text": [
            "<list_iterator object at 0x7f9a3c776c50>\n",
            "<class 'list_iterator'>\n"
          ],
          "name": "stdout"
        }
      ]
    },
    {
      "cell_type": "markdown",
      "metadata": {
        "id": "uPj7MrxJwY0-"
      },
      "source": [
        "Al imprimir Ref es un iterador de la clase *list_iteradores*. hace referencia a la lista original y nos permite acceder a sus elementos con la función **(next)**.\n",
        "\n",
        "**Nota:**\n",
        "Cada vez que llamemos a **next**  sobre Ref, nos devuelve el siguiente elemento de la lista original.\n",
        "Si por ejemplo quiero acceder al elemento 7, tendremos que llamr 7 ceces a next ()"
      ]
    },
    {
      "cell_type": "code",
      "metadata": {
        "colab": {
          "base_uri": "https://localhost:8080/"
        },
        "id": "DdRnr9QxwySd",
        "outputId": "5ec6b2c5-cf02-4f3c-a766-9ff691a810df"
      },
      "source": [
        "lista=[1,2,3,4,5,6,7,8,9,0]\n",
        "ref=iter(lista)\n",
        "print(next(ref))\n",
        "print(next(ref))\n",
        "print(next(ref))\n",
        "print(next(ref))\n",
        "print(next(ref))"
      ],
      "execution_count": 13,
      "outputs": [
        {
          "output_type": "stream",
          "text": [
            "1\n",
            "2\n",
            "3\n",
            "4\n",
            "5\n"
          ],
          "name": "stdout"
        }
      ]
    },
    {
      "cell_type": "markdown",
      "metadata": {
        "id": "FV2rzOLYxZ1o"
      },
      "source": [
        "**Tener en cuenta**\n",
        "\n",
        "Existen otros iteradores para las diferentes clases:\n",
        "\n",
        "1. str_iterador para cadenas\n",
        "2. list_iterador para listas\n",
        "3. set_oterador para conjuntos\n",
        "4. dict_keyiterator para diccionarios"
      ]
    },
    {
      "cell_type": "markdown",
      "metadata": {
        "id": "L-h8s9Rzx_a-"
      },
      "source": [
        "**For anidados**\n",
        "\n",
        "Es posible anidar los FOR, es decir ingresar uno dentro de otro. Como lo vemos a continuación.\n"
      ]
    },
    {
      "cell_type": "code",
      "metadata": {
        "colab": {
          "base_uri": "https://localhost:8080/"
        },
        "id": "rCHsRh07yQMI",
        "outputId": "a587a1bc-d6ef-4b35-da76-2248165efc3a"
      },
      "source": [
        "#Vamos a crear una lista de listas, lo cual conforma una especie de matriz.\n",
        "# Recordemos que una matriz se compone de valores que sedistribuyen en filas y columnas.\n",
        "qa=[[1,2,3],\n",
        "    [4,5,6],\n",
        "    [7,8,9]]\n",
        "for i in qa:\n",
        "  print(i)\n",
        "  \n",
        "for i in qa:\n",
        "  for j in i:\n",
        "    print(j)"
      ],
      "execution_count": 14,
      "outputs": [
        {
          "output_type": "stream",
          "text": [
            "[1, 2, 3]\n",
            "[4, 5, 6]\n",
            "[7, 8, 9]\n",
            "1\n",
            "2\n",
            "3\n",
            "4\n",
            "5\n",
            "6\n",
            "7\n",
            "8\n",
            "9\n"
          ],
          "name": "stdout"
        }
      ]
    },
    {
      "cell_type": "markdown",
      "metadata": {
        "id": "ttGwEHgbzY3W"
      },
      "source": [
        "Si queremos acceder a cada elemento, se procede a realizar un bucle de FOR anidado. Es decir un FOR se encarga de iterar las columnas y otro las filas."
      ]
    },
    {
      "cell_type": "code",
      "metadata": {
        "colab": {
          "base_uri": "https://localhost:8080/"
        },
        "id": "w7jG6Wbszz6N",
        "outputId": "778b22b7-dbc6-4ac3-e834-d528aca3fe36"
      },
      "source": [
        "#Otra forma de utilizar solo el FOR, es la iteración a revés. Es decir se puede iterar la lista desde el último al primer elemento.\n",
        "lista=[1,2,3,4,5,6,7,8,9,0]\n",
        "for i in lista[::-1]:\n",
        " print(i)\n"
      ],
      "execution_count": 18,
      "outputs": [
        {
          "output_type": "stream",
          "text": [
            "0\n",
            "9\n",
            "8\n",
            "7\n",
            "6\n",
            "5\n",
            "4\n",
            "3\n",
            "2\n",
            "1\n"
          ],
          "name": "stdout"
        }
      ]
    },
    {
      "cell_type": "code",
      "metadata": {
        "colab": {
          "base_uri": "https://localhost:8080/"
        },
        "id": "oOcvvjLl0pnl",
        "outputId": "bbed6a8b-3798-402d-ab97-768228330490"
      },
      "source": [
        "lista=[1,2,3,4,5,6,7,8,9,0]\n",
        "for i in lista[::2]:\n",
        " print(i)\n",
        "print (\"__________________________\")\n",
        "a=\"computador\"\n",
        "for i in a[::4]:\n",
        "  print(i)"
      ],
      "execution_count": 22,
      "outputs": [
        {
          "output_type": "stream",
          "text": [
            "1\n",
            "3\n",
            "5\n",
            "7\n",
            "9\n",
            "__________________________\n",
            "c\n",
            "u\n",
            "o\n"
          ],
          "name": "stdout"
        }
      ]
    },
    {
      "cell_type": "code",
      "metadata": {
        "colab": {
          "base_uri": "https://localhost:8080/",
          "height": 367
        },
        "id": "zBCk4wgc1vw9",
        "outputId": "a1e61807-89c9-4901-8037-b47de05a5988"
      },
      "source": [
        "#Usando rangos\n",
        "for i in range(10):\n",
        "  print(i)\n",
        "#El range() genera una secuencia de numeros que va desde 0n por defecto hasta el número  que se pasa como parámetros menos 2.\n",
        "#*Estructura: rage(inicio, fin, salto)\n",
        "\n",
        "#Observemos un truco con el range\n",
        "\n",
        "print(list(range(2,10,0))) #Conversión de un rango en una lista"
      ],
      "execution_count": 30,
      "outputs": [
        {
          "output_type": "stream",
          "text": [
            "0\n",
            "1\n",
            "2\n",
            "3\n",
            "4\n",
            "5\n",
            "6\n",
            "7\n",
            "8\n",
            "9\n"
          ],
          "name": "stdout"
        },
        {
          "output_type": "error",
          "ename": "ValueError",
          "evalue": "ignored",
          "traceback": [
            "\u001b[0;31m---------------------------------------------------------------------------\u001b[0m",
            "\u001b[0;31mValueError\u001b[0m                                Traceback (most recent call last)",
            "\u001b[0;32m<ipython-input-30-34326a62e319>\u001b[0m in \u001b[0;36m<module>\u001b[0;34m()\u001b[0m\n\u001b[1;32m      7\u001b[0m \u001b[0;31m#Observemos un truco con el range\u001b[0m\u001b[0;34m\u001b[0m\u001b[0;34m\u001b[0m\u001b[0;34m\u001b[0m\u001b[0m\n\u001b[1;32m      8\u001b[0m \u001b[0;34m\u001b[0m\u001b[0m\n\u001b[0;32m----> 9\u001b[0;31m \u001b[0mprint\u001b[0m\u001b[0;34m(\u001b[0m\u001b[0mlist\u001b[0m\u001b[0;34m(\u001b[0m\u001b[0mrange\u001b[0m\u001b[0;34m(\u001b[0m\u001b[0;36m2\u001b[0m\u001b[0;34m,\u001b[0m\u001b[0;36m10\u001b[0m\u001b[0;34m,\u001b[0m\u001b[0;36m0\u001b[0m\u001b[0;34m)\u001b[0m\u001b[0;34m)\u001b[0m\u001b[0;34m)\u001b[0m \u001b[0;31m#Conversión de un rango en una lista\u001b[0m\u001b[0;34m\u001b[0m\u001b[0;34m\u001b[0m\u001b[0m\n\u001b[0m",
            "\u001b[0;31mValueError\u001b[0m: range() arg 3 must not be zero"
          ]
        }
      ]
    },
    {
      "cell_type": "markdown",
      "metadata": {
        "id": "tTduDlFS3cHj"
      },
      "source": [
        "**Listas de comprensión**\n",
        "\n",
        "Estas nos permiten crear listas de elementos en una sola linea de código.\n",
        "\n",
        "Ejemplo:\n",
        "\n",
        "Crear una lista de las potencias a la 3 de los números impares de 0 a 9\n"
      ]
    },
    {
      "cell_type": "code",
      "metadata": {
        "colab": {
          "base_uri": "https://localhost:8080/"
        },
        "id": "MO78D5AH39V_",
        "outputId": "4e54334b-54ba-4b22-c512-105cb17cb3ba"
      },
      "source": [
        "tres=[i**3 for i in range(0,10,3)]\n",
        "#1,3,5,7,9\n",
        "print(tres)\n",
        "\n",
        "tres=[]\n",
        "for i in range(1,10,2):\n",
        "  tres.append(i**3)\n",
        "  print(i)"
      ],
      "execution_count": 37,
      "outputs": [
        {
          "output_type": "stream",
          "text": [
            "[0, 27, 216, 729]\n",
            "1\n",
            "3\n",
            "5\n",
            "7\n",
            "9\n"
          ],
          "name": "stdout"
        }
      ]
    },
    {
      "cell_type": "code",
      "metadata": {
        "colab": {
          "base_uri": "https://localhost:8080/"
        },
        "id": "dWjeM0eL6CBs",
        "outputId": "6d9f5e75-d580-45b4-8641-79c72b04e324"
      },
      "source": [
        "s=[1 for i in range(10)]\n",
        "print(s)"
      ],
      "execution_count": 38,
      "outputs": [
        {
          "output_type": "stream",
          "text": [
            "[1, 1, 1, 1, 1, 1, 1, 1, 1, 1]\n"
          ],
          "name": "stdout"
        }
      ]
    },
    {
      "cell_type": "code",
      "metadata": {
        "colab": {
          "base_uri": "https://localhost:8080/"
        },
        "id": "nDe57DwI6U91",
        "outputId": "d5488052-3f36-44c8-c6fc-89c4082c1e97"
      },
      "source": [
        "lwa=[5,10,15,20,25,30]\n",
        "lwa2=[i/5 for i in lwa]\n",
        "print(lwa2)"
      ],
      "execution_count": 40,
      "outputs": [
        {
          "output_type": "stream",
          "text": [
            "[1.0, 2.0, 3.0, 4.0, 5.0, 6.0]\n"
          ],
          "name": "stdout"
        }
      ]
    },
    {
      "cell_type": "code",
      "metadata": {
        "colab": {
          "base_uri": "https://localhost:8080/"
        },
        "id": "09xeoE6P66yC",
        "outputId": "843591d0-6e29-4f19-f143-efa83dc5c38a"
      },
      "source": [
        "pera=\"mama ama a ema\"\n",
        "pera2=[i for i in pera if i=='a']\n",
        "print(pera2)\n",
        "\n",
        "print(len(pera2))"
      ],
      "execution_count": 48,
      "outputs": [
        {
          "output_type": "stream",
          "text": [
            "['a', 'a', 'a', 'a', 'a', 'a']\n",
            "6\n"
          ],
          "name": "stdout"
        }
      ]
    }
  ]
}