{
  "nbformat": 4,
  "nbformat_minor": 0,
  "metadata": {
    "colab": {
      "name": "Clase9_Pandas.ipynb",
      "provenance": [],
      "authorship_tag": "ABX9TyPgRm5lntp2VpFu8bPo5U2y",
      "include_colab_link": true
    },
    "kernelspec": {
      "name": "python3",
      "display_name": "Python 3"
    },
    "language_info": {
      "name": "python"
    }
  },
  "cells": [
    {
      "cell_type": "markdown",
      "metadata": {
        "id": "view-in-github",
        "colab_type": "text"
      },
      "source": [
        "<a href=\"https://colab.research.google.com/github/IvoneForero/MDigitales/blob/main/Clase9_Pandas.ipynb\" target=\"_parent\"><img src=\"https://colab.research.google.com/assets/colab-badge.svg\" alt=\"Open In Colab\"/></a>"
      ]
    },
    {
      "cell_type": "markdown",
      "metadata": {
        "id": "sWeKBrX62tUW"
      },
      "source": [
        "17/agosto/2021"
      ]
    },
    {
      "cell_type": "markdown",
      "metadata": {
        "id": "77xmAg9pn00M"
      },
      "source": [
        "# **Libreria Pandas**\n",
        "\n"
      ]
    },
    {
      "cell_type": "markdown",
      "metadata": {
        "id": "wMzQ8Qbi2_df"
      },
      "source": [
        "Para poder entender Pandas se requiere conocer dos tipos de estructuras:\n",
        "\n",
        "1. Series\n",
        "2. DataFrame (conjunto de columnas o conjunto de series.\n",
        "3. Panel\n",
        "\n",
        "\n",
        "Las estructuras mas comunes son **Series y DataFrame**\n",
        "\n"
      ]
    },
    {
      "cell_type": "markdown",
      "metadata": {
        "id": "A3AD8GlD4STV"
      },
      "source": [
        "## **Series**\n",
        "\n",
        "---\n",
        "\n",
        "\n",
        "Se usan para modelar estructuras  **1D** similares a las listas en Python aunque tienen mayor número de bits, incluyendo indice y nombre.\n",
        "\n",
        "Pueden albergar strings, floats, booleans."
      ]
    },
    {
      "cell_type": "markdown",
      "metadata": {
        "id": "fA7bPRQAAoH6"
      },
      "source": [
        "![series.png](data:image/png;base64,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)"
      ]
    },
    {
      "cell_type": "code",
      "metadata": {
        "id": "b094UyQzBvSx"
      },
      "source": [
        "import pandas as pd"
      ],
      "execution_count": 13,
      "outputs": []
    },
    {
      "cell_type": "code",
      "metadata": {
        "colab": {
          "base_uri": "https://localhost:8080/"
        },
        "id": "kvkGRescB280",
        "outputId": "5494d48b-f28c-4779-f1dd-c84853b3a0b1"
      },
      "source": [
        "pd.Series([145,142,13])#con el *.Series* le indicamos que vamos a crear una serie."
      ],
      "execution_count": 14,
      "outputs": [
        {
          "output_type": "execute_result",
          "data": {
            "text/plain": [
              "0    145\n",
              "1    142\n",
              "2     13\n",
              "dtype: int64"
            ]
          },
          "metadata": {
            "tags": []
          },
          "execution_count": 14
        }
      ]
    },
    {
      "cell_type": "code",
      "metadata": {
        "colab": {
          "base_uri": "https://localhost:8080/"
        },
        "id": "YVqlzrIIDcCI",
        "outputId": "0ae4a149-b75d-475e-8bac-d1f85020b7d4"
      },
      "source": [
        "pd.Series(['a','b','c'])"
      ],
      "execution_count": 15,
      "outputs": [
        {
          "output_type": "execute_result",
          "data": {
            "text/plain": [
              "0    a\n",
              "1    b\n",
              "2    c\n",
              "dtype: object"
            ]
          },
          "metadata": {
            "tags": []
          },
          "execution_count": 15
        }
      ]
    },
    {
      "cell_type": "code",
      "metadata": {
        "id": "Wetfv98CnwHr",
        "colab": {
          "base_uri": "https://localhost:8080/"
        },
        "outputId": "9ca6b5d4-e8f1-4161-e80b-0e59660ebc5e"
      },
      "source": [
        "david = pd.Series([145,142,38,13],name= 'counts') \n",
        "print(type(david))\n",
        "david"
      ],
      "execution_count": 16,
      "outputs": [
        {
          "output_type": "stream",
          "text": [
            "<class 'pandas.core.series.Series'>\n"
          ],
          "name": "stdout"
        },
        {
          "output_type": "execute_result",
          "data": {
            "text/plain": [
              "0    145\n",
              "1    142\n",
              "2     38\n",
              "3     13\n",
              "Name: counts, dtype: int64"
            ]
          },
          "metadata": {
            "tags": []
          },
          "execution_count": 16
        }
      ]
    },
    {
      "cell_type": "code",
      "metadata": {
        "colab": {
          "base_uri": "https://localhost:8080/"
        },
        "id": "s6falg6fEPEo",
        "outputId": "1317b21c-0f7d-4146-8122-6fff9629ea9c"
      },
      "source": [
        "print(david.index)"
      ],
      "execution_count": 17,
      "outputs": [
        {
          "output_type": "stream",
          "text": [
            "RangeIndex(start=0, stop=4, step=1)\n"
          ],
          "name": "stdout"
        }
      ]
    },
    {
      "cell_type": "code",
      "metadata": {
        "id": "RRrD3Y59v3ih",
        "colab": {
          "base_uri": "https://localhost:8080/"
        },
        "outputId": "6b9bbb11-9080-4ae3-b9f8-cf28dd8ed6ee"
      },
      "source": [
        "print(david.values)"
      ],
      "execution_count": 18,
      "outputs": [
        {
          "output_type": "stream",
          "text": [
            "[145 142  38  13]\n"
          ],
          "name": "stdout"
        }
      ]
    },
    {
      "cell_type": "code",
      "metadata": {
        "colab": {
          "base_uri": "https://localhost:8080/"
        },
        "id": "cXuFFEiiEqpA",
        "outputId": "fa53b7a4-10ac-4d82-f749-7cc874d68cbf"
      },
      "source": [
        "print(type(david.values)) "
      ],
      "execution_count": 19,
      "outputs": [
        {
          "output_type": "stream",
          "text": [
            "<class 'numpy.ndarray'>\n"
          ],
          "name": "stdout"
        }
      ]
    },
    {
      "cell_type": "code",
      "metadata": {
        "colab": {
          "base_uri": "https://localhost:8080/"
        },
        "id": "yTriHwxYvrf4",
        "outputId": "a3e821ff-08a6-4ad5-96c7-ef226dfc4db2"
      },
      "source": [
        "# El indice no necesariamente tiene que ser un número.\n",
        "david3 = pd.Series([145,142,38,13],name='counts',\\\n",
        "                   index=['Juan','Pedro','Sofia','Andrea'])\n",
        "print(david3)\n",
        "print('   ')\n",
        "print(david3.values)\n",
        "print('   ')\n",
        "print(david3.index)"
      ],
      "execution_count": 20,
      "outputs": [
        {
          "output_type": "stream",
          "text": [
            "Juan      145\n",
            "Pedro     142\n",
            "Sofia      38\n",
            "Andrea     13\n",
            "Name: counts, dtype: int64\n",
            "   \n",
            "[145 142  38  13]\n",
            "   \n",
            "Index(['Juan', 'Pedro', 'Sofia', 'Andrea'], dtype='object')\n"
          ],
          "name": "stdout"
        }
      ]
    },
    {
      "cell_type": "code",
      "metadata": {
        "colab": {
          "base_uri": "https://localhost:8080/"
        },
        "id": "oEysJle-jicL",
        "outputId": "ecc8ea08-0967-44f2-e64b-62574c241eae"
      },
      "source": [
        "david3[['Andrea','Juan']] #Traemos valores de la lista anterior."
      ],
      "execution_count": 43,
      "outputs": [
        {
          "output_type": "execute_result",
          "data": {
            "text/plain": [
              "Andrea     13\n",
              "Juan      145\n",
              "Name: counts, dtype: int64"
            ]
          },
          "metadata": {
            "tags": []
          },
          "execution_count": 43
        }
      ]
    },
    {
      "cell_type": "markdown",
      "metadata": {
        "id": "BfeEiP0bH5tG"
      },
      "source": [
        "**Tambien puede albergar diferentes Objetos**"
      ]
    },
    {
      "cell_type": "code",
      "metadata": {
        "colab": {
          "base_uri": "https://localhost:8080/"
        },
        "id": "DyfbVHFVH3N1",
        "outputId": "1f5845f4-8ae8-4eb4-fdce-9f8399933ddd"
      },
      "source": [
        "class J:\n",
        "  pass\n",
        "pedro = pd.Series(['David','Fran',13, J()],\\\n",
        "                   name='JJ')\n",
        "pedro"
      ],
      "execution_count": 29,
      "outputs": [
        {
          "output_type": "execute_result",
          "data": {
            "text/plain": [
              "0                                    David\n",
              "1                                     Fran\n",
              "2                                       13\n",
              "3    <__main__.J object at 0x7ff9ee874d90>\n",
              "Name: JJ, dtype: object"
            ]
          },
          "metadata": {
            "tags": []
          },
          "execution_count": 29
        }
      ]
    },
    {
      "cell_type": "markdown",
      "metadata": {
        "id": "kVIdS7nbJRYm"
      },
      "source": [
        "Y que hay de los nulos"
      ]
    },
    {
      "cell_type": "code",
      "metadata": {
        "colab": {
          "base_uri": "https://localhost:8080/"
        },
        "id": "wHREGliBuQSS",
        "outputId": "1b97a589-fc99-4bb1-a557-2151c356010b"
      },
      "source": [
        "nan_ser = pd.Series([2, None],index=['0','c'])\n",
        "print(nan_ser)\n",
        "'''\n",
        "Fijarse que aparece float y es porqe los NAN solo se pueden estar en este tipo de dato'''\n",
        "nan_ser.count()"
      ],
      "execution_count": 21,
      "outputs": [
        {
          "output_type": "stream",
          "text": [
            "0    2.0\n",
            "c    NaN\n",
            "dtype: float64\n"
          ],
          "name": "stdout"
        },
        {
          "output_type": "execute_result",
          "data": {
            "text/plain": [
              "1"
            ]
          },
          "metadata": {
            "tags": []
          },
          "execution_count": 21
        }
      ]
    },
    {
      "cell_type": "markdown",
      "metadata": {
        "id": "gvzVd-vDTXSt"
      },
      "source": [
        "Para sacar series lo podemos hacer de diferentes maneras:\n",
        "\n",
        "Ejemplo:"
      ]
    },
    {
      "cell_type": "code",
      "metadata": {
        "colab": {
          "base_uri": "https://localhost:8080/"
        },
        "id": "EEB665C1JnP2",
        "outputId": "7e21bd6a-9a81-4ab3-d538-0b159fa9e75e"
      },
      "source": [
        "num_impa = pd.Series([1,3,5,7,9,11,13,15]) #por fecto pone los index de uno en uno\n",
        "print(num_impa)"
      ],
      "execution_count": 31,
      "outputs": [
        {
          "output_type": "stream",
          "text": [
            "0     1\n",
            "1     3\n",
            "2     5\n",
            "3     7\n",
            "4     9\n",
            "5    11\n",
            "6    13\n",
            "7    15\n",
            "dtype: int64\n"
          ],
          "name": "stdout"
        }
      ]
    },
    {
      "cell_type": "code",
      "metadata": {
        "colab": {
          "base_uri": "https://localhost:8080/"
        },
        "id": "MNkFAKUgmev5",
        "outputId": "4483c29c-d773-454d-ede1-e4cf7bfc5c48"
      },
      "source": [
        "num_impa[2:5] #traigo los valos del 2 al 5 con el index"
      ],
      "execution_count": 50,
      "outputs": [
        {
          "output_type": "execute_result",
          "data": {
            "text/plain": [
              "c    5\n",
              "d    7\n",
              "e    9\n",
              "dtype: int64"
            ]
          },
          "metadata": {
            "tags": []
          },
          "execution_count": 50
        }
      ]
    },
    {
      "cell_type": "code",
      "metadata": {
        "colab": {
          "base_uri": "https://localhost:8080/"
        },
        "id": "ErjzOImXnAld",
        "outputId": "0646240a-9de3-4b8f-b133-c30ee61fd390"
      },
      "source": [
        "print(num_impa[2:5])\n",
        "print(cindys['1968'])"
      ],
      "execution_count": 47,
      "outputs": [
        {
          "output_type": "stream",
          "text": [
            "c    5\n",
            "d    7\n",
            "e    9\n",
            "dtype: int64\n"
          ],
          "name": "stdout"
        }
      ]
    },
    {
      "cell_type": "code",
      "metadata": {
        "colab": {
          "base_uri": "https://localhost:8080/"
        },
        "id": "KfEp04uMU2R5",
        "outputId": "0f0b5ac1-df56-47fd-d55c-df40a67ad778"
      },
      "source": [
        "pd.Series([1,3,5,7,9,11,13,15]) #sin varibale y sin print tambien nos imprime los valores y tamb"
      ],
      "execution_count": 36,
      "outputs": [
        {
          "output_type": "execute_result",
          "data": {
            "text/plain": [
              "0     1\n",
              "1     3\n",
              "2     5\n",
              "3     7\n",
              "4     9\n",
              "5    11\n",
              "6    13\n",
              "7    15\n",
              "dtype: int64"
            ]
          },
          "metadata": {
            "tags": []
          },
          "execution_count": 36
        }
      ]
    },
    {
      "cell_type": "code",
      "metadata": {
        "colab": {
          "base_uri": "https://localhost:8080/"
        },
        "id": "dpb7M7ZxSePK",
        "outputId": "22353164-1173-4d15-9a5c-b925ccdc6ad4"
      },
      "source": [
        "num_impa = pd.Series([1,3,5,7,9,11,13,15], index=['a','b','c','d','e','f','g','h']) #aquí nosotros nombramos los index\n",
        "print(num_impa)"
      ],
      "execution_count": 35,
      "outputs": [
        {
          "output_type": "stream",
          "text": [
            "a     1\n",
            "b     3\n",
            "c     5\n",
            "d     7\n",
            "e     9\n",
            "f    11\n",
            "g    13\n",
            "h    15\n",
            "dtype: int64\n"
          ],
          "name": "stdout"
        }
      ]
    },
    {
      "cell_type": "code",
      "metadata": {
        "colab": {
          "base_uri": "https://localhost:8080/"
        },
        "id": "MLd_FnnsS75S",
        "outputId": "46b32ac7-7f3d-45be-dcf8-6acef68d0ea5"
      },
      "source": [
        "num_impa = pd.Series(range(1,16,2), index=['a','b','c','d','e','f','g','h']) #aquí ponemos un rango para no nombrar uno por uno los valores\n",
        "print(num_impa)"
      ],
      "execution_count": 34,
      "outputs": [
        {
          "output_type": "stream",
          "text": [
            "a     1\n",
            "b     3\n",
            "c     5\n",
            "d     7\n",
            "e     9\n",
            "f    11\n",
            "g    13\n",
            "h    15\n",
            "dtype: int64\n"
          ],
          "name": "stdout"
        }
      ]
    },
    {
      "cell_type": "code",
      "metadata": {
        "id": "v9S39WuhVglS"
      },
      "source": [
        ""
      ],
      "execution_count": null,
      "outputs": []
    },
    {
      "cell_type": "markdown",
      "metadata": {
        "id": "gjxismgScCbc"
      },
      "source": [
        "El objeto **Series** es mucho mas rapido, consume menos memoria y tiene mas metodos que una lista.\n",
        "\n",
        "También tiene muchas similitudes con **Numpy array**."
      ]
    },
    {
      "cell_type": "markdown",
      "metadata": {
        "id": "aRYUi9NCc8Jl"
      },
      "source": [
        "# Proceso CLAB(Creación, Lectura, Actualización, Borrado)"
      ]
    },
    {
      "cell_type": "markdown",
      "metadata": {
        "id": "pw8Jr1bAdUHY"
      },
      "source": [
        "**1. Creación**"
      ]
    },
    {
      "cell_type": "code",
      "metadata": {
        "colab": {
          "base_uri": "https://localhost:8080/"
        },
        "id": "s3Xzk8jOdR3e",
        "outputId": "ef9110bd-3faf-4877-de26-720dee21fcd0"
      },
      "source": [
        "cindys = pd.Series([10,7,1,22],\\\n",
        "                   index=['1968','1969','1970','1970'],\\\n",
        "                   name='Per')\n",
        "print(cindys)\n",
        "print('   ')\n",
        "#Que hay si necesito guardar multiples entradas en mi serie?\n",
        "g2 = pd.Series({'1969':7,'1970':[1,22]},index=['1969','1970','1970'])\n",
        "print(g2)\n"
      ],
      "execution_count": 39,
      "outputs": [
        {
          "output_type": "stream",
          "text": [
            "1968    10\n",
            "1969     7\n",
            "1970     1\n",
            "1970    22\n",
            "Name: Per, dtype: int64\n",
            "   \n",
            "1969          7\n",
            "1970    [1, 22]\n",
            "1970    [1, 22]\n",
            "dtype: object\n"
          ],
          "name": "stdout"
        }
      ]
    },
    {
      "cell_type": "code",
      "metadata": {
        "colab": {
          "base_uri": "https://localhost:8080/"
        },
        "id": "sTJcL5EMmA26",
        "outputId": "c2c94dd9-54bb-4e33-9be4-f6098a5f2777"
      },
      "source": [
        "g2['1970'] # como hay dos valores iguales, me trae los dos"
      ],
      "execution_count": 44,
      "outputs": [
        {
          "output_type": "execute_result",
          "data": {
            "text/plain": [
              "1970    [1, 22]\n",
              "1970    [1, 22]\n",
              "dtype: object"
            ]
          },
          "metadata": {
            "tags": []
          },
          "execution_count": 44
        }
      ]
    },
    {
      "cell_type": "markdown",
      "metadata": {
        "id": "RhUpgvNRfeDk"
      },
      "source": [
        "**2. Lectura**"
      ]
    },
    {
      "cell_type": "code",
      "metadata": {
        "colab": {
          "base_uri": "https://localhost:8080/"
        },
        "id": "g2e6ppqmfkmU",
        "outputId": "67c0c0c2-84c1-4615-b881-f989bcde127c"
      },
      "source": [
        "print(cindys['1968']) #Llamo un solo valor din el index de las lista anterior *cyndys*"
      ],
      "execution_count": 40,
      "outputs": [
        {
          "output_type": "stream",
          "text": [
            "10\n"
          ],
          "name": "stdout"
        }
      ]
    },
    {
      "cell_type": "markdown",
      "metadata": {
        "id": "4StzO0cVfzV0"
      },
      "source": [
        "Procesos iterativos"
      ]
    },
    {
      "cell_type": "code",
      "metadata": {
        "colab": {
          "base_uri": "https://localhost:8080/"
        },
        "id": "ruZJfSSyf2Us",
        "outputId": "7dbac827-c99a-4fad-c35b-5a41399186e4"
      },
      "source": [
        "for i in cindys:\n",
        "  print(i)"
      ],
      "execution_count": 41,
      "outputs": [
        {
          "output_type": "stream",
          "text": [
            "10\n",
            "7\n",
            "1\n",
            "22\n"
          ],
          "name": "stdout"
        }
      ]
    },
    {
      "cell_type": "code",
      "metadata": {
        "id": "U9dIvKUs4afL"
      },
      "source": [
        "impares_dos=pd.Series(range(1,16,2))\n",
        "print(impares_dos)\n",
        "impares_dos[2:5]"
      ],
      "execution_count": null,
      "outputs": []
    },
    {
      "cell_type": "code",
      "metadata": {
        "id": "pIZIaliqBUSa"
      },
      "source": [
        "fechas_nac =pd.to_datetime(pd.Series(['02-26-1993', '01/05/1968','10/26/1970'],index=['yo','mamá','papá']))\n",
        "fechas_nac"
      ],
      "execution_count": null,
      "outputs": []
    }
  ]
}