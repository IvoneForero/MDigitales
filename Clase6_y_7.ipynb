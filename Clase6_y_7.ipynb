{
  "nbformat": 4,
  "nbformat_minor": 0,
  "metadata": {
    "colab": {
      "name": "Clase6_y_7.ipynb",
      "provenance": [],
      "authorship_tag": "ABX9TyN9CAcJtW1aUz2EUBmM0Q9r",
      "include_colab_link": true
    },
    "kernelspec": {
      "name": "python3",
      "display_name": "Python 3"
    },
    "language_info": {
      "name": "python"
    }
  },
  "cells": [
    {
      "cell_type": "markdown",
      "metadata": {
        "id": "view-in-github",
        "colab_type": "text"
      },
      "source": [
        "<a href=\"https://colab.research.google.com/github/IvoneForero/MDigitales/blob/main/Clase6_y_7.ipynb\" target=\"_parent\"><img src=\"https://colab.research.google.com/assets/colab-badge.svg\" alt=\"Open In Colab\"/></a>"
      ]
    },
    {
      "cell_type": "markdown",
      "metadata": {
        "id": "8Ii3i6_imDk5"
      },
      "source": [
        "\n",
        "11/AGOSTO/2021\n",
        "**CONTINUACIÓN DE LOS EJEMPLOS DEL USO DE LISTA DE COMPRESIÓN**\n",
        "\n",
        "# COMPRENSIÓN DE CONJUNTOS\n",
        "\n",
        "\n",
        "\n",
        "La compresión de conjuntos es muy similar a la que veniamos manejando con listas. La unica diferencia es que se usa los { }  (corchetes).\n",
        "\n",
        "**Nota:** Recordemos que los conjuntos tambien enominados *sets* no permiten duplicados, es decir cada elemento es unico, si se llega añadir un elemento repetido, no arrojaraá error pero no se mostrará en el *print*"
      ]
    },
    {
      "cell_type": "code",
      "metadata": {
        "colab": {
          "base_uri": "https://localhost:8080/"
        },
        "id": "Wt2ig0FFl-el",
        "outputId": "3f5f17af-d682-40c2-f0e8-21af34ff66cf"
      },
      "source": [
        "sa=\"ema, ama, mama\"\n",
        "sa2= {i for i in sa if i ==\"m\"}\n",
        "print(sa2)"
      ],
      "execution_count": null,
      "outputs": [
        {
          "output_type": "stream",
          "text": [
            "{'m'}\n"
          ],
          "name": "stdout"
        }
      ]
    },
    {
      "cell_type": "markdown",
      "metadata": {
        "id": "vXwi7b8vqaPr"
      },
      "source": [
        "Ahora veamos a continuación el caso de diccionarios de comprensión.\n",
        "\n",
        "**Nota:** texto en negritala unica diferecia que tiene respecto a las listas de comprensión es la especificación de llaves o claves (key)."
      ]
    },
    {
      "cell_type": "code",
      "metadata": {
        "colab": {
          "base_uri": "https://localhost:8080/"
        },
        "id": "sFY4LM7mqyrh",
        "outputId": "7ad7172f-e5df-408e-b0a2-9fedc71ce086"
      },
      "source": [
        "lista=['nombre', 'apellido', 'ciudad']\n",
        "lista2=['Ana', 'Rodriguez', 'Popayan']\n",
        "\n",
        "dic={i:j for i,j in zip(lista,lista2)}\n",
        "print(dic)"
      ],
      "execution_count": null,
      "outputs": [
        {
          "output_type": "stream",
          "text": [
            "{'nombre': 'Ana', 'apellido': 'Rodriguez', 'ciudad': 'Popayan'}\n"
          ],
          "name": "stdout"
        }
      ]
    },
    {
      "cell_type": "markdown",
      "metadata": {
        "id": "fo5VoTmTryrb"
      },
      "source": [
        "Pudimos observar que añadiendo los : asignaos un valor a la llave declarada a su vez usamos **zip()** el cual tiene como función iterar dos listas en paralelo. Es decir con**zip** podemos convertir dos listas en un diccionario y el **for** se manejaria iterando dos valores en simultaneo"
      ]
    },
    {
      "cell_type": "markdown",
      "metadata": {
        "id": "AMdiyC2rsdIT"
      },
      "source": [
        "**OTRAS ESTRUCTURAS DE CONTROL**\n",
        "\n",
        "1. Switch\n",
        "2. Break\n",
        "3. Continue\n",
        "4. Complemento de iteración (enumerate).\n",
        "\n",
        "**1. Switch**\n",
        "\n",
        "El switch es una herramienta que  permite ejecutar diferentes secciones de código dependiendo de las condiciones impuestas (en otros lenguajes de programación).\n",
        "Su función es muy similar a usar if anidados o varios por separado al mismo tiempo.\n",
        "\n",
        "Sin embargo en Python no hay un Switch directo\n",
        "\n",
        "**2. Break**\n",
        "\n",
        "Nos permite alterar el comportamiento de los ciclos de **while** y **for**. Directamente su función es la de finalizar los ciclos."
      ]
    },
    {
      "cell_type": "code",
      "metadata": {
        "colab": {
          "base_uri": "https://localhost:8080/"
        },
        "id": "j7Dj4uBmtzw8",
        "outputId": "809cc6d5-8e50-4a10-a625-9ce1d4b4c853"
      },
      "source": [
        "x= \"Andrea\"\n",
        "for i in x:\n",
        "  if i==\"e\":\n",
        "   print(\"Se obtuvo la letra e\")\n",
        "   break\n",
        "  print(i)"
      ],
      "execution_count": null,
      "outputs": [
        {
          "output_type": "stream",
          "text": [
            "A\n",
            "n\n",
            "d\n",
            "r\n",
            "Se obtuvo la letra e\n"
          ],
          "name": "stdout"
        }
      ]
    },
    {
      "cell_type": "code",
      "metadata": {
        "colab": {
          "base_uri": "https://localhost:8080/"
        },
        "id": "dQgSwTyxu-8m",
        "outputId": "75684fcf-7ee2-4a7a-df32-76e27f3e1137"
      },
      "source": [
        "x=15\n",
        "while True:\n",
        "  x -=1\n",
        "  print(x)\n",
        "  if x==0:\n",
        "    break\n",
        "print(\"Se finaliza ciclo\")"
      ],
      "execution_count": null,
      "outputs": [
        {
          "output_type": "stream",
          "text": [
            "14\n",
            "13\n",
            "12\n",
            "11\n",
            "10\n",
            "9\n",
            "8\n",
            "7\n",
            "6\n",
            "5\n",
            "4\n",
            "3\n",
            "2\n",
            "1\n",
            "0\n",
            "Se finaliza ciclo\n"
          ],
          "name": "stdout"
        }
      ]
    },
    {
      "cell_type": "code",
      "metadata": {
        "colab": {
          "base_uri": "https://localhost:8080/"
        },
        "id": "PrNzjzRVwX-2",
        "outputId": "7a0dcf86-ce11-4652-ed2e-d613c3fc8b93"
      },
      "source": [
        "##Uso de break con los ciclos anidados:\n",
        "\n",
        "for i in range(1,8):\n",
        "  for j in range(1,8):\n",
        "    break\n",
        "  print(i,j)\n",
        "\n",
        "  # El BREAK no afecta el for exterior. Rompe el ciclo anidado en su conjunto pero no afecta directamente el ciclo exterior."
      ],
      "execution_count": null,
      "outputs": [
        {
          "output_type": "stream",
          "text": [
            "1 1\n",
            "2 1\n",
            "3 1\n",
            "4 1\n",
            "5 1\n",
            "6 1\n",
            "7 1\n"
          ],
          "name": "stdout"
        }
      ]
    },
    {
      "cell_type": "markdown",
      "metadata": {
        "id": "9IBczPQixvVe"
      },
      "source": [
        "**2. CONTINUE**\n",
        "---\n",
        "\n",
        "El **continue** se salata todo el código restante en la iteración actual y vuelve al principio en caso de quede elementos por iterar.\n",
        "\n",
        "Diferencias entre  **break** y **continue**:\n",
        "\n",
        "La principal diferencia es que **continue** no rompe el ciclo si no que pasa a la iteración pendiente.\n",
        "\n",
        "\n"
      ]
    },
    {
      "cell_type": "code",
      "metadata": {
        "colab": {
          "base_uri": "https://localhost:8080/"
        },
        "id": "tFX4_FVnyer0",
        "outputId": "b475bc72-5772-4e5d-ee2a-94de67260dc1"
      },
      "source": [
        "x=\"Andrea\"\n",
        "for i in x:\n",
        "  if i==\"r\":\n",
        "    continue\n",
        "  print(i)"
      ],
      "execution_count": null,
      "outputs": [
        {
          "output_type": "stream",
          "text": [
            "A\n",
            "n\n",
            "d\n",
            "e\n",
            "a\n"
          ],
          "name": "stdout"
        }
      ]
    },
    {
      "cell_type": "code",
      "metadata": {
        "colab": {
          "base_uri": "https://localhost:8080/"
        },
        "id": "Tmkq-AUOy6Hd",
        "outputId": "88a7429d-fbd7-4124-bb74-057f1e6d7aab"
      },
      "source": [
        "x=15\n",
        "while x>0:\n",
        "  x -=1\n",
        "  if x==3:\n",
        "    continue\n",
        "  print(x)"
      ],
      "execution_count": null,
      "outputs": [
        {
          "output_type": "stream",
          "text": [
            "14\n",
            "13\n",
            "12\n",
            "11\n",
            "10\n",
            "9\n",
            "8\n",
            "7\n",
            "6\n",
            "5\n",
            "4\n",
            "2\n",
            "1\n",
            "0\n"
          ],
          "name": "stdout"
        }
      ]
    },
    {
      "cell_type": "markdown",
      "metadata": {
        "id": "hwJFj_axzUZo"
      },
      "source": [
        "**3. Iterar con enumerate**\n",
        "---\n",
        "\n",
        "Python nos permite iterar colecciones de objetos y eementos de la misma forma.\n",
        "Sin embargo hay una opción que es que en algunas situaciones que queramos acceder a un elemento ordenado podemos hacerlo nombrando el indice de cada elemento llamado.\n"
      ]
    },
    {
      "cell_type": "code",
      "metadata": {
        "colab": {
          "base_uri": "https://localhost:8080/"
        },
        "id": "nwUr8ij1z3dW",
        "outputId": "28d9e12f-7174-4d91-91bb-9a482e9c5f1e"
      },
      "source": [
        "w=[\"sa\", \"se\",\"si\", \"so\", \"su\"]\n",
        "indice=0\n",
        "for i in w:\n",
        "  print(indice,i)\n",
        "  indice +=1"
      ],
      "execution_count": null,
      "outputs": [
        {
          "output_type": "stream",
          "text": [
            "0 sa\n",
            "1 se\n",
            "2 si\n",
            "3 so\n",
            "4 su\n"
          ],
          "name": "stdout"
        }
      ]
    },
    {
      "cell_type": "code",
      "metadata": {
        "colab": {
          "base_uri": "https://localhost:8080/"
        },
        "id": "qgeH6ujy0ayg",
        "outputId": "8ebce936-d677-4058-8f8d-ad02e9267281"
      },
      "source": [
        "w=[\"sa\", \"se\",\"si\", \"so\", \"su\"]\n",
        "for indice, i in enumerate(w):\n",
        "  print(indice,i)\n",
        "\n",
        "x=list(enumerate(w))\n",
        "print(x)\n",
        "\n",
        " "
      ],
      "execution_count": null,
      "outputs": [
        {
          "output_type": "stream",
          "text": [
            "0 sa\n",
            "1 se\n",
            "2 si\n",
            "3 so\n",
            "4 su\n",
            "[(0, 'sa'), (1, 'se'), (2, 'si'), (3, 'so'), (4, 'su')]\n"
          ],
          "name": "stdout"
        }
      ]
    },
    {
      "cell_type": "markdown",
      "metadata": {
        "id": "k6mM5OEd1sLI"
      },
      "source": [
        "**Uso zip()**\n",
        "\n",
        "---\n",
        "\n",
        "Si pasamos dos listas  a zip, el resultado será una tupla dondecada elemento tendra ----- cada uno de los elementos  de las entradas.\n",
        "\n",
        "\n",
        "\n",
        "\n",
        "\n"
      ]
    },
    {
      "cell_type": "code",
      "metadata": {
        "colab": {
          "base_uri": "https://localhost:8080/"
        },
        "id": "WhV6lxC22JQP",
        "outputId": "de69acf7-e527-431f-c08b-e319b6549b6c"
      },
      "source": [
        "a=[1,2,3]\n",
        "b=[\"a\",\"b\",\"c\"]\n",
        "x=[\"q\",\"w\",\"e\"]\n",
        "z=[10,20,30]\n",
        "c=zip(a,b)\n",
        "print(list(c))\n",
        "\n",
        "for i, j, m,n in zip(a,b,x,z):\n",
        "  print(\"Número\",i,\"letras\",j,m,n)"
      ],
      "execution_count": null,
      "outputs": [
        {
          "output_type": "stream",
          "text": [
            "[(1, 'a'), (2, 'b'), (3, 'c')]\n",
            "Número 1 letras a q 10\n",
            "Número 2 letras b w 20\n",
            "Número 3 letras c e 30\n"
          ],
          "name": "stdout"
        }
      ]
    },
    {
      "cell_type": "code",
      "metadata": {
        "colab": {
          "base_uri": "https://localhost:8080/"
        },
        "id": "A8eWXMBI4Qn_",
        "outputId": "649f68cf-48cb-4e24-912f-f361c8727304"
      },
      "source": [
        "a=[1,2,3]\n",
        "b=[\"a\",\"b\"]\n",
        "for sa, se in zip(a,b):\n",
        "  print(sa, se)"
      ],
      "execution_count": null,
      "outputs": [
        {
          "output_type": "stream",
          "text": [
            "1 a\n",
            "2 b\n"
          ],
          "name": "stdout"
        }
      ]
    },
    {
      "cell_type": "code",
      "metadata": {
        "colab": {
          "base_uri": "https://localhost:8080/"
        },
        "id": "Gdus6Tae4ziB",
        "outputId": "9bff49f0-11a1-45f3-aa54-beae0374091a"
      },
      "source": [
        "c=[(1, \"a\"),(2, \"b\"),(3, \"c\")]\n",
        "a,b=zip(*c)\n",
        "print(a)\n",
        "print(b)\n",
        "\n",
        "\n",
        "\n"
      ],
      "execution_count": null,
      "outputs": [
        {
          "output_type": "stream",
          "text": [
            "(1, 2, 3)\n",
            "('a', 'b', 'c')\n"
          ],
          "name": "stdout"
        }
      ]
    },
    {
      "cell_type": "markdown",
      "metadata": {
        "id": "HiLV8rI76Rbf"
      },
      "source": [
        "# **FUNCIONES **\n",
        "\n",
        "La función nos permite ordenar de manera adecuada la negación de objetos y bloques de código por ciclos y demás estructura.\n",
        "\n",
        "la sintaxis es la siguiente:\n",
        "\n",
        "**def nombre_funcion(argumentos):**  (codigo\n",
        "\n",
        "**nombre_funcion(argumento2)**"
      ]
    },
    {
      "cell_type": "code",
      "metadata": {
        "colab": {
          "base_uri": "https://localhost:8080/"
        },
        "id": "ohCQWcG166BJ",
        "outputId": "fdbbd4da-fd9c-4029-e9b2-0ba26b1eae89"
      },
      "source": [
        "def f(a):\n",
        "  return 2*a\n",
        "y=f (3)\n",
        "print(y)"
      ],
      "execution_count": null,
      "outputs": [
        {
          "output_type": "stream",
          "text": [
            "6\n"
          ],
          "name": "stdout"
        }
      ]
    },
    {
      "cell_type": "markdown",
      "metadata": {
        "id": "6RAJgzdz7gN3"
      },
      "source": [
        "Las funciones no solo realizan una operación con sus entradas (argumentos de inicio). Sino también parten de los siguientes principios:\n",
        "\n",
        "**1. Reusabilidad:** Si tenemos un fragmento de código usado en muchos sitios y se guarda en una función, nos evitará tener códigos repetidos, además de la conveniencia que tiene puede  ser facilmente editable.\n",
        "\n",
        "**2. Modularidad:** Permite legibilidad de forma más sencilla, es decir, los largos bloques de codigo se pueden agrupar en modulos o funciones y la lectura va a ser mucho mas sencilla."
      ]
    },
    {
      "cell_type": "code",
      "metadata": {
        "colab": {
          "base_uri": "https://localhost:8080/"
        },
        "id": "OYgPEiUA8otD",
        "outputId": "418ccb1d-c55a-4fbc-8ace-fe073ea1e0ca"
      },
      "source": [
        "# Ejemplo 1: Función sin argumentos de entrada ni parametros de salida:\n",
        "\n",
        "def s(): #Declaración de finción\n",
        "  print(\"Hi Ivon\")\n",
        "s() # Al cerrar la definición de función me va aparecer la ejecución del codigo\n",
        "\n"
      ],
      "execution_count": null,
      "outputs": [
        {
          "output_type": "stream",
          "text": [
            "Hi Ivon\n"
          ],
          "name": "stdout"
        }
      ]
    },
    {
      "cell_type": "code",
      "metadata": {
        "colab": {
          "base_uri": "https://localhost:8080/"
        },
        "id": "PhrdRwBJ9K_5",
        "outputId": "650ba37e-6d0a-4fb9-e460-571b52fdfa1b"
      },
      "source": [
        "#Ejemplo  2: Incluir argumentos de entrada\n",
        "\n",
        "def s(apellido):\n",
        "  print(\"Hola Ivon\", apellido)\n",
        "s(\"Forero\")"
      ],
      "execution_count": null,
      "outputs": [
        {
          "output_type": "stream",
          "text": [
            "Hola Ivon Forero\n"
          ],
          "name": "stdout"
        }
      ]
    },
    {
      "cell_type": "code",
      "metadata": {
        "colab": {
          "base_uri": "https://localhost:8080/"
        },
        "id": "corCvZmu9zHi",
        "outputId": "0c7f2cee-32a6-4201-e05d-b6f63ced3c93"
      },
      "source": [
        "#Ejemplo 3. usando dos argumentos de entrada y salida y operaciones matematicas\n",
        "\n",
        "def suma(a,b):\n",
        "  return a+b\n",
        "  dog(3,5)"
      ],
      "execution_count": null,
      "outputs": [
        {
          "output_type": "execute_result",
          "data": {
            "text/plain": [
              "8"
            ]
          },
          "metadata": {
            "tags": []
          },
          "execution_count": 48
        }
      ]
    },
    {
      "cell_type": "code",
      "metadata": {
        "colab": {
          "base_uri": "https://localhost:8080/"
        },
        "id": "mUB_5x-i-zva",
        "outputId": "c8cbbc7d-ccb5-4255-9cd1-f9b829ede61f"
      },
      "source": [
        "#Ejemplo 4. Reusabilidad del código \n",
        "suma(a=4, b=20)"
      ],
      "execution_count": null,
      "outputs": [
        {
          "output_type": "execute_result",
          "data": {
            "text/plain": [
              "24"
            ]
          },
          "metadata": {
            "tags": []
          },
          "execution_count": 49
        }
      ]
    },
    {
      "cell_type": "code",
      "metadata": {
        "colab": {
          "base_uri": "https://localhost:8080/"
        },
        "id": "kwqdv0Xv_WTL",
        "outputId": "e4e9eff8-7d5d-4f2f-f8c1-123c1b538800"
      },
      "source": [
        "#Ejemplo 5. Argumentos fijos desde el inicio\n",
        "\n",
        "def suma(a,b,c,d=1): ## Corrección de default\n",
        "  return a+b+c+d\n",
        "suma(2,3,4,2)\n",
        " "
      ],
      "execution_count": null,
      "outputs": [
        {
          "output_type": "execute_result",
          "data": {
            "text/plain": [
              "11"
            ]
          },
          "metadata": {
            "tags": []
          },
          "execution_count": 53
        }
      ]
    },
    {
      "cell_type": "code",
      "metadata": {
        "colab": {
          "base_uri": "https://localhost:8080/"
        },
        "id": "8y52KD03AxqU",
        "outputId": "8a4e1d28-c3df-4329-a024-91e1826ba68e"
      },
      "source": [
        "def suma(a=2, b=3, c=4, d=5,):\n",
        "  return a+b+c+d\n",
        "suma()\n",
        "\n",
        "suma(1)\n",
        "suma(1,5)"
      ],
      "execution_count": null,
      "outputs": [
        {
          "output_type": "execute_result",
          "data": {
            "text/plain": [
              "15"
            ]
          },
          "metadata": {
            "tags": []
          },
          "execution_count": 60
        }
      ]
    },
    {
      "cell_type": "code",
      "metadata": {
        "colab": {
          "base_uri": "https://localhost:8080/"
        },
        "id": "81vIWOsoBhMD",
        "outputId": "913f0f41-ba35-43ee-e48e-b769b6b99fcd"
      },
      "source": [
        "#Ejemplo 5 Argumento de longitud variable\n",
        "\n",
        "def suma(number):\n",
        "  total=0\n",
        "  for i in number:\n",
        "    total +=i\n",
        "  return total\n",
        "suma([1,3,5,4])\n"
      ],
      "execution_count": 21,
      "outputs": [
        {
          "output_type": "execute_result",
          "data": {
            "text/plain": [
              "13"
            ]
          },
          "metadata": {
            "tags": []
          },
          "execution_count": 21
        }
      ]
    },
    {
      "cell_type": "markdown",
      "metadata": {
        "id": "ryDQeajCC3js"
      },
      "source": [
        "Se realizó la suma de todos los números de entrada.\n",
        "Para ello la declaración de los argumentos de salida sería como una lista.\n",
        "\n",
        "La forma de sintaxis anterior es valida, sin embargo tenemos un solo argumento que es una lista de números. \n",
        "\n",
        "Si declaramos un argumento con *, esto hará que el argumento sea guardado como tupla de manera automatica."
      ]
    },
    {
      "cell_type": "code",
      "metadata": {
        "colab": {
          "base_uri": "https://localhost:8080/"
        },
        "id": "U2s_V8w_Duwe",
        "outputId": "7274b2c0-9465-43e0-a430-2b0f89bd03e8"
      },
      "source": [
        "def suma(*number):\n",
        "  print(type(number))\n",
        "  total=0\n",
        "  for i in number:\n",
        "    total+=i\n",
        "  return total\n",
        "\n",
        "suma(2,3,5,4)"
      ],
      "execution_count": null,
      "outputs": [
        {
          "output_type": "stream",
          "text": [
            "<class 'tuple'>\n"
          ],
          "name": "stdout"
        },
        {
          "output_type": "execute_result",
          "data": {
            "text/plain": [
              "14"
            ]
          },
          "metadata": {
            "tags": []
          },
          "execution_count": 63
        }
      ]
    },
    {
      "cell_type": "markdown",
      "metadata": {
        "id": "q85WhJuYz4UX"
      },
      "source": [
        "\n",
        "---\n",
        "\n",
        "\n",
        "12/agosto/2021     --- **Clase #7**\n",
        "\n",
        "\n",
        "---\n",
        "\n",
        "\n",
        "# **Continuación de funciones**\n",
        "\n",
        "\n",
        "\n",
        "\n"
      ]
    },
    {
      "cell_type": "code",
      "metadata": {
        "colab": {
          "base_uri": "https://localhost:8080/",
          "height": 180
        },
        "id": "vkYnlMp311rC",
        "outputId": "79c333fa-57f5-4cd2-ded8-472513db4ca9"
      },
      "source": [
        "suma(1,2,5,6,7,9) ## Al realizar el cambio de la función suma que veniamos usando se puede añadir en elementos para iterar la función definida.\n"
      ],
      "execution_count": 22,
      "outputs": [
        {
          "output_type": "error",
          "ename": "TypeError",
          "evalue": "ignored",
          "traceback": [
            "\u001b[0;31m---------------------------------------------------------------------------\u001b[0m",
            "\u001b[0;31mTypeError\u001b[0m                                 Traceback (most recent call last)",
            "\u001b[0;32m<ipython-input-22-aa2e9f1fb2e3>\u001b[0m in \u001b[0;36m<module>\u001b[0;34m()\u001b[0m\n\u001b[0;32m----> 1\u001b[0;31m \u001b[0msuma\u001b[0m\u001b[0;34m(\u001b[0m\u001b[0;36m1\u001b[0m\u001b[0;34m,\u001b[0m\u001b[0;36m2\u001b[0m\u001b[0;34m,\u001b[0m\u001b[0;36m5\u001b[0m\u001b[0;34m,\u001b[0m\u001b[0;36m6\u001b[0m\u001b[0;34m,\u001b[0m\u001b[0;36m7\u001b[0m\u001b[0;34m,\u001b[0m\u001b[0;36m9\u001b[0m\u001b[0;34m)\u001b[0m \u001b[0;31m## Al realizar el cambio de la función suma que veniamos usando se puede añadir en elementos para iterar la función definida.\u001b[0m\u001b[0;34m\u001b[0m\u001b[0;34m\u001b[0m\u001b[0m\n\u001b[0m",
            "\u001b[0;31mTypeError\u001b[0m: suma() takes 1 positional argument but 6 were given"
          ]
        }
      ]
    },
    {
      "cell_type": "markdown",
      "metadata": {
        "id": "sEp1y6_I2h0J"
      },
      "source": [
        "El uso del doble **  nos permite tener como paramertro de entrada  una lista de elemntos en forma de clave y valor.\n",
        "La foema de iterar sera usdando el comando **item()**"
      ]
    },
    {
      "cell_type": "code",
      "metadata": {
        "colab": {
          "base_uri": "https://localhost:8080/"
        },
        "id": "NvjxlyMi20hB",
        "outputId": "bfdef7ef-eb57-489b-f24c-209cf4ea6c58"
      },
      "source": [
        "def suma(**dado):\n",
        "  suma=0;\n",
        "  for i,j in dado.items():\n",
        "    suma +=j\n",
        "  return suma\n",
        "suma(a=3, b=30, c=7)"
      ],
      "execution_count": 4,
      "outputs": [
        {
          "output_type": "execute_result",
          "data": {
            "text/plain": [
              "40"
            ]
          },
          "metadata": {
            "tags": []
          },
          "execution_count": 4
        }
      ]
    },
    {
      "cell_type": "markdown",
      "metadata": {
        "id": "HdpRyhld37Sy"
      },
      "source": [
        "**Ampliemos la definición del comando RETURN**\n",
        "\n",
        "\n",
        "---\n",
        "\n",
        "1. Devolver parámetros.\n",
        " \n"
      ]
    },
    {
      "cell_type": "code",
      "metadata": {
        "colab": {
          "base_uri": "https://localhost:8080/",
          "height": 35
        },
        "id": "xHFOUYrb4XX5",
        "outputId": "11da772f-24a8-473c-89e6-0be606474cae"
      },
      "source": [
        "def w():\n",
        "  return \"Hi\"\n",
        "w()  "
      ],
      "execution_count": 6,
      "outputs": [
        {
          "output_type": "execute_result",
          "data": {
            "application/vnd.google.colaboratory.intrinsic+json": {
              "type": "string"
            },
            "text/plain": [
              "'Hi'"
            ]
          },
          "metadata": {
            "tags": []
          },
          "execution_count": 6
        }
      ]
    },
    {
      "cell_type": "markdown",
      "metadata": {
        "id": "mVfhLihV4nyt"
      },
      "source": [
        "2. Devolver varias variables."
      ]
    },
    {
      "cell_type": "code",
      "metadata": {
        "colab": {
          "base_uri": "https://localhost:8080/"
        },
        "id": "9itLC0pd41y5",
        "outputId": "60f4ab00-d868-446b-ae88-fce83a0373e7"
      },
      "source": [
        "def sd(a,b,c):\n",
        "  q=a+b+c # declaración de variable con una suma de argumentos\n",
        "  z=q/3  #Declaración de variables con el promedio\n",
        "  return q,z\n",
        "q,z=sd(2,4,6)\n",
        "print(q)\n",
        "print(z)"
      ],
      "execution_count": 7,
      "outputs": [
        {
          "output_type": "stream",
          "text": [
            "12\n",
            "4.0\n"
          ],
          "name": "stdout"
        }
      ]
    },
    {
      "cell_type": "markdown",
      "metadata": {
        "id": "eAyNYosN5kEF"
      },
      "source": [
        "**Formas de hacer documentación en programación y por bloques de código o línea**\n",
        "\n",
        "\n",
        "\n",
        "\n"
      ]
    },
    {
      "cell_type": "code",
      "metadata": {
        "colab": {
          "base_uri": "https://localhost:8080/"
        },
        "id": "eaNcrfrx58mx",
        "outputId": "1044292a-856f-4d38-ba39-7ccb0bdb7347"
      },
      "source": [
        "def paula(a,b):\n",
        "  \"\"\"\n",
        "  Puede ir la descripción de la función, los parametros que se van a usar, \n",
        "  explicar como se usa y que operaciones devuelve esta función.\n",
        "  \"\"\"\n",
        "  return a+b\n",
        "paula(2,3)\n",
        "\n"
      ],
      "execution_count": 10,
      "outputs": [
        {
          "output_type": "execute_result",
          "data": {
            "text/plain": [
              "5"
            ]
          },
          "metadata": {
            "tags": []
          },
          "execution_count": 10
        }
      ]
    },
    {
      "cell_type": "code",
      "metadata": {
        "colab": {
          "base_uri": "https://localhost:8080/"
        },
        "id": "KQjcHabv7Egj",
        "outputId": "f912be3f-7e4d-44cf-98ea-2094a96a8ff2"
      },
      "source": [
        "help(paula)"
      ],
      "execution_count": 11,
      "outputs": [
        {
          "output_type": "stream",
          "text": [
            "Help on function paula in module __main__:\n",
            "\n",
            "paula(a, b)\n",
            "    Puede ir la descripción de la función, los parametros que se van a usar, \n",
            "    explicar como se usa y que operaciones devuelve esta función.\n",
            "\n"
          ],
          "name": "stdout"
        }
      ]
    },
    {
      "cell_type": "code",
      "metadata": {
        "colab": {
          "base_uri": "https://localhost:8080/"
        },
        "id": "mXudo-s77OL2",
        "outputId": "661738e1-b2b9-4ced-cfdd-9e8d20b1b420"
      },
      "source": [
        "print(paula.__doc__) ## otra form de llamar el comentario es print del nombre de la función\n",
        " # función seguido de punto seguido, doble guión bajo, escribir \"doc\" y seguido doble guión bajo."
      ],
      "execution_count": 12,
      "outputs": [
        {
          "output_type": "stream",
          "text": [
            "\n",
            "  Puede ir la descripción de la función, los parametros que se van a usar, \n",
            "  explicar como se usa y que operaciones devuelve esta función.\n",
            "  \n"
          ],
          "name": "stdout"
        }
      ]
    },
    {
      "cell_type": "markdown",
      "metadata": {
        "id": "Om7-QSge8bQo"
      },
      "source": [
        "**Diferencias entre valores y referencias**\n",
        "\n",
        "\n",
        "---\n",
        "Existen dos conceptos de paso por **valor** y por **referencia** que se aplican a la hora de tratar a los parametros de entrada de una función :\n",
        "\n",
        "1. Si se usa un parametro que pasa por valor, se crea una copia local de la variable, lo cual implica que cualquier  modificación sobre esta no tendrá repercusiones sobre la base original.\n",
        "\n",
        "2. Si la variable pasa como referencia, sí actuará directamente sobre la base original.\n"
      ]
    },
    {
      "cell_type": "code",
      "metadata": {
        "colab": {
          "base_uri": "https://localhost:8080/"
        },
        "id": "50scQvGa9spn",
        "outputId": "ec2725a9-14db-47c5-ca37-7d8b3eb085c0"
      },
      "source": [
        "#Ejemplo de paso por **valor**\n",
        "\n",
        "x=3\n",
        "def funcion(w):\n",
        "  w:0\n",
        "funcion(x)\n",
        "print(x)\n",
        "\n",
        "\n"
      ],
      "execution_count": 17,
      "outputs": [
        {
          "output_type": "stream",
          "text": [
            "3\n"
          ],
          "name": "stdout"
        }
      ]
    },
    {
      "cell_type": "markdown",
      "metadata": {
        "id": "QTZk0rhL-b3f"
      },
      "source": [
        "1. inicio con  X=3\n",
        "2. Se lo pasamos a la función ()\n",
        "3. Dentro de esta función hacemos que la variable valga cero.\n",
        "4. Dado que pasa como valor dentro de la función se crea una copia local de x.\n",
        "Por lo cual la variable original no se modifica."
      ]
    },
    {
      "cell_type": "code",
      "metadata": {
        "colab": {
          "base_uri": "https://localhost:8080/"
        },
        "id": "pS_kclCn_ErX",
        "outputId": "91afe15c-fec6-42f7-b44f-b23a45c714a9"
      },
      "source": [
        "##Caso que pasa por **referencia** \n",
        "x=[3,6,9,12]\n",
        "def sw(tipo):\n",
        "  tipo.append(50)\n",
        "sw(x)\n",
        "print(x)"
      ],
      "execution_count": 18,
      "outputs": [
        {
          "output_type": "stream",
          "text": [
            "[3, 6, 9, 12, 50]\n"
          ],
          "name": "stdout"
        }
      ]
    },
    {
      "cell_type": "markdown",
      "metadata": {
        "id": "h-yBls0EBkMx"
      },
      "source": [
        "**Tipos de funciones**\n",
        "\n",
        "\n",
        "---\n",
        "\n",
        "\n",
        "**1. Funcion Lambda**\n",
        "\n",
        "Son funciones que normalmente se usan para definir el codigo en una sola linea."
      ]
    },
    {
      "cell_type": "code",
      "metadata": {
        "colab": {
          "base_uri": "https://localhost:8080/"
        },
        "id": "MouC5QDCB0JW",
        "outputId": "9716c57a-7e9c-414f-8fe2-4d8746829a6e"
      },
      "source": [
        "#Lo que normalmente seía la definicion de la función de este estilo:\n",
        "#def suma(a,b,c,d):\n",
        "#     return a+b+c+d\n",
        "#*# Se puede escribor de la siguiente forma.\n",
        "(lambda a,b,c,d: a+b+c+d)(1,2,3,4)\n"
      ],
      "execution_count": 19,
      "outputs": [
        {
          "output_type": "execute_result",
          "data": {
            "text/plain": [
              "<function __main__.<lambda>>"
            ]
          },
          "metadata": {
            "tags": []
          },
          "execution_count": 19
        }
      ]
    },
    {
      "cell_type": "code",
      "metadata": {
        "colab": {
          "base_uri": "https://localhost:8080/"
        },
        "id": "qeYHRW7fDX-z",
        "outputId": "e397dfbb-6c16-4c00-a404-185b7ac9a0bc"
      },
      "source": [
        "(lambda *number:sum(number))(1,4,5,5,6,7,8)"
      ],
      "execution_count": 30,
      "outputs": [
        {
          "output_type": "execute_result",
          "data": {
            "text/plain": [
              "36"
            ]
          },
          "metadata": {
            "tags": []
          },
          "execution_count": 30
        }
      ]
    },
    {
      "cell_type": "code",
      "metadata": {
        "colab": {
          "base_uri": "https://localhost:8080/"
        },
        "id": "3-JDYQSWEbbX",
        "outputId": "cd3928ea-5407-4ece-e5d5-f7be446156a2"
      },
      "source": [
        "(lambda **number:sum(number.values()))(a=1,b=4,c=10)"
      ],
      "execution_count": 25,
      "outputs": [
        {
          "output_type": "execute_result",
          "data": {
            "text/plain": [
              "15"
            ]
          },
          "metadata": {
            "tags": []
          },
          "execution_count": 25
        }
      ]
    },
    {
      "cell_type": "code",
      "metadata": {
        "colab": {
          "base_uri": "https://localhost:8080/"
        },
        "id": "dvReODY6E1NO",
        "outputId": "c01b5303-49a9-41c1-d86f-0ec0a89e7b4f"
      },
      "source": [
        "ivon=lambda a,b,c,d:a+b+c+d\n",
        "print(ivon(4,6,1,1))"
      ],
      "execution_count": 29,
      "outputs": [
        {
          "output_type": "stream",
          "text": [
            "12\n"
          ],
          "name": "stdout"
        }
      ]
    },
    {
      "cell_type": "markdown",
      "metadata": {
        "id": "PcYSc1y1Fr34"
      },
      "source": [
        "**RECURSIVIDAD**\n",
        "\n",
        "\n",
        "---\n",
        "Las caracteristicas de una función recursiva son als siguientes:\n",
        "\n",
        "1. Sección en que se llama a si misma.\n",
        "2. Sección del bloque de código donde este la condición que implique retornar sin volver a llamarse. (IMPORTANTE).\n",
        "\n",
        "Los ejemplos tradicionales de Recursividad son la aplicación de  **cálculo factorial** y la **serie defibonacci** \n",
        "\n",
        "**1. Cálculo factorial**\n",
        "\n",
        "En matemáticas definimos factorial **(n!)** como la multiplicación de todos sus números predecesores hasta llegar a uno:\n",
        "\n",
        "5! = 5*4*3*2*1\n",
        "100!= 100*99*98*97......*1\n",
        "\n"
      ]
    },
    {
      "cell_type": "code",
      "metadata": {
        "colab": {
          "base_uri": "https://localhost:8080/"
        },
        "id": "Ol3b257-Hjds",
        "outputId": "63ff5163-def5-46c9-a3df-53b96763c83a"
      },
      "source": [
        "#apliquemos un  enfoque no recursivo de cálculo factorial:\n",
        "\n",
        "def factorial(n):\n",
        "  w=1\n",
        "  i=2\n",
        "  while i<=n:\n",
        "    w *=i\n",
        "    i +=1\n",
        "  return w\n",
        "factorial(5)"
      ],
      "execution_count": 32,
      "outputs": [
        {
          "output_type": "execute_result",
          "data": {
            "text/plain": [
              "120"
            ]
          },
          "metadata": {
            "tags": []
          },
          "execution_count": 32
        }
      ]
    },
    {
      "cell_type": "code",
      "metadata": {
        "colab": {
          "base_uri": "https://localhost:8080/"
        },
        "id": "Y43EGw2FI09s",
        "outputId": "fa1f0b78-4df9-4870-c003-9670e70dfe85"
      },
      "source": [
        "#Definamos factorial recursivo:\n",
        "\n",
        "def recursivofac(n):\n",
        "  if n==1:\n",
        "    return 1\n",
        "  else:\n",
        "    return n*recursivofac(n-1)\n",
        "recursivofac(10)\n"
      ],
      "execution_count": 36,
      "outputs": [
        {
          "output_type": "execute_result",
          "data": {
            "text/plain": [
              "3628800"
            ]
          },
          "metadata": {
            "tags": []
          },
          "execution_count": 36
        }
      ]
    },
    {
      "cell_type": "markdown",
      "metadata": {
        "id": "48N7nCZxKf3r"
      },
      "source": [
        "A continuación complementamos los tipos de generadores:\n",
        "\n",
        "1. Return\n",
        "2. Yield\n",
        "\n"
      ]
    },
    {
      "cell_type": "code",
      "metadata": {
        "colab": {
          "base_uri": "https://localhost:8080/"
        },
        "id": "9Bok_jHrKvyk",
        "outputId": "f6b3dd46-0ed1-4cb5-f95d-531064c70901"
      },
      "source": [
        "def s():\n",
        "  yield 4\n",
        "s()\n"
      ],
      "execution_count": 38,
      "outputs": [
        {
          "output_type": "execute_result",
          "data": {
            "text/plain": [
              "<generator object s at 0x7fee94edaed0>"
            ]
          },
          "metadata": {
            "tags": []
          },
          "execution_count": 38
        }
      ]
    },
    {
      "cell_type": "markdown",
      "metadata": {
        "id": "XVd26LDqLELC"
      },
      "source": [
        "Cuando usamos el **return**, nos devuelve el número 4, pero cual usamos el yield lo que devuelve es un conjunto de clase (generator).\n"
      ]
    }
  ]
}