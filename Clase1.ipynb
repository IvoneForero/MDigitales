{
  "nbformat": 4,
  "nbformat_minor": 0,
  "metadata": {
    "colab": {
      "name": "Untitled1.ipynb",
      "provenance": [],
      "authorship_tag": "ABX9TyMBKEOjdB68NJmefzOT8Luf",
      "include_colab_link": true
    },
    "kernelspec": {
      "name": "python3",
      "display_name": "Python 3"
    },
    "language_info": {
      "name": "python"
    }
  },
  "cells": [
    {
      "cell_type": "markdown",
      "metadata": {
        "id": "view-in-github",
        "colab_type": "text"
      },
      "source": [
        "<a href=\"https://colab.research.google.com/github/IvoneForero/MDigitales/blob/main/Clase1.ipynb\" target=\"_parent\"><img src=\"https://colab.research.google.com/assets/colab-badge.svg\" alt=\"Open In Colab\"/></a>"
      ]
    },
    {
      "cell_type": "markdown",
      "metadata": {
        "id": "z7XVHDSmqi9E"
      },
      "source": [
        "**Introducción**\n",
        "\n",
        "Para manejar un código limpio en Python:\n",
        "Podemos seguir las siguientes recomendaciones:\n",
        "\n",
        "\n",
        "1.   Manejar siempre minusculas\n",
        "2.   Se le pueden añadir números.\n",
        "3.   Aparecera error si no estan seguidos la declaración de la variable con el número asignado. Ejemplo:\n",
        "ana1(correcto) ana 1 (incorrecto-error). \n",
        "\n",
        "En python hay varios tipos de datos compuestos y están disponibles por defecto en los intérpretes.\n",
        "\n",
        "**¿De que tipos?**\n",
        " 1. Númericos\n",
        " 2. Secuencias\n",
        " 3. Mapeos\n",
        " 4. Conjuntos usados para agrupar otros valores.\n",
        "\n",
        " ** Diferencias entre constantes y variables**\n",
        "En mátematicas llamamos constante a una magnitud que no cambia con el paso del tiempo.\n",
        " Ejemplo: Contabilidad: Gastos fijos_Muebles de oficina\n",
        " Ejemplo 2: 6\n",
        "\n",
        " Por otro lado, el concepto de variables, como la cantidad que ess susceptible a tomar distintos valores númericos.\n",
        "\n",
        " **Ejemplo**\n",
        "\n",
        "\n",
        "\n",
        "\n",
        "\n"
      ]
    },
    {
      "cell_type": "code",
      "metadata": {
        "colab": {
          "base_uri": "https://localhost:8080/"
        },
        "id": "iPlrY0LgrOnl",
        "outputId": "444eda38-97f3-4929-a3e3-2d9921f08c0e"
      },
      "source": [
        "x=80\n",
        "print(x)"
      ],
      "execution_count": null,
      "outputs": [
        {
          "output_type": "stream",
          "text": [
            "80\n"
          ],
          "name": "stdout"
        }
      ]
    },
    {
      "cell_type": "markdown",
      "metadata": {
        "id": "2VCS-vvDqkU1"
      },
      "source": [
        "**  Tipos de datos**\n",
        "\n",
        "**Enteros**\n",
        "\n",
        "\n",
        "*   Son los números que no tiene decimales\n",
        "*   Puedens ser positivos y negativos\n",
        "\n"
      ]
    },
    {
      "cell_type": "code",
      "metadata": {
        "colab": {
          "base_uri": "https://localhost:8080/"
        },
        "id": "CdTeyy68sMp0",
        "outputId": "93f89584-947e-46e5-817a-a3db56ab3398"
      },
      "source": [
        "a=int(3.964)\n",
        "print(a)"
      ],
      "execution_count": null,
      "outputs": [
        {
          "output_type": "stream",
          "text": [
            "3\n"
          ],
          "name": "stdout"
        }
      ]
    },
    {
      "cell_type": "markdown",
      "metadata": {
        "id": "yJ4K7PPXsvLS"
      },
      "source": [
        "El comando int es para hacer alusión a numeros enteros. A pate del comando float, permite valores con decimales."
      ]
    },
    {
      "cell_type": "code",
      "metadata": {
        "colab": {
          "base_uri": "https://localhost:8080/"
        },
        "id": "I7T3ong7s82R",
        "outputId": "46cd4c3c-fb8b-4650-f088-1c7a98c3a029"
      },
      "source": [
        "b=float(8.23)\n",
        "print(b)"
      ],
      "execution_count": null,
      "outputs": [
        {
          "output_type": "stream",
          "text": [
            "8.23\n"
          ],
          "name": "stdout"
        }
      ]
    },
    {
      "cell_type": "markdown",
      "metadata": {
        "id": "rSLZ9m4QtGlk"
      },
      "source": [
        "**Tipoo cadena**\n",
        "\n",
        "Las cadenas son texto encerrado entre comillas (simples o dobles) y se pueden conformar de direntes caracteres (Númericos, Alfabéticos, Especiales #$+*%).\n",
        "Tener en cuenta, las cadenas admiten operadores como la suma y la resta. (Variable String)"
      ]
    },
    {
      "cell_type": "code",
      "metadata": {
        "colab": {
          "base_uri": "https://localhost:8080/"
        },
        "id": "jws1p46Tt0Kn",
        "outputId": "42b13f21-ee65-4472-d033-b5a06a7f96a1"
      },
      "source": [
        "val2=\"Hola mundo\"\n",
        "print(val2)\n",
        "val1=\"Luisa\"\n",
        "print(val1)"
      ],
      "execution_count": null,
      "outputs": [
        {
          "output_type": "stream",
          "text": [
            "Hola mundo\n",
            "Luisa\n"
          ],
          "name": "stdout"
        }
      ]
    },
    {
      "cell_type": "code",
      "metadata": {
        "colab": {
          "base_uri": "https://localhost:8080/"
        },
        "id": "n9MK7t2UuOuH",
        "outputId": "9ca33868-d0a1-4d43-fa52-ba95fe7cbb66"
      },
      "source": [
        "n=\"Aprender\"\n",
        "z=\"Python\"\n",
        "print(n,z)"
      ],
      "execution_count": null,
      "outputs": [
        {
          "output_type": "stream",
          "text": [
            "Aprender Python\n"
          ],
          "name": "stdout"
        }
      ]
    },
    {
      "cell_type": "markdown",
      "metadata": {
        "id": "qlnaSk4YyKuE"
      },
      "source": [
        "**Tipo Booleanos**\n",
        "\n",
        "Este tipo de variables solo tendrá un valor de Verdadero o Falso.\n",
        "\n",
        "**Nota**\n",
        "Son valores muy usados en condiciones y bucles."
      ]
    },
    {
      "cell_type": "code",
      "metadata": {
        "colab": {
          "base_uri": "https://localhost:8080/"
        },
        "id": "WJXc-HDnymJ5",
        "outputId": "a068405b-db1b-4e26-dfac-8578a2c900f8"
      },
      "source": [
        "lola=True\n",
        "print (\"El valor es verdadero\",lola,\",el caul es de tipo\", type(lola))"
      ],
      "execution_count": null,
      "outputs": [
        {
          "output_type": "stream",
          "text": [
            "El valor es verdadero True ,el caul es de tipo <class 'bool'>\n"
          ],
          "name": "stdout"
        }
      ]
    },
    {
      "cell_type": "markdown",
      "metadata": {
        "id": "1Ul3WpXa0ESi"
      },
      "source": [
        "Python cuenta con tipos de datos quer admiten colecciones:\n",
        "1. Listas\n",
        "2. Tuplas\n",
        "3. Direcciones"
      ]
    },
    {
      "cell_type": "code",
      "metadata": {
        "colab": {
          "base_uri": "https://localhost:8080/"
        },
        "id": "Cujqe6ao0q16",
        "outputId": "43ae19be-0a96-417d-d067-0a884442f146"
      },
      "source": [
        "fru= 'pera','manzana','naranja'\n",
        "color= 'morado','blanco','azul'\n",
        "print(fru,color)"
      ],
      "execution_count": null,
      "outputs": [
        {
          "output_type": "stream",
          "text": [
            "('pera', 'manzana', 'naranja') ('morado', 'blanco', 'azul')\n"
          ],
          "name": "stdout"
        }
      ]
    },
    {
      "cell_type": "markdown",
      "metadata": {
        "id": "WThjiqDL1HjS"
      },
      "source": [
        "**Tipos de listas**\n",
        "\n",
        "Las listas almacenan vectores.\n",
        "Las listas siempre empiezan a nombrarse desde el elemento (0) A partir de allí empieza el conteo. \n",
        "Ejemplo de listas en python:"
      ]
    },
    {
      "cell_type": "code",
      "metadata": {
        "colab": {
          "base_uri": "https://localhost:8080/"
        },
        "id": "akHuxt8u1aFB",
        "outputId": "87e08e5c-13b8-49a3-9949-013c6266801f"
      },
      "source": [
        "ines=['5','uva','lila','perro']\n",
        "print(ines)\n",
        "fe=ines[1:2]\n",
        "print(fe)"
      ],
      "execution_count": null,
      "outputs": [
        {
          "output_type": "stream",
          "text": [
            "['5', 'uva', 'lila', 'perro']\n",
            "['uva']\n"
          ],
          "name": "stdout"
        }
      ]
    },
    {
      "cell_type": "markdown",
      "metadata": {
        "id": "IZfISCJ64ARB"
      },
      "source": [
        "**Tipo Tuplas**\n",
        "\n",
        "Es una lista que no se puede modificar después de la creacion de esta:\n",
        "Tuplas anidadas: Agrupación(Tuplas)"
      ]
    },
    {
      "cell_type": "code",
      "metadata": {
        "colab": {
          "base_uri": "https://localhost:8080/"
        },
        "id": "UBUS6jUS4aTk",
        "outputId": "afc20428-8a98-4beb-b39d-1279fef5b0fa"
      },
      "source": [
        "tupla=23,28,'hola'\n",
        "print(tupla)\n",
        "otra=tupla,(1,2,3,4)\n",
        "print(otra)"
      ],
      "execution_count": null,
      "outputs": [
        {
          "output_type": "stream",
          "text": [
            "(23, 28, 'hola')\n",
            "((23, 28, 'hola'), (1, 2, 3, 4))\n"
          ],
          "name": "stdout"
        }
      ]
    },
    {
      "cell_type": "markdown",
      "metadata": {
        "id": "saRrFgWv58cU"
      },
      "source": [
        "**Tipo diccionarios**\n",
        "\n",
        "Define los datos uno a uno entre un campo (Id - identificador - Clave) y un valor:"
      ]
    },
    {
      "cell_type": "code",
      "metadata": {
        "colab": {
          "base_uri": "https://localhost:8080/"
        },
        "id": "ipdnG10W6y4Y",
        "outputId": "19b658c3-4446-4275-99d3-0079a75bc234"
      },
      "source": [
        "datos_b={\n",
        "    \"nombres\":\"Diana\",\n",
        "    \"apellido\":\"Perea\",\n",
        "    \"cedula\":\"2345671\",\n",
        "    \"est_civil\":\"Viuda\",\n",
        "    \"lugar_nacimiento\":\"Neiva\",\n",
        "    \"fecha_nacimiento\":\"24/12/1980\"\n",
        "}\n",
        "print(\"ID del diccionario\", datos_b.keys())\n",
        "print(\"ID del diccionario\", datos_b.values())\n",
        "print(\"ID del diccionario\", datos_b.items())"
      ],
      "execution_count": null,
      "outputs": [
        {
          "output_type": "stream",
          "text": [
            "ID del diccionario dict_keys(['nombres', 'apellido', 'cedula', 'est_civil', 'lugar_nacimiento', 'fecha_nacimiento'])\n",
            "ID del diccionario dict_values(['Diana', 'Perea', '2345671', 'Viuda', 'Neiva', '24/12/1980'])\n",
            "ID del diccionario dict_items([('nombres', 'Diana'), ('apellido', 'Perea'), ('cedula', '2345671'), ('est_civil', 'Viuda'), ('lugar_nacimiento', 'Neiva'), ('fecha_nacimiento', '24/12/1980')])\n"
          ],
          "name": "stdout"
        }
      ]
    },
    {
      "cell_type": "markdown",
      "metadata": {
        "id": "70uN2ios8meC"
      },
      "source": [
        "Ejemplo práctico (Caracteristicas de los carros)"
      ]
    },
    {
      "cell_type": "code",
      "metadata": {
        "colab": {
          "base_uri": "https://localhost:8080/"
        },
        "id": "A1CF9Zyt8wbJ",
        "outputId": "fdb75cb0-2263-4a04-9b9b-c2d236b406f2"
      },
      "source": [
        "carros_0={}\n",
        "carros_0['tam']='grande'\n",
        "carros_0['color']='negro'\n",
        "carros_0['marca']='Renault'\n",
        "carros_0['precio']=60\n",
        "\n",
        "carros_1={}\n",
        "carros_1['tam']='Pequeño'\n",
        "carros_1['color']='blanco'\n",
        "carros_1['marca']='Chevrolet'\n",
        "carros_1['precio']=37\n",
        "\n",
        "print(carros_0)\n",
        "print(carros_1)\n",
        "compra0=carros_0['precio']\n",
        "compra1=carros_1['precio']\n",
        "compratotal=compra0+compra1\n",
        "\n",
        "print (\"La compra total fue de:\",compratotal)"
      ],
      "execution_count": null,
      "outputs": [
        {
          "output_type": "stream",
          "text": [
            "{'tam': 'grande', 'color': 'negro', 'marca': 'Renault', 'precio': 60}\n",
            "{'tam': 'Pequeño', 'color': 'blanco', 'marca': 'Chevrolet', 'precio': 37}\n",
            "La compra total fue de: 97\n"
          ],
          "name": "stdout"
        }
      ]
    }
  ]
}