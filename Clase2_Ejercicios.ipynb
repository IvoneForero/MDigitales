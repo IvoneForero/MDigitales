{
  "nbformat": 4,
  "nbformat_minor": 0,
  "metadata": {
    "colab": {
      "name": "Clase2_Ejercicios.ipynb",
      "provenance": [],
      "authorship_tag": "ABX9TyM5cmJ8kDFC0r+XJj00Jw07",
      "include_colab_link": true
    },
    "kernelspec": {
      "name": "python3",
      "display_name": "Python 3"
    },
    "language_info": {
      "name": "python"
    }
  },
  "cells": [
    {
      "cell_type": "markdown",
      "metadata": {
        "id": "view-in-github",
        "colab_type": "text"
      },
      "source": [
        "<a href=\"https://colab.research.google.com/github/IvoneForero/MDigitales/blob/main/Clase2_Ejercicios.ipynb\" target=\"_parent\"><img src=\"https://colab.research.google.com/assets/colab-badge.svg\" alt=\"Open In Colab\"/></a>"
      ]
    },
    {
      "cell_type": "code",
      "metadata": {
        "colab": {
          "base_uri": "https://localhost:8080/"
        },
        "id": "IiN4f89R2GRn",
        "outputId": "456bff8e-abac-41f2-9c27-dcfda54c0362"
      },
      "source": [
        "a=10\n",
        "b=20\n",
        "c=30\n",
        "d=50\n",
        "print(a+b>d)\n",
        "print(a+b>c)\n",
        "print(a+b>=c)"
      ],
      "execution_count": 3,
      "outputs": [
        {
          "output_type": "stream",
          "text": [
            "False\n",
            "False\n",
            "True\n"
          ],
          "name": "stdout"
        }
      ]
    },
    {
      "cell_type": "code",
      "metadata": {
        "colab": {
          "base_uri": "https://localhost:8080/"
        },
        "id": "M4WtiKX53sf6",
        "outputId": "a231e574-fb41-40e8-f537-278467445843"
      },
      "source": [
        "x=False\n",
        "y=True\n",
        "print(x and y,x or y)"
      ],
      "execution_count": 4,
      "outputs": [
        {
          "output_type": "stream",
          "text": [
            "False True\n"
          ],
          "name": "stdout"
        }
      ]
    },
    {
      "cell_type": "code",
      "metadata": {
        "colab": {
          "base_uri": "https://localhost:8080/"
        },
        "id": "kg5tqmWDEBeX",
        "outputId": "7012a7e8-683e-4609-d6da-cc2e39c50682"
      },
      "source": [
        "nota1=5\n",
        "nota2=7\n",
        "paso1=nota1>6 \n",
        "paso2=nota2>6\n",
        "print(paso1)\n",
        "print(paso2)"
      ],
      "execution_count": 7,
      "outputs": [
        {
          "output_type": "stream",
          "text": [
            "False\n",
            "True\n"
          ],
          "name": "stdout"
        }
      ]
    },
    {
      "cell_type": "code",
      "metadata": {
        "colab": {
          "base_uri": "https://localhost:8080/"
        },
        "id": "FmOXPdRqFdaf",
        "outputId": "f0de66f1-091f-4895-d915-157aa8ed4fa3"
      },
      "source": [
        "num1=600\n",
        "num2=400\n",
        "num3=200\n",
        "m=num1 > num3\n",
        "n=num2 != num3\n",
        "o=num3 == num1\n",
        "print(m,  n, o)\n",
        "print((m and o) or n)\n",
        "print((m and o) or not n)"
      ],
      "execution_count": 12,
      "outputs": [
        {
          "output_type": "stream",
          "text": [
            "True True False\n",
            "True\n",
            "False\n"
          ],
          "name": "stdout"
        }
      ]
    },
    {
      "cell_type": "code",
      "metadata": {
        "id": "uNMSOy69IUT4"
      },
      "source": [
        ""
      ],
      "execution_count": null,
      "outputs": []
    }
  ]
}