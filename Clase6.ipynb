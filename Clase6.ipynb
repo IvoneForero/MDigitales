{
  "nbformat": 4,
  "nbformat_minor": 0,
  "metadata": {
    "colab": {
      "name": "Clase6.ipynb",
      "provenance": [],
      "authorship_tag": "ABX9TyMYg4ILrnnkA2afDNYUzKli",
      "include_colab_link": true
    },
    "kernelspec": {
      "name": "python3",
      "display_name": "Python 3"
    },
    "language_info": {
      "name": "python"
    }
  },
  "cells": [
    {
      "cell_type": "markdown",
      "metadata": {
        "id": "view-in-github",
        "colab_type": "text"
      },
      "source": [
        "<a href=\"https://colab.research.google.com/github/IvoneForero/MDigitales/blob/main/Clase6.ipynb\" target=\"_parent\"><img src=\"https://colab.research.google.com/assets/colab-badge.svg\" alt=\"Open In Colab\"/></a>"
      ]
    },
    {
      "cell_type": "markdown",
      "metadata": {
        "id": "8Ii3i6_imDk5"
      },
      "source": [
        "\n",
        "11/AGOSTO/2021\n",
        "**CONTINUACIÓN DE LOS EJEMPLOS DEL USO DE LISTA DE COMPRESIÓN**\n",
        "\n",
        "# COMPRENSIÓN DE CONJUNTOS\n",
        "\n",
        "\n",
        "\n",
        "La compresión de conjuntos es muy similar a la que veniamos manejando con listas. La unica diferencia es que se usa los { }  (corchetes).\n",
        "\n",
        "**Nota:** Recordemos que los conjuntos tambien enominados *sets* no permiten duplicados, es decir cada elemento es unico, si se llega añadir un elemento repetido, no arrojaraá error pero no se mostrará en el *print*"
      ]
    },
    {
      "cell_type": "code",
      "metadata": {
        "colab": {
          "base_uri": "https://localhost:8080/"
        },
        "id": "Wt2ig0FFl-el",
        "outputId": "3f5f17af-d682-40c2-f0e8-21af34ff66cf"
      },
      "source": [
        "sa=\"ema, ama, mama\"\n",
        "sa2= {i for i in sa if i ==\"m\"}\n",
        "print(sa2)"
      ],
      "execution_count": 1,
      "outputs": [
        {
          "output_type": "stream",
          "text": [
            "{'m'}\n"
          ],
          "name": "stdout"
        }
      ]
    },
    {
      "cell_type": "markdown",
      "metadata": {
        "id": "vXwi7b8vqaPr"
      },
      "source": [
        "Ahora veamos a continuación el caso de diccionarios de comprensión.\n",
        "\n",
        "**Nota:** texto en negritala unica diferecia que tiene respecto a las listas de comprensión es la especificación de llaves o claves (key)."
      ]
    },
    {
      "cell_type": "code",
      "metadata": {
        "colab": {
          "base_uri": "https://localhost:8080/"
        },
        "id": "sFY4LM7mqyrh",
        "outputId": "7ad7172f-e5df-408e-b0a2-9fedc71ce086"
      },
      "source": [
        "lista=['nombre', 'apellido', 'ciudad']\n",
        "lista2=['Ana', 'Rodriguez', 'Popayan']\n",
        "\n",
        "dic={i:j for i,j in zip(lista,lista2)}\n",
        "print(dic)"
      ],
      "execution_count": 13,
      "outputs": [
        {
          "output_type": "stream",
          "text": [
            "{'nombre': 'Ana', 'apellido': 'Rodriguez', 'ciudad': 'Popayan'}\n"
          ],
          "name": "stdout"
        }
      ]
    },
    {
      "cell_type": "markdown",
      "metadata": {
        "id": "fo5VoTmTryrb"
      },
      "source": [
        "Pudimos observar que añadiendo los : asignaos un valor a la llave declarada a su vez usamos **zip()** el cual tiene como función iterar dos listas en paralelo. Es decir con**zip** podemos convertir dos listas en un diccionario y el **for** se manejaria iterando dos valores en simultaneo"
      ]
    },
    {
      "cell_type": "markdown",
      "metadata": {
        "id": "AMdiyC2rsdIT"
      },
      "source": [
        "**OTRAS ESTRUCTURAS DE CONTROL**\n",
        "\n",
        "1. Switch\n",
        "2. Break\n",
        "3. Continue\n",
        "4. Complemento de iteración (enumerate).\n",
        "\n",
        "**1. Switch**\n",
        "\n",
        "El switch es una herramienta que  permite ejecutar diferentes secciones de código dependiendo de las condiciones impuestas (en otros lenguajes de programación).\n",
        "Su función es muy similar a usar if anidados o varios por separado al mismo tiempo.\n",
        "\n",
        "Sin embargo en Python no hay un Switch directo\n",
        "\n",
        "**2. Break**\n",
        "\n",
        "Nos permite alterar el comportamiento de los ciclos de **while** y **for**. Directamente su función es la de finalizar los ciclos."
      ]
    },
    {
      "cell_type": "code",
      "metadata": {
        "colab": {
          "base_uri": "https://localhost:8080/"
        },
        "id": "j7Dj4uBmtzw8",
        "outputId": "809cc6d5-8e50-4a10-a625-9ce1d4b4c853"
      },
      "source": [
        "x= \"Andrea\"\n",
        "for i in x:\n",
        "  if i==\"e\":\n",
        "   print(\"Se obtuvo la letra e\")\n",
        "   break\n",
        "  print(i)"
      ],
      "execution_count": 8,
      "outputs": [
        {
          "output_type": "stream",
          "text": [
            "A\n",
            "n\n",
            "d\n",
            "r\n",
            "Se obtuvo la letra e\n"
          ],
          "name": "stdout"
        }
      ]
    },
    {
      "cell_type": "code",
      "metadata": {
        "colab": {
          "base_uri": "https://localhost:8080/"
        },
        "id": "dQgSwTyxu-8m",
        "outputId": "75684fcf-7ee2-4a7a-df32-76e27f3e1137"
      },
      "source": [
        "x=15\n",
        "while True:\n",
        "  x -=1\n",
        "  print(x)\n",
        "  if x==0:\n",
        "    break\n",
        "print(\"Se finaliza ciclo\")"
      ],
      "execution_count": 12,
      "outputs": [
        {
          "output_type": "stream",
          "text": [
            "14\n",
            "13\n",
            "12\n",
            "11\n",
            "10\n",
            "9\n",
            "8\n",
            "7\n",
            "6\n",
            "5\n",
            "4\n",
            "3\n",
            "2\n",
            "1\n",
            "0\n",
            "Se finaliza ciclo\n"
          ],
          "name": "stdout"
        }
      ]
    },
    {
      "cell_type": "code",
      "metadata": {
        "colab": {
          "base_uri": "https://localhost:8080/"
        },
        "id": "PrNzjzRVwX-2",
        "outputId": "7a0dcf86-ce11-4652-ed2e-d613c3fc8b93"
      },
      "source": [
        "##Uso de break con los ciclos anidados:\n",
        "\n",
        "for i in range(1,8):\n",
        "  for j in range(1,8):\n",
        "    break\n",
        "  print(i,j)\n",
        "\n",
        "  # El BREAK no afecta el for exterior. Rompe el ciclo anidado en su conjunto pero no afecta directamente el ciclo exterior."
      ],
      "execution_count": 16,
      "outputs": [
        {
          "output_type": "stream",
          "text": [
            "1 1\n",
            "2 1\n",
            "3 1\n",
            "4 1\n",
            "5 1\n",
            "6 1\n",
            "7 1\n"
          ],
          "name": "stdout"
        }
      ]
    },
    {
      "cell_type": "markdown",
      "metadata": {
        "id": "9IBczPQixvVe"
      },
      "source": [
        "**2. CONTINUE**\n",
        "---\n",
        "\n",
        "El **continue** se salata todo el código restante en la iteración actual y vuelve al principio en caso de quede elementos por iterar.\n",
        "\n",
        "Diferencias entre  **break** y **continue**:\n",
        "\n",
        "La principal diferencia es que **continue** no rompe el ciclo si no que pasa a la iteración pendiente.\n",
        "\n",
        "\n"
      ]
    },
    {
      "cell_type": "code",
      "metadata": {
        "colab": {
          "base_uri": "https://localhost:8080/"
        },
        "id": "tFX4_FVnyer0",
        "outputId": "b475bc72-5772-4e5d-ee2a-94de67260dc1"
      },
      "source": [
        "x=\"Andrea\"\n",
        "for i in x:\n",
        "  if i==\"r\":\n",
        "    continue\n",
        "  print(i)"
      ],
      "execution_count": 21,
      "outputs": [
        {
          "output_type": "stream",
          "text": [
            "A\n",
            "n\n",
            "d\n",
            "e\n",
            "a\n"
          ],
          "name": "stdout"
        }
      ]
    },
    {
      "cell_type": "code",
      "metadata": {
        "colab": {
          "base_uri": "https://localhost:8080/"
        },
        "id": "Tmkq-AUOy6Hd",
        "outputId": "88a7429d-fbd7-4124-bb74-057f1e6d7aab"
      },
      "source": [
        "x=15\n",
        "while x>0:\n",
        "  x -=1\n",
        "  if x==3:\n",
        "    continue\n",
        "  print(x)"
      ],
      "execution_count": 22,
      "outputs": [
        {
          "output_type": "stream",
          "text": [
            "14\n",
            "13\n",
            "12\n",
            "11\n",
            "10\n",
            "9\n",
            "8\n",
            "7\n",
            "6\n",
            "5\n",
            "4\n",
            "2\n",
            "1\n",
            "0\n"
          ],
          "name": "stdout"
        }
      ]
    },
    {
      "cell_type": "markdown",
      "metadata": {
        "id": "hwJFj_axzUZo"
      },
      "source": [
        "**3. Iterar con enumerate**\n",
        "---\n",
        "\n",
        "Python nos permite iterar colecciones de objetos y eementos de la misma forma.\n",
        "Sin embargo hay una opción que es que en algunas situaciones que queramos acceder a un elemento ordenado podemos hacerlo nombrando el indice de cada elemento llamado.\n"
      ]
    },
    {
      "cell_type": "code",
      "metadata": {
        "colab": {
          "base_uri": "https://localhost:8080/"
        },
        "id": "nwUr8ij1z3dW",
        "outputId": "28d9e12f-7174-4d91-91bb-9a482e9c5f1e"
      },
      "source": [
        "w=[\"sa\", \"se\",\"si\", \"so\", \"su\"]\n",
        "indice=0\n",
        "for i in w:\n",
        "  print(indice,i)\n",
        "  indice +=1"
      ],
      "execution_count": 23,
      "outputs": [
        {
          "output_type": "stream",
          "text": [
            "0 sa\n",
            "1 se\n",
            "2 si\n",
            "3 so\n",
            "4 su\n"
          ],
          "name": "stdout"
        }
      ]
    },
    {
      "cell_type": "code",
      "metadata": {
        "colab": {
          "base_uri": "https://localhost:8080/"
        },
        "id": "qgeH6ujy0ayg",
        "outputId": "8ebce936-d677-4058-8f8d-ad02e9267281"
      },
      "source": [
        "w=[\"sa\", \"se\",\"si\", \"so\", \"su\"]\n",
        "for indice, i in enumerate(w):\n",
        "  print(indice,i)\n",
        "\n",
        "x=list(enumerate(w))\n",
        "print(x)\n",
        "\n",
        " "
      ],
      "execution_count": 28,
      "outputs": [
        {
          "output_type": "stream",
          "text": [
            "0 sa\n",
            "1 se\n",
            "2 si\n",
            "3 so\n",
            "4 su\n",
            "[(0, 'sa'), (1, 'se'), (2, 'si'), (3, 'so'), (4, 'su')]\n"
          ],
          "name": "stdout"
        }
      ]
    },
    {
      "cell_type": "markdown",
      "metadata": {
        "id": "k6mM5OEd1sLI"
      },
      "source": [
        "**Uso zip()**\n",
        "\n",
        "---\n",
        "\n",
        "Si pasamos dos listas  a zip, el resultado será una tupla dondecada elemento tendra ----- cada uno de los elementos  de las entradas.\n",
        "\n",
        "\n",
        "\n",
        "\n",
        "\n"
      ]
    },
    {
      "cell_type": "code",
      "metadata": {
        "colab": {
          "base_uri": "https://localhost:8080/"
        },
        "id": "WhV6lxC22JQP",
        "outputId": "de69acf7-e527-431f-c08b-e319b6549b6c"
      },
      "source": [
        "a=[1,2,3]\n",
        "b=[\"a\",\"b\",\"c\"]\n",
        "x=[\"q\",\"w\",\"e\"]\n",
        "z=[10,20,30]\n",
        "c=zip(a,b)\n",
        "print(list(c))\n",
        "\n",
        "for i, j, m,n in zip(a,b,x,z):\n",
        "  print(\"Número\",i,\"letras\",j,m,n)"
      ],
      "execution_count": 34,
      "outputs": [
        {
          "output_type": "stream",
          "text": [
            "[(1, 'a'), (2, 'b'), (3, 'c')]\n",
            "Número 1 letras a q 10\n",
            "Número 2 letras b w 20\n",
            "Número 3 letras c e 30\n"
          ],
          "name": "stdout"
        }
      ]
    },
    {
      "cell_type": "code",
      "metadata": {
        "colab": {
          "base_uri": "https://localhost:8080/"
        },
        "id": "A8eWXMBI4Qn_",
        "outputId": "649f68cf-48cb-4e24-912f-f361c8727304"
      },
      "source": [
        "a=[1,2,3]\n",
        "b=[\"a\",\"b\"]\n",
        "for sa, se in zip(a,b):\n",
        "  print(sa, se)"
      ],
      "execution_count": 35,
      "outputs": [
        {
          "output_type": "stream",
          "text": [
            "1 a\n",
            "2 b\n"
          ],
          "name": "stdout"
        }
      ]
    },
    {
      "cell_type": "code",
      "metadata": {
        "colab": {
          "base_uri": "https://localhost:8080/"
        },
        "id": "Gdus6Tae4ziB",
        "outputId": "9bff49f0-11a1-45f3-aa54-beae0374091a"
      },
      "source": [
        "c=[(1, \"a\"),(2, \"b\"),(3, \"c\")]\n",
        "a,b=zip(*c)\n",
        "print(a)\n",
        "print(b)\n",
        "\n",
        "\n",
        "\n"
      ],
      "execution_count": 37,
      "outputs": [
        {
          "output_type": "stream",
          "text": [
            "(1, 2, 3)\n",
            "('a', 'b', 'c')\n"
          ],
          "name": "stdout"
        }
      ]
    },
    {
      "cell_type": "markdown",
      "metadata": {
        "id": "HiLV8rI76Rbf"
      },
      "source": [
        "# **FUNCIONES **\n",
        "\n",
        "La función nos permite ordenar de manera adecuada la negación de objetos y bloques de código por ciclos y demás estructura.\n",
        "\n",
        "la sintaxis es la siguiente:\n",
        "\n",
        "**def nombre_funcion(argumentos):**  (codigo\n",
        "\n",
        "**nombre_funcion(argumento2)**"
      ]
    },
    {
      "cell_type": "code",
      "metadata": {
        "colab": {
          "base_uri": "https://localhost:8080/"
        },
        "id": "ohCQWcG166BJ",
        "outputId": "fdbbd4da-fd9c-4029-e9b2-0ba26b1eae89"
      },
      "source": [
        "def f(a):\n",
        "  return 2*a\n",
        "y=f (3)\n",
        "print(y)"
      ],
      "execution_count": 39,
      "outputs": [
        {
          "output_type": "stream",
          "text": [
            "6\n"
          ],
          "name": "stdout"
        }
      ]
    },
    {
      "cell_type": "markdown",
      "metadata": {
        "id": "6RAJgzdz7gN3"
      },
      "source": [
        "Las funciones no solo realizan una operación con sus entradas (argumentos de inicio). Sino también parten de los siguientes principios:\n",
        "\n",
        "**1. Reusabilidad:** Si tenemos un fragmento de código usado en muchos sitios y se guarda en una función, nos evitará tener códigos repetidos, además de la conveniencia que tiene puede  ser facilmente editable.\n",
        "\n",
        "**2. Modularidad:** Permite legibilidad de forma más sencilla, es decir, los largos bloques de codigo se pueden agrupar en modulos o funciones y la lectura va a ser mucho mas sencilla."
      ]
    },
    {
      "cell_type": "code",
      "metadata": {
        "colab": {
          "base_uri": "https://localhost:8080/"
        },
        "id": "OYgPEiUA8otD",
        "outputId": "418ccb1d-c55a-4fbc-8ace-fe073ea1e0ca"
      },
      "source": [
        "# Ejemplo 1: Función sin argumentos de entrada ni parametros de salida:\n",
        "\n",
        "def s(): #Declaración de finción\n",
        "  print(\"Hi Ivon\")\n",
        "s() # Al cerrar la definición de función me va aparecer la ejecución del codigo\n",
        "\n"
      ],
      "execution_count": 42,
      "outputs": [
        {
          "output_type": "stream",
          "text": [
            "Hi Ivon\n"
          ],
          "name": "stdout"
        }
      ]
    },
    {
      "cell_type": "code",
      "metadata": {
        "colab": {
          "base_uri": "https://localhost:8080/"
        },
        "id": "PhrdRwBJ9K_5",
        "outputId": "650ba37e-6d0a-4fb9-e460-571b52fdfa1b"
      },
      "source": [
        "#Ejemplo  2: Incluir argumentos de entrada\n",
        "\n",
        "def s(apellido):\n",
        "  print(\"Hola Ivon\", apellido)\n",
        "s(\"Forero\")"
      ],
      "execution_count": 41,
      "outputs": [
        {
          "output_type": "stream",
          "text": [
            "Hola Ivon Forero\n"
          ],
          "name": "stdout"
        }
      ]
    },
    {
      "cell_type": "code",
      "metadata": {
        "colab": {
          "base_uri": "https://localhost:8080/"
        },
        "id": "corCvZmu9zHi",
        "outputId": "0c7f2cee-32a6-4201-e05d-b6f63ced3c93"
      },
      "source": [
        "#Ejemplo 3. usando dos argumentos de entrada y salida y operaciones matematicas\n",
        "\n",
        "def dog(a,b):\n",
        "  return a+b\n",
        "dog(3,5)"
      ],
      "execution_count": 48,
      "outputs": [
        {
          "output_type": "execute_result",
          "data": {
            "text/plain": [
              "8"
            ]
          },
          "metadata": {
            "tags": []
          },
          "execution_count": 48
        }
      ]
    },
    {
      "cell_type": "code",
      "metadata": {
        "colab": {
          "base_uri": "https://localhost:8080/"
        },
        "id": "mUB_5x-i-zva",
        "outputId": "c8cbbc7d-ccb5-4255-9cd1-f9b829ede61f"
      },
      "source": [
        "#Ejemplo 4. Reusabilidad del código \n",
        "dog(a=4, b=20)"
      ],
      "execution_count": 49,
      "outputs": [
        {
          "output_type": "execute_result",
          "data": {
            "text/plain": [
              "24"
            ]
          },
          "metadata": {
            "tags": []
          },
          "execution_count": 49
        }
      ]
    },
    {
      "cell_type": "code",
      "metadata": {
        "colab": {
          "base_uri": "https://localhost:8080/"
        },
        "id": "kwqdv0Xv_WTL",
        "outputId": "e4e9eff8-7d5d-4f2f-f8c1-123c1b538800"
      },
      "source": [
        "#Ejemplo 5. Argumentos fijos desde el inicio\n",
        "\n",
        "def suma(a,b,c,d=1): ## Corrección de default\n",
        "  return a+b+c+d\n",
        "suma(2,3,4,2)\n",
        " "
      ],
      "execution_count": 53,
      "outputs": [
        {
          "output_type": "execute_result",
          "data": {
            "text/plain": [
              "11"
            ]
          },
          "metadata": {
            "tags": []
          },
          "execution_count": 53
        }
      ]
    },
    {
      "cell_type": "code",
      "metadata": {
        "colab": {
          "base_uri": "https://localhost:8080/"
        },
        "id": "8y52KD03AxqU",
        "outputId": "8a4e1d28-c3df-4329-a024-91e1826ba68e"
      },
      "source": [
        "def suma(a=2, b=3, c=4, d=5,):\n",
        "  return a+b+c+d\n",
        "suma()\n",
        "\n",
        "suma(1)\n",
        "suma(1,5)"
      ],
      "execution_count": 60,
      "outputs": [
        {
          "output_type": "execute_result",
          "data": {
            "text/plain": [
              "15"
            ]
          },
          "metadata": {
            "tags": []
          },
          "execution_count": 60
        }
      ]
    },
    {
      "cell_type": "code",
      "metadata": {
        "colab": {
          "base_uri": "https://localhost:8080/"
        },
        "id": "81vIWOsoBhMD",
        "outputId": "ec3f9b6a-618a-426f-f2a0-58f1528e23ca"
      },
      "source": [
        "#Ejemplo 5 Argumento de longitud variable\n",
        "\n",
        "def suma(number):\n",
        "  total=0\n",
        "  for i in number:\n",
        "    total +=i\n",
        "  return total\n",
        "suma([1,3,5,4])\n"
      ],
      "execution_count": 61,
      "outputs": [
        {
          "output_type": "execute_result",
          "data": {
            "text/plain": [
              "13"
            ]
          },
          "metadata": {
            "tags": []
          },
          "execution_count": 61
        }
      ]
    },
    {
      "cell_type": "markdown",
      "metadata": {
        "id": "ryDQeajCC3js"
      },
      "source": [
        "Se realizó la suma de todos los números de entrada.\n",
        "Para ello la declaración de los argumentos de salida sería como una lista.\n",
        "\n",
        "La forma de sintaxis anterior es valida, sin embargo tenemos un solo argumento que es una lista de números. \n",
        "\n",
        "Si declaramos un argumento con *, esto hará que el argumento sea guardado como tupla de manera automatica."
      ]
    },
    {
      "cell_type": "code",
      "metadata": {
        "colab": {
          "base_uri": "https://localhost:8080/"
        },
        "id": "U2s_V8w_Duwe",
        "outputId": "7274b2c0-9465-43e0-a430-2b0f89bd03e8"
      },
      "source": [
        "def suma(*number):\n",
        "  print(type(number))\n",
        "  total=0\n",
        "  for i in number:\n",
        "    total+=i\n",
        "  return total\n",
        "\n",
        "suma(2,3,5,4)"
      ],
      "execution_count": 63,
      "outputs": [
        {
          "output_type": "stream",
          "text": [
            "<class 'tuple'>\n"
          ],
          "name": "stdout"
        },
        {
          "output_type": "execute_result",
          "data": {
            "text/plain": [
              "14"
            ]
          },
          "metadata": {
            "tags": []
          },
          "execution_count": 63
        }
      ]
    }
  ]
}