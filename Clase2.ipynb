{
  "nbformat": 4,
  "nbformat_minor": 0,
  "metadata": {
    "colab": {
      "name": "Clase2.ipynb",
      "provenance": [],
      "authorship_tag": "ABX9TyNPvKL7LT/BnOajcSBXAo3p",
      "include_colab_link": true
    },
    "kernelspec": {
      "name": "python3",
      "display_name": "Python 3"
    },
    "language_info": {
      "name": "python"
    }
  },
  "cells": [
    {
      "cell_type": "markdown",
      "metadata": {
        "id": "view-in-github",
        "colab_type": "text"
      },
      "source": [
        "<a href=\"https://colab.research.google.com/github/IvoneForero/MDigitales/blob/main/Clase2.ipynb\" target=\"_parent\"><img src=\"https://colab.research.google.com/assets/colab-badge.svg\" alt=\"Open In Colab\"/></a>"
      ]
    },
    {
      "cell_type": "markdown",
      "metadata": {
        "id": "EEX85NBPvRMM"
      },
      "source": [
        "# **Operadores aritméticos**\n",
        "\n",
        "Los operadores permiten realizar diferentes procesos de calculo en cualquier lenguaje de programción.\n",
        "\n",
        "1. (+) suma\n",
        "2. (-) resta\n",
        "3. (*) Multiplicación\n",
        "4. (/) División"
      ]
    },
    {
      "cell_type": "markdown",
      "metadata": {
        "id": "QgLKVkjFv7Pi"
      },
      "source": [
        "**Suma + y Resta -**\n",
        "\n",
        "Simbolo suma(+) el cual se utilizara en medio del la declaración de las variables a operar \n",
        "Simbolo resta (-)"
      ]
    },
    {
      "cell_type": "code",
      "metadata": {
        "colab": {
          "base_uri": "https://localhost:8080/"
        },
        "id": "tNY7MGXjvDqO",
        "outputId": "d3de58c7-6270-4d1f-ef88-debbddaa88cf"
      },
      "source": [
        "print(10+300)\n",
        "a=20\n",
        "b=35\n",
        "print (a-b)"
      ],
      "execution_count": null,
      "outputs": [
        {
          "output_type": "stream",
          "text": [
            "310\n",
            "-15\n"
          ],
          "name": "stdout"
        }
      ]
    },
    {
      "cell_type": "code",
      "metadata": {
        "colab": {
          "base_uri": "https://localhost:8080/"
        },
        "id": "K_ighEz-w2Sd",
        "outputId": "1d7ba0ad-26c1-41a1-acef-dceaa6a57f2e"
      },
      "source": [
        "numero_botellas=12\n",
        "print(numero_botellas+8)"
      ],
      "execution_count": null,
      "outputs": [
        {
          "output_type": "stream",
          "text": [
            "20\n"
          ],
          "name": "stdout"
        }
      ]
    },
    {
      "cell_type": "code",
      "metadata": {
        "colab": {
          "base_uri": "https://localhost:8080/"
        },
        "id": "cX02Tuocw-8D",
        "outputId": "2772916d-f173-4077-d136-59288f2fc5da"
      },
      "source": [
        "numero_botellas=12\n",
        "numero_botellas=numero_botellas+8\n",
        "print(numero_botellas)"
      ],
      "execution_count": null,
      "outputs": [
        {
          "output_type": "stream",
          "text": [
            "20\n"
          ],
          "name": "stdout"
        }
      ]
    },
    {
      "cell_type": "markdown",
      "metadata": {
        "id": "fb_53QbZxSZ3"
      },
      "source": [
        "**Sumas entre los diferentes tipos de variables**\n",
        "\n",
        "recordemos los tipos de variables vistos en la clase de ayer:\n",
        "1. Declaración de variables números enteros.\n",
        "2. Flotantes (incorpora y flexibiliza los decimales)\n",
        "3. Tipo de cadena\n",
        "\n",
        "Al dar imprimir nos arroja el tipo de variable."
      ]
    },
    {
      "cell_type": "code",
      "metadata": {
        "colab": {
          "base_uri": "https://localhost:8080/"
        },
        "id": "FpOAAe3CxsjQ",
        "outputId": "1774579e-0e5f-4ca0-9260-c5ae9b18dbfa"
      },
      "source": [
        "q1=100\n",
        "q2=24.5\n",
        "print(type(q1))\n",
        "print(type(q2))\n",
        "print(type(q1+q2))"
      ],
      "execution_count": null,
      "outputs": [
        {
          "output_type": "stream",
          "text": [
            "<class 'int'>\n",
            "<class 'float'>\n",
            "<class 'float'>\n"
          ],
          "name": "stdout"
        }
      ]
    },
    {
      "cell_type": "code",
      "metadata": {
        "colab": {
          "base_uri": "https://localhost:8080/"
        },
        "id": "4HJ9OkE8yOKz",
        "outputId": "87257ea5-115d-4d4d-e62c-35f7133823f1"
      },
      "source": [
        "v1=\"Quiero\"\n",
        "v2=\"un celular\"\n",
        "v3= v1+\" \"+v2\n",
        "print(v1+\" \"+v2)"
      ],
      "execution_count": null,
      "outputs": [
        {
          "output_type": "stream",
          "text": [
            "Quiero un celular\n"
          ],
          "name": "stdout"
        }
      ]
    },
    {
      "cell_type": "code",
      "metadata": {
        "colab": {
          "base_uri": "https://localhost:8080/"
        },
        "id": "NN_87YcSyvgA",
        "outputId": "2429623a-6036-4207-bd42-ee3b56a0e906"
      },
      "source": [
        "xq2=235\n",
        "xq3=400\n",
        "print(xq2-xq3)\n",
        "\n",
        "xq2=24.66\n",
        "xq3=4\n",
        "print(type(xq2-xq3))"
      ],
      "execution_count": null,
      "outputs": [
        {
          "output_type": "stream",
          "text": [
            "-165\n",
            "<class 'float'>\n"
          ],
          "name": "stdout"
        }
      ]
    },
    {
      "cell_type": "markdown",
      "metadata": {
        "id": "obQL-pmyzfu3"
      },
      "source": [
        "# IMPORTANTE\n",
        "\n",
        "La resta no funciona directamente para variable tipo  cadena. (Ejemplo de error)"
      ]
    },
    {
      "cell_type": "code",
      "metadata": {
        "colab": {
          "base_uri": "https://localhost:8080/",
          "height": 197
        },
        "id": "V9fQZSL2z2f2",
        "outputId": "d8450f5f-3de9-4292-af82-a821467290b5"
      },
      "source": [
        "v1=\"Quiero\"\n",
        "v2=\"un celular\"\n",
        "\n",
        "print(v1-v2)"
      ],
      "execution_count": null,
      "outputs": [
        {
          "output_type": "error",
          "ename": "TypeError",
          "evalue": "ignored",
          "traceback": [
            "\u001b[0;31m---------------------------------------------------------------------------\u001b[0m",
            "\u001b[0;31mTypeError\u001b[0m                                 Traceback (most recent call last)",
            "\u001b[0;32m<ipython-input-13-61cd132a5a45>\u001b[0m in \u001b[0;36m<module>\u001b[0;34m()\u001b[0m\n\u001b[1;32m      2\u001b[0m \u001b[0mv2\u001b[0m\u001b[0;34m=\u001b[0m\u001b[0;34m\"un celular\"\u001b[0m\u001b[0;34m\u001b[0m\u001b[0;34m\u001b[0m\u001b[0m\n\u001b[1;32m      3\u001b[0m \u001b[0;34m\u001b[0m\u001b[0m\n\u001b[0;32m----> 4\u001b[0;31m \u001b[0mprint\u001b[0m\u001b[0;34m(\u001b[0m\u001b[0mv1\u001b[0m\u001b[0;34m-\u001b[0m\u001b[0mv2\u001b[0m\u001b[0;34m)\u001b[0m\u001b[0;34m\u001b[0m\u001b[0;34m\u001b[0m\u001b[0m\n\u001b[0m",
            "\u001b[0;31mTypeError\u001b[0m: unsupported operand type(s) for -: 'str' and 'str'"
          ]
        }
      ]
    },
    {
      "cell_type": "markdown",
      "metadata": {
        "id": "cE769GS50on9"
      },
      "source": [
        "# Multiplicación (*)\n",
        "\n",
        "Definamos la multiplicación como la suma de varias veces un número, cantidad de veces indicadas  por el otro número. Ejemplo 4*2=4+4"
      ]
    },
    {
      "cell_type": "code",
      "metadata": {
        "colab": {
          "base_uri": "https://localhost:8080/"
        },
        "id": "dWlk1uz51GGX",
        "outputId": "9ea0a03e-468b-447b-e8b4-1e75bd6d1612"
      },
      "source": [
        "cali=5\n",
        "palmira=6\n",
        "print(cali*palmira)"
      ],
      "execution_count": null,
      "outputs": [
        {
          "output_type": "stream",
          "text": [
            "30\n"
          ],
          "name": "stdout"
        }
      ]
    },
    {
      "cell_type": "markdown",
      "metadata": {
        "id": "tmAy9yPF1OfQ"
      },
      "source": [
        "# Importante\n",
        "\n",
        "Se aplica la ley conmutativa\n",
        "Recordemos que la ley conmutativa es que el orden de los factores no altera los resultados (Aplica para suma y multiplicación)"
      ]
    },
    {
      "cell_type": "code",
      "metadata": {
        "colab": {
          "base_uri": "https://localhost:8080/"
        },
        "id": "IHEvtfJU1tzu",
        "outputId": "e4f2ce0f-dde8-4115-9610-0591de6face9"
      },
      "source": [
        "cali=5\n",
        "palmira=6\n",
        "print(cali*palmira)"
      ],
      "execution_count": null,
      "outputs": [
        {
          "output_type": "stream",
          "text": [
            "30\n"
          ],
          "name": "stdout"
        }
      ]
    },
    {
      "cell_type": "markdown",
      "metadata": {
        "id": "LOTlkP0H11cf"
      },
      "source": [
        "**División**\n",
        "ACLARACIÓN : **NO** aplica la ley conmutativa. El símbolo de división(/)"
      ]
    },
    {
      "cell_type": "code",
      "metadata": {
        "colab": {
          "base_uri": "https://localhost:8080/"
        },
        "id": "Nkw5FMcj2Ifh",
        "outputId": "4f7e6b5d-2cfc-4f4d-86ef-9efe7855402b"
      },
      "source": [
        "a=20\n",
        "b=4\n",
        "print(a/b, b/a, a+b, a-b)"
      ],
      "execution_count": null,
      "outputs": [
        {
          "output_type": "stream",
          "text": [
            "5.0 0.2 24 16\n"
          ],
          "name": "stdout"
        }
      ]
    },
    {
      "cell_type": "markdown",
      "metadata": {
        "id": "aDBYr8Wd2bVX"
      },
      "source": [
        "Para el print podemos separar las operaciones por variable con (,). Lo cual, no afecta la impresión de los resultados por operación asignada."
      ]
    },
    {
      "cell_type": "markdown",
      "metadata": {
        "id": "2nZabzTI3AGw"
      },
      "source": [
        "**Tipos de división**\n",
        "1. División Exacta (//)\n",
        "2. División Inexacta(/)"
      ]
    },
    {
      "cell_type": "code",
      "metadata": {
        "colab": {
          "base_uri": "https://localhost:8080/"
        },
        "id": "pxoZgLOV3c_N",
        "outputId": "b8cd25c7-8684-4eeb-c4ca-b7412a702b04"
      },
      "source": [
        "print(15/4)\n",
        "print(15//4)"
      ],
      "execution_count": null,
      "outputs": [
        {
          "output_type": "stream",
          "text": [
            "3.75\n",
            "3\n"
          ],
          "name": "stdout"
        }
      ]
    },
    {
      "cell_type": "markdown",
      "metadata": {
        "id": "E7fxIyL63z42"
      },
      "source": [
        "# **Nota:** \n",
        "La operación de divisón, al igual que una división normal, **NO** es posible dividir entre cero. ¿Por qué? Porque en matematicas es un resultado indefinido.\n",
        "\n",
        " 4. Potenciación\n",
        " 5. Modulo"
      ]
    },
    {
      "cell_type": "markdown",
      "metadata": {
        "id": "0Q0oZI6G4hpu"
      },
      "source": [
        "**Potenciación**\n",
        "\n",
        "En python el simbolo es (**)  en otros programas es este (^).\n",
        "El primer valor es la base y el último valor el exponente."
      ]
    },
    {
      "cell_type": "code",
      "metadata": {
        "colab": {
          "base_uri": "https://localhost:8080/"
        },
        "id": "q_GthClY48t-",
        "outputId": "3523cc41-a36f-495c-c6d0-83c2c5488fa3"
      },
      "source": [
        "print (2**4)"
      ],
      "execution_count": null,
      "outputs": [
        {
          "output_type": "stream",
          "text": [
            "16\n"
          ],
          "name": "stdout"
        }
      ]
    },
    {
      "cell_type": "markdown",
      "metadata": {
        "id": "0cheJYc-5KH_"
      },
      "source": [
        "**Módulo**\n",
        "\n",
        "Le llamamos módulo al residuo de la operación de división. El símbolo usado para mostrar el residuo es (%).\n",
        "El primer valor es el dividendo y el segundo valor es el divisor. "
      ]
    },
    {
      "cell_type": "code",
      "metadata": {
        "colab": {
          "base_uri": "https://localhost:8080/"
        },
        "id": "fVeBGRZF5daO",
        "outputId": "12ab7de3-3208-4202-852c-df8b558de424"
      },
      "source": [
        "print(88%9)"
      ],
      "execution_count": null,
      "outputs": [
        {
          "output_type": "stream",
          "text": [
            "7\n"
          ],
          "name": "stdout"
        }
      ]
    },
    {
      "cell_type": "markdown",
      "metadata": {
        "id": "_lNeDBOd8Bo9"
      },
      "source": [
        "** Operadores de comparación**\n",
        "\n",
        "Los operadores de comparación sirven para comparar varios valores.\n",
        "En la vida cotidiana a la hora de tomar decisiones, tenemos que decidir entre un camino u otro.\n",
        "Ejemplo: en la compras, decisiones de vida, caminos por recorrer.\n"
      ]
    },
    {
      "cell_type": "markdown",
      "metadata": {
        "id": "DNiPIoCd86EW"
      },
      "source": [
        "**Igualdad**\n",
        "\n",
        "Simbolo en Python es (==)"
      ]
    },
    {
      "cell_type": "code",
      "metadata": {
        "colab": {
          "base_uri": "https://localhost:8080/"
        },
        "id": "2FdZ1xsi84jK",
        "outputId": "bbfad047-9901-4199-ec89-0334747eaab1"
      },
      "source": [
        "x=30\n",
        "z=31\n",
        "print(x==z)"
      ],
      "execution_count": null,
      "outputs": [
        {
          "output_type": "stream",
          "text": [
            "False\n"
          ],
          "name": "stdout"
        }
      ]
    },
    {
      "cell_type": "code",
      "metadata": {
        "colab": {
          "base_uri": "https://localhost:8080/"
        },
        "id": "7zg28VlV9LJU",
        "outputId": "e9251589-ef96-4bd2-f914-323acfb23345"
      },
      "source": [
        "x=\"casa\"\n",
        "z=\"casa\"\n",
        "print(x==z)"
      ],
      "execution_count": null,
      "outputs": [
        {
          "output_type": "stream",
          "text": [
            "True\n"
          ],
          "name": "stdout"
        }
      ]
    },
    {
      "cell_type": "markdown",
      "metadata": {
        "id": "sHLkHE9i_SRo"
      },
      "source": [
        "**Diferencia**\n",
        "\n",
        "A diferencia del operador de igualdad, el simbolo esta combinado por el simbolo de admiración, es decir (!=)"
      ]
    },
    {
      "cell_type": "code",
      "metadata": {
        "colab": {
          "base_uri": "https://localhost:8080/"
        },
        "id": "wIHO0q-q_kHz",
        "outputId": "18d868de-3c92-4102-a39a-3e9f34ae2645"
      },
      "source": [
        "x=\"casa\"\n",
        "z=\"caza\"\n",
        "print(x!=z)"
      ],
      "execution_count": null,
      "outputs": [
        {
          "output_type": "stream",
          "text": [
            "True\n"
          ],
          "name": "stdout"
        }
      ]
    },
    {
      "cell_type": "markdown",
      "metadata": {
        "id": "uQVSpjhh_vM_"
      },
      "source": [
        "**Mayor que**\n",
        "\n",
        "Símbolo en Python(>) Siempre en comparativa se designa cual es menor o el mayor, por el valor que esta a la izquierda de la operación.\n"
      ]
    },
    {
      "cell_type": "code",
      "metadata": {
        "colab": {
          "base_uri": "https://localhost:8080/"
        },
        "id": "TWkd0Zb-_3w7",
        "outputId": "54841ec2-ccf3-4c64-caef-ea4560f46ffc"
      },
      "source": [
        "print(30>29.8)\n",
        "print(20>10)"
      ],
      "execution_count": null,
      "outputs": [
        {
          "output_type": "stream",
          "text": [
            "True\n"
          ],
          "name": "stdout"
        }
      ]
    },
    {
      "cell_type": "markdown",
      "metadata": {
        "id": "yeuZEjxqAUf2"
      },
      "source": [
        "**Menor que **\n",
        "Caso contrario, el simbolo es (<)."
      ]
    },
    {
      "cell_type": "code",
      "metadata": {
        "colab": {
          "base_uri": "https://localhost:8080/"
        },
        "id": "c9lGEjTdBAU8",
        "outputId": "06f94e32-a48b-4d9e-c304-7c46adb87801"
      },
      "source": [
        "x=4\n",
        "y=3\n",
        "print(x<y)"
      ],
      "execution_count": null,
      "outputs": [
        {
          "output_type": "stream",
          "text": [
            "False\n"
          ],
          "name": "stdout"
        }
      ]
    },
    {
      "cell_type": "markdown",
      "metadata": {
        "id": "cChgme6MBKLL"
      },
      "source": [
        "**Mayor o igual que**\n",
        "\n",
        "Es similar al mayor que, con la diferencia de que la forma en que dará resultado verdadero es si ambos números son iguales o flexibiliza dando verdadero de igual forma si elvalor de la izquierda es mayor que el de la derecha. El simbolo es (>=).\n"
      ]
    },
    {
      "cell_type": "code",
      "metadata": {
        "colab": {
          "base_uri": "https://localhost:8080/"
        },
        "id": "XJRkuOZOBuY7",
        "outputId": "48625eec-da39-4680-e451-0968cb0f6812"
      },
      "source": [
        "x=10\n",
        "y=5\n",
        "print(x>=y)"
      ],
      "execution_count": null,
      "outputs": [
        {
          "output_type": "stream",
          "text": [
            "True\n"
          ],
          "name": "stdout"
        }
      ]
    },
    {
      "cell_type": "markdown",
      "metadata": {
        "id": "Y2dlDlFGB1mK"
      },
      "source": [
        "**Menor o igual que **\n",
        " \n",
        " El simbolo es (<=)"
      ]
    },
    {
      "cell_type": "code",
      "metadata": {
        "colab": {
          "base_uri": "https://localhost:8080/"
        },
        "id": "i4scRyCNCB_K",
        "outputId": "d2043ea2-2a5a-4999-984b-0841326c6ecd"
      },
      "source": [
        "c=45\n",
        "print(c<=45)"
      ],
      "execution_count": null,
      "outputs": [
        {
          "output_type": "stream",
          "text": [
            "True\n"
          ],
          "name": "stdout"
        }
      ]
    },
    {
      "cell_type": "markdown",
      "metadata": {
        "id": "oLOIZSV3CZDP"
      },
      "source": [
        "tener en cuenta: "
      ]
    },
    {
      "cell_type": "markdown",
      "metadata": {
        "id": "q8locgrVCkiD"
      },
      "source": [
        "# OPERADORES LÓGICOS\n",
        "\n",
        "Python incluye tres operadores lógicos base:\n",
        "1. AND (y)\n",
        "2. OR (o)\n",
        "3. NOT (No)\n",
        "\n",
        "Los opreadores lógicos funcionan solo con valores o variables booleanas, a su vez devuelven como respuesta valores booleanos."
      ]
    },
    {
      "cell_type": "markdown",
      "metadata": {
        "id": "mMVjC9WBDGAb"
      },
      "source": [
        "**Operador AND**\n",
        "\n",
        "Este operador solo devolvera (verdadero9 si ambos valores lo son.\n",
        "¿Como usar el operador AND?\n",
        "Para usar este operador bastacon escribir un valor booleano, luego, la palabra \"and\" y por último otro valor booleano.\n",
        "Ejemplo:"
      ]
    },
    {
      "cell_type": "code",
      "metadata": {
        "colab": {
          "base_uri": "https://localhost:8080/"
        },
        "id": "yWpieTQwDvYq",
        "outputId": "4d1ace42-4ec5-4a6f-9ccd-7b1a8989785b"
      },
      "source": [
        "print(True and False)"
      ],
      "execution_count": null,
      "outputs": [
        {
          "output_type": "stream",
          "text": [
            "False\n"
          ],
          "name": "stdout"
        }
      ]
    },
    {
      "cell_type": "markdown",
      "metadata": {
        "id": "LALkrt3BD965"
      },
      "source": [
        "**Ejemplo 2 de contextualización**\n",
        "\n",
        "1.**  True and True = True**\n",
        "2.  True and False = False\n",
        "3.  False and False = True\n",
        "4. False and True = False"
      ]
    },
    {
      "cell_type": "markdown",
      "metadata": {
        "id": "YIVYT19dEca0"
      },
      "source": [
        ""
      ]
    },
    {
      "cell_type": "markdown",
      "metadata": {
        "id": "kYBpCgZUEhCa"
      },
      "source": [
        "**Ejemplo  de contextualización de OR**\n",
        "\n",
        "**1. False or False = false**\n",
        "\n",
        "2. True or True = True\n",
        "3. True or False = True\n",
        "4. False and True = True"
      ]
    },
    {
      "cell_type": "code",
      "metadata": {
        "colab": {
          "base_uri": "https://localhost:8080/"
        },
        "id": "gNp64-szFMwS",
        "outputId": "788656df-608c-44ce-8361-3d3eba02fd63"
      },
      "source": [
        "a=3\n",
        "b=2\n",
        "print(a>4 or a==4)\n",
        "print(b==b and a>=b)"
      ],
      "execution_count": null,
      "outputs": [
        {
          "output_type": "stream",
          "text": [
            "False\n",
            "True\n"
          ],
          "name": "stdout"
        }
      ]
    },
    {
      "cell_type": "markdown",
      "metadata": {
        "id": "HF_ASyiIFhr6"
      },
      "source": [
        "**Operador NOT**\n",
        "\n",
        "Este operador es de negación, en español estoy diciendo \"No\".\n",
        "Este operador es muy especial, dado que por si solo no sirve para hacer ninfguna operación, lo unico que hace es negar, o en palabras mas simples, invertir el valor booleano que viene despues de el.\n",
        "\n"
      ]
    },
    {
      "cell_type": "code",
      "metadata": {
        "colab": {
          "base_uri": "https://localhost:8080/"
        },
        "id": "s1y6qfCDGbJS",
        "outputId": "219aee4b-9b8d-4226-b54f-a7cc94b7435c"
      },
      "source": [
        "print(not False)\n",
        "print(not True)"
      ],
      "execution_count": null,
      "outputs": [
        {
          "output_type": "stream",
          "text": [
            "True\n",
            "False\n"
          ],
          "name": "stdout"
        }
      ]
    },
    {
      "cell_type": "markdown",
      "metadata": {
        "id": "WyqhEXmRHNpQ"
      },
      "source": [
        "**PRECEDENCIA DE OPERADORES*Es muy importante manejar el orden de las operaciones al realizarlas, para no caer en problemas de códgo error.\n",
        "1. de izquierda a derecha.\n",
        "2. se abren los parentesis\n",
        "3. Potenciación o radicación\n",
        "4. Multiplicación y división\n",
        "5. Suma o resta\n",
        "\n",
        "**Ejemplo**\n",
        "\n",
        "4-2(10)=\n",
        "1. primero el parentesis:\n",
        "\n",
        "4-2*10\n",
        "2. se continua con la multiplicación:\n",
        "\n",
        "4-20=\n",
        "3. por último la resta:\n",
        "\n",
        "4-20=-16\n",
        "\n",
        "¿Cuál crees que es el resultado de la siguiente operación?"
      ]
    },
    {
      "cell_type": "code",
      "metadata": {
        "colab": {
          "base_uri": "https://localhost:8080/"
        },
        "id": "ingGqQmyIoXZ",
        "outputId": "7a340a8a-4eec-4378-e742-218fd8f2bf58"
      },
      "source": [
        "a=False\n",
        "b=True\n",
        "c=True\n",
        "print(not c and (a or b))"
      ],
      "execution_count": null,
      "outputs": [
        {
          "output_type": "stream",
          "text": [
            "False\n"
          ],
          "name": "stdout"
        }
      ]
    },
    {
      "cell_type": "code",
      "metadata": {
        "colab": {
          "base_uri": "https://localhost:8080/"
        },
        "id": "PTtCb8gWI_-w",
        "outputId": "b9dfc45c-1d54-401d-d7e7-bcad960a4ed9"
      },
      "source": [
        "print(3-2*(13-5))"
      ],
      "execution_count": null,
      "outputs": [
        {
          "output_type": "stream",
          "text": [
            "-13\n"
          ],
          "name": "stdout"
        }
      ]
    },
    {
      "cell_type": "markdown",
      "metadata": {
        "id": "jfzXz866JYjp"
      },
      "source": [
        "# RESUMEN\n",
        "\n",
        "1. Aplicacion en ley conmutativa: solo para resta y suma (opreradores basicos)\n",
        "2. los resultados con operadores logicos son de tipo Booleano.\n",
        "3. No se puede realizar resta entre variables de tipo cadena (El procedimiento si abarca números en la conversión desde el inicio).\n",
        "4. si aplicamos  el comndicional AND, para el que el resultrado es TRUE, la única forma es que ambos valores sean verdaderos.\n",
        "5. En cambio con el OR, si cumple que algunos de los dos valores son TRUE, el resultado será TRUE."
      ]
    }
  ]
}