{
  "nbformat": 4,
  "nbformat_minor": 0,
  "metadata": {
    "colab": {
      "name": "Clase2.ipynb",
      "provenance": [],
      "authorship_tag": "ABX9TyOWqP3BNvHH2VTAI4Om9Kyb",
      "include_colab_link": true
    },
    "kernelspec": {
      "name": "python3",
      "display_name": "Python 3"
    },
    "language_info": {
      "name": "python"
    }
  },
  "cells": [
    {
      "cell_type": "markdown",
      "metadata": {
        "id": "view-in-github",
        "colab_type": "text"
      },
      "source": [
        "<a href=\"https://colab.research.google.com/github/IvoneForero/MDigitales/blob/main/Clase2.ipynb\" target=\"_parent\"><img src=\"https://colab.research.google.com/assets/colab-badge.svg\" alt=\"Open In Colab\"/></a>"
      ]
    },
    {
      "cell_type": "code",
      "metadata": {
        "id": "1MxiMXnevTIc"
      },
      "source": [
        ""
      ],
      "execution_count": null,
      "outputs": []
    },
    {
      "cell_type": "markdown",
      "metadata": {
        "id": "EEX85NBPvRMM"
      },
      "source": [
        "**Operadores aritméticos**\n",
        "\n",
        "Los operadores permiten realizar diferentes procesos de calculo en cualquier lenguaje de programción.\n",
        "\n",
        "1. (+) suma\n",
        "2. (-) resta\n",
        "3. (*) Multiplicación\n",
        "4. (/) División"
      ]
    },
    {
      "cell_type": "markdown",
      "metadata": {
        "id": "QgLKVkjFv7Pi"
      },
      "source": [
        "**Suma + y Resta -**\n",
        "\n",
        "Simbolo suma(+) el cual se utilizara en medio del la declaración de las variables a operar \n",
        "Simbolo resta (-)"
      ]
    },
    {
      "cell_type": "code",
      "metadata": {
        "colab": {
          "base_uri": "https://localhost:8080/"
        },
        "id": "tNY7MGXjvDqO",
        "outputId": "d3de58c7-6270-4d1f-ef88-debbddaa88cf"
      },
      "source": [
        "print(10+300)\n",
        "a=20\n",
        "b=35\n",
        "print (a-b)"
      ],
      "execution_count": 2,
      "outputs": [
        {
          "output_type": "stream",
          "text": [
            "310\n",
            "-15\n"
          ],
          "name": "stdout"
        }
      ]
    },
    {
      "cell_type": "code",
      "metadata": {
        "colab": {
          "base_uri": "https://localhost:8080/"
        },
        "id": "K_ighEz-w2Sd",
        "outputId": "1d7ba0ad-26c1-41a1-acef-dceaa6a57f2e"
      },
      "source": [
        "numero_botellas=12\n",
        "print(numero_botellas+8)"
      ],
      "execution_count": 3,
      "outputs": [
        {
          "output_type": "stream",
          "text": [
            "20\n"
          ],
          "name": "stdout"
        }
      ]
    },
    {
      "cell_type": "code",
      "metadata": {
        "colab": {
          "base_uri": "https://localhost:8080/"
        },
        "id": "cX02Tuocw-8D",
        "outputId": "2772916d-f173-4077-d136-59288f2fc5da"
      },
      "source": [
        "numero_botellas=12\n",
        "numero_botellas=numero_botellas+8\n",
        "print(numero_botellas)"
      ],
      "execution_count": 4,
      "outputs": [
        {
          "output_type": "stream",
          "text": [
            "20\n"
          ],
          "name": "stdout"
        }
      ]
    },
    {
      "cell_type": "markdown",
      "metadata": {
        "id": "fb_53QbZxSZ3"
      },
      "source": [
        "**Sumas entre los diferentes tipos de variables**\n",
        "\n",
        "recordemos los tipos de variables vistos en la clase de ayer:\n",
        "1. Declaración de variables números enteros.\n",
        "2. Flotantes (incorpora y flexibiliza los decimales)\n",
        "3. Tipo de cadena\n",
        "\n",
        "Al dar imprimir nos arroja el tipo de variable."
      ]
    },
    {
      "cell_type": "code",
      "metadata": {
        "colab": {
          "base_uri": "https://localhost:8080/"
        },
        "id": "FpOAAe3CxsjQ",
        "outputId": "1774579e-0e5f-4ca0-9260-c5ae9b18dbfa"
      },
      "source": [
        "q1=100\n",
        "q2=24.5\n",
        "print(type(q1))\n",
        "print(type(q2))\n",
        "print(type(q1+q2))"
      ],
      "execution_count": 6,
      "outputs": [
        {
          "output_type": "stream",
          "text": [
            "<class 'int'>\n",
            "<class 'float'>\n",
            "<class 'float'>\n"
          ],
          "name": "stdout"
        }
      ]
    },
    {
      "cell_type": "code",
      "metadata": {
        "colab": {
          "base_uri": "https://localhost:8080/"
        },
        "id": "4HJ9OkE8yOKz",
        "outputId": "87257ea5-115d-4d4d-e62c-35f7133823f1"
      },
      "source": [
        "v1=\"Quiero\"\n",
        "v2=\"un celular\"\n",
        "v3= v1+\" \"+v2\n",
        "print(v1+\" \"+v2)"
      ],
      "execution_count": 8,
      "outputs": [
        {
          "output_type": "stream",
          "text": [
            "Quiero un celular\n"
          ],
          "name": "stdout"
        }
      ]
    },
    {
      "cell_type": "code",
      "metadata": {
        "colab": {
          "base_uri": "https://localhost:8080/"
        },
        "id": "NN_87YcSyvgA",
        "outputId": "2429623a-6036-4207-bd42-ee3b56a0e906"
      },
      "source": [
        "xq2=235\n",
        "xq3=400\n",
        "print(xq2-xq3)\n",
        "\n",
        "xq2=24.66\n",
        "xq3=4\n",
        "print(type(xq2-xq3))"
      ],
      "execution_count": 12,
      "outputs": [
        {
          "output_type": "stream",
          "text": [
            "-165\n",
            "<class 'float'>\n"
          ],
          "name": "stdout"
        }
      ]
    },
    {
      "cell_type": "markdown",
      "metadata": {
        "id": "obQL-pmyzfu3"
      },
      "source": [
        "# IMPORTANTE\n",
        "\n",
        "La resta no funciona directamente para variable tipo  cadena. (Ejemplo de error)"
      ]
    },
    {
      "cell_type": "code",
      "metadata": {
        "colab": {
          "base_uri": "https://localhost:8080/",
          "height": 197
        },
        "id": "V9fQZSL2z2f2",
        "outputId": "d8450f5f-3de9-4292-af82-a821467290b5"
      },
      "source": [
        "v1=\"Quiero\"\n",
        "v2=\"un celular\"\n",
        "\n",
        "print(v1-v2)"
      ],
      "execution_count": 13,
      "outputs": [
        {
          "output_type": "error",
          "ename": "TypeError",
          "evalue": "ignored",
          "traceback": [
            "\u001b[0;31m---------------------------------------------------------------------------\u001b[0m",
            "\u001b[0;31mTypeError\u001b[0m                                 Traceback (most recent call last)",
            "\u001b[0;32m<ipython-input-13-61cd132a5a45>\u001b[0m in \u001b[0;36m<module>\u001b[0;34m()\u001b[0m\n\u001b[1;32m      2\u001b[0m \u001b[0mv2\u001b[0m\u001b[0;34m=\u001b[0m\u001b[0;34m\"un celular\"\u001b[0m\u001b[0;34m\u001b[0m\u001b[0;34m\u001b[0m\u001b[0m\n\u001b[1;32m      3\u001b[0m \u001b[0;34m\u001b[0m\u001b[0m\n\u001b[0;32m----> 4\u001b[0;31m \u001b[0mprint\u001b[0m\u001b[0;34m(\u001b[0m\u001b[0mv1\u001b[0m\u001b[0;34m-\u001b[0m\u001b[0mv2\u001b[0m\u001b[0;34m)\u001b[0m\u001b[0;34m\u001b[0m\u001b[0;34m\u001b[0m\u001b[0m\n\u001b[0m",
            "\u001b[0;31mTypeError\u001b[0m: unsupported operand type(s) for -: 'str' and 'str'"
          ]
        }
      ]
    },
    {
      "cell_type": "markdown",
      "metadata": {
        "id": "cE769GS50on9"
      },
      "source": [
        "# Multiplicación (*)\n",
        "\n",
        "Definamos la multiplicación como la suma de varias veces un número, cantidad de veces indicadas  por el otro número. Ejemplo 4*2=4+4"
      ]
    },
    {
      "cell_type": "code",
      "metadata": {
        "colab": {
          "base_uri": "https://localhost:8080/"
        },
        "id": "dWlk1uz51GGX",
        "outputId": "9ea0a03e-468b-447b-e8b4-1e75bd6d1612"
      },
      "source": [
        "cali=5\n",
        "palmira=6\n",
        "print(cali*palmira)"
      ],
      "execution_count": 14,
      "outputs": [
        {
          "output_type": "stream",
          "text": [
            "30\n"
          ],
          "name": "stdout"
        }
      ]
    },
    {
      "cell_type": "markdown",
      "metadata": {
        "id": "tmAy9yPF1OfQ"
      },
      "source": [
        "# Importante\n",
        "\n",
        "Se aplica la ley conmutativa\n",
        "Recordemos que la ley conmutativa es que el orden de los factores no altera los resultados (Aplica para suma y multiplicación)"
      ]
    },
    {
      "cell_type": "code",
      "metadata": {
        "colab": {
          "base_uri": "https://localhost:8080/"
        },
        "id": "IHEvtfJU1tzu",
        "outputId": "e4f2ce0f-dde8-4115-9610-0591de6face9"
      },
      "source": [
        "cali=5\n",
        "palmira=6\n",
        "print(cali*palmira)"
      ],
      "execution_count": 15,
      "outputs": [
        {
          "output_type": "stream",
          "text": [
            "30\n"
          ],
          "name": "stdout"
        }
      ]
    },
    {
      "cell_type": "markdown",
      "metadata": {
        "id": "LOTlkP0H11cf"
      },
      "source": [
        "**División**\n",
        "ACLARACIÓN : **NO** aplica la ley conmutativa. El símbolo de división(/)"
      ]
    },
    {
      "cell_type": "code",
      "metadata": {
        "colab": {
          "base_uri": "https://localhost:8080/"
        },
        "id": "Nkw5FMcj2Ifh",
        "outputId": "4f7e6b5d-2cfc-4f4d-86ef-9efe7855402b"
      },
      "source": [
        "a=20\n",
        "b=4\n",
        "print(a/b, b/a, a+b, a-b)"
      ],
      "execution_count": 16,
      "outputs": [
        {
          "output_type": "stream",
          "text": [
            "5.0 0.2 24 16\n"
          ],
          "name": "stdout"
        }
      ]
    },
    {
      "cell_type": "markdown",
      "metadata": {
        "id": "aDBYr8Wd2bVX"
      },
      "source": [
        "Para el print podemos separar las operaciones por variable con (,). Lo cual, no afecta la impresión de los resultados por operación asignada."
      ]
    },
    {
      "cell_type": "markdown",
      "metadata": {
        "id": "2nZabzTI3AGw"
      },
      "source": [
        "**Tipos de división**\n",
        "1. División Exacta (//)\n",
        "2. División Inexacta(/)"
      ]
    },
    {
      "cell_type": "code",
      "metadata": {
        "colab": {
          "base_uri": "https://localhost:8080/"
        },
        "id": "pxoZgLOV3c_N",
        "outputId": "b8cd25c7-8684-4eeb-c4ca-b7412a702b04"
      },
      "source": [
        "print(15/4)\n",
        "print(15//4)"
      ],
      "execution_count": 18,
      "outputs": [
        {
          "output_type": "stream",
          "text": [
            "3.75\n",
            "3\n"
          ],
          "name": "stdout"
        }
      ]
    },
    {
      "cell_type": "markdown",
      "metadata": {
        "id": "E7fxIyL63z42"
      },
      "source": [
        "# **Nota:** La operación de divisón, al igual que una división normal, **NO** es posible dividir entre cero. ¿Por qué? Porque en matematiccas es un resultado indefinido.\n",
        "\n",
        " 4. Potenciación\n",
        " 5. Modulo"
      ]
    },
    {
      "cell_type": "markdown",
      "metadata": {
        "id": "0Q0oZI6G4hpu"
      },
      "source": [
        "**Potenciación**\n",
        "\n",
        "En python el simbolo es (**)  en otros programas es este (^).\n",
        "El primer valor es la base y el último valor el exponente."
      ]
    },
    {
      "cell_type": "code",
      "metadata": {
        "colab": {
          "base_uri": "https://localhost:8080/"
        },
        "id": "q_GthClY48t-",
        "outputId": "3523cc41-a36f-495c-c6d0-83c2c5488fa3"
      },
      "source": [
        "print (2**4)"
      ],
      "execution_count": 19,
      "outputs": [
        {
          "output_type": "stream",
          "text": [
            "16\n"
          ],
          "name": "stdout"
        }
      ]
    },
    {
      "cell_type": "markdown",
      "metadata": {
        "id": "0cheJYc-5KH_"
      },
      "source": [
        "**Módulo**\n",
        "\n",
        "Le llamamos modulo al residuo de la operación de división. El símbolo usado para mostrar el residuo es (%).\n",
        "El primer valor es el dividendo y el segundo valor es el divisor. "
      ]
    },
    {
      "cell_type": "code",
      "metadata": {
        "colab": {
          "base_uri": "https://localhost:8080/"
        },
        "id": "fVeBGRZF5daO",
        "outputId": "12ab7de3-3208-4202-852c-df8b558de424"
      },
      "source": [
        "print(88%9)"
      ],
      "execution_count": 20,
      "outputs": [
        {
          "output_type": "stream",
          "text": [
            "7\n"
          ],
          "name": "stdout"
        }
      ]
    }
  ]
}