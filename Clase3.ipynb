{
  "nbformat": 4,
  "nbformat_minor": 0,
  "metadata": {
    "colab": {
      "name": "Clase3.ipynb",
      "provenance": [],
      "authorship_tag": "ABX9TyPo5tgSGlYwpC7xcfP3Ct4S",
      "include_colab_link": true
    },
    "kernelspec": {
      "name": "python3",
      "display_name": "Python 3"
    },
    "language_info": {
      "name": "python"
    }
  },
  "cells": [
    {
      "cell_type": "markdown",
      "metadata": {
        "id": "view-in-github",
        "colab_type": "text"
      },
      "source": [
        "<a href=\"https://colab.research.google.com/github/IvoneForero/MDigitales/blob/main/Clase3.ipynb\" target=\"_parent\"><img src=\"https://colab.research.google.com/assets/colab-badge.svg\" alt=\"Open In Colab\"/></a>"
      ]
    },
    {
      "cell_type": "markdown",
      "metadata": {
        "id": "11iNcwLj4fSK"
      },
      "source": [
        "Clase 3          06/Agosto/2021\n",
        "\n",
        "# Estructuras condicionales (Control)\n",
        "\n",
        "Al momento de construir una instrucción de tipo condicional se deberá comprender que dichas instrucciones, estan diseñadas para ayudar en la toma de decisiones.\n",
        "\n",
        "**Ejemplo:**\n",
        "\n",
        "**Si** pedro va a ala tienda por la izquierda, llegará más rápido, sino se demorará más.\n",
        "\n",
        "Existen varios tipos de instrucciones, algunos pueden ser simples y otros multiples, sin embargo, solo se generan dos resultados.\n",
        "1. Verdadero\n",
        "2. Falso\n",
        "\n",
        "En python tales resultados serían **True** o **False**.\n",
        "\n"
      ]
    },
    {
      "cell_type": "markdown",
      "metadata": {
        "id": "mEj5C4mj6PGi"
      },
      "source": [
        "Para aplicar los condicionales que veremos a continuación debemos recordar los comandos de operadores matemáticos vistos en la clase anterior:\n",
        "\n",
        "1. Igualdad (==)  // 2==7//  False\n",
        "2. Diferencia (!=)  //rosado != verde // True\n",
        "3. Menor que (<)  //12 > 11 // False\n",
        "4. Mayor que (>)   // 1>1.5 // False\n",
        "5. Menor o igual que (<=)  //30 <= 30 // True\n",
        "6. Mayor o igual que (>=)  //1>=2 // False"
      ]
    },
    {
      "cell_type": "markdown",
      "metadata": {
        "id": "oSvTi3Uc7L_a"
      },
      "source": [
        "En condiciones multiples podemos enlazar los operadores lógicos:\n",
        "1. y (and)\n",
        "2. o (or)\n",
        "3. No (no) \n",
        "\n",
        "Ejemplos:\n",
        "\n",
        "1. 3==8 and 8>12 // False\n",
        "2. 3==3 or 15<3 // True\n",
        "3. not True // False"
      ]
    },
    {
      "cell_type": "markdown",
      "metadata": {
        "id": "ok54oumx75Hp"
      },
      "source": [
        "Para aplicar los operadores matematicos logicos, tenemos que tener en cuenta lo que llamamos **diagrama de flujo**, esto nos permite mayor organización de las ideas para la toma de decisiones."
      ]
    },
    {
      "cell_type": "markdown",
      "metadata": {
        "id": "rqnE8NRv8MjI"
      },
      "source": [
        "#**El comando if**\n",
        "\n",
        "\n",
        "Este comando permite evaluar si una sentencia ers verdadera o falsa. Es decir, se ejecuta una acción establecida mediante un codígo de instrucciones o varias instrucciones inmediatamente en las líneas siguientes a dicha condición."
      ]
    },
    {
      "cell_type": "code",
      "metadata": {
        "colab": {
          "base_uri": "https://localhost:8080/"
        },
        "id": "-h6NhcnT4aKs",
        "outputId": "ab3da6e1-d6f4-4b47-e390-cc10276f7e6d"
      },
      "source": [
        "num= input ('Escribir un número cualquiera')\n",
        "if num == 200:\n",
        "  print (\"escribiste el 200\")"
      ],
      "execution_count": 5,
      "outputs": [
        {
          "output_type": "stream",
          "text": [
            "Escribir un número cualquiera100\n"
          ],
          "name": "stdout"
        }
      ]
    },
    {
      "cell_type": "markdown",
      "metadata": {
        "id": "HCOKcP9wCSW3"
      },
      "source": [
        "# **El comando ELSE** \n",
        "\n",
        "En español es conocido como \"si no\". Este comando permite relacionar las acciones que deberia realizar en caso de que la condicion sea falso."
      ]
    },
    {
      "cell_type": "code",
      "metadata": {
        "colab": {
          "base_uri": "https://localhost:8080/"
        },
        "id": "6ySS1j0lDRHO",
        "outputId": "24db8d61-b115-4e18-817b-f789d74fd24b"
      },
      "source": [
        "num= input ('Escribir un número cualquiera')\n",
        "if num == 200:\n",
        "  print (\"escribiste el 200\")\n",
        "else: \n",
        "    print (\"El número escrito No es 200\")"
      ],
      "execution_count": 9,
      "outputs": [
        {
          "output_type": "stream",
          "text": [
            "Escribir un número cualquiera200\n",
            "El número escrito No es 200\n"
          ],
          "name": "stdout"
        }
      ]
    },
    {
      "cell_type": "code",
      "metadata": {
        "colab": {
          "base_uri": "https://localhost:8080/"
        },
        "id": "9ZnYkv7ZCk3m",
        "outputId": "6749a37f-07f8-43f8-d534-a9a8624bdbec"
      },
      "source": [
        "num= int(input ('Escribir un número cualquiera'))\n",
        "if num == 200:\n",
        "  print (\"escribiste el 200\")\n",
        "else: \n",
        "    print (\"El número escrito No es 200\")"
      ],
      "execution_count": 10,
      "outputs": [
        {
          "output_type": "stream",
          "text": [
            "Escribir un número cualquiera200\n",
            "escribiste el 200\n"
          ],
          "name": "stdout"
        }
      ]
    },
    {
      "cell_type": "markdown",
      "metadata": {
        "id": "Z-toj21iD3gx"
      },
      "source": [
        "# **El comando ELIF** \n",
        "\n",
        "Significa \"sino, si\" y permite concatenar condiciones:"
      ]
    },
    {
      "cell_type": "code",
      "metadata": {
        "id": "07vcaOtUEIZ1"
      },
      "source": [
        "num= int(input ('Escribir un número cualquiera'))\n",
        "if num == 200:\n",
        "  print (\"escribiste el 200\")\n",
        "elif num >200\n",
        "  print(\"El número escrito es MAYOR a 200\")\n",
        "else: \n",
        "    print (\"El número escrito NO ES 200\")"
      ],
      "execution_count": null,
      "outputs": []
    },
    {
      "cell_type": "code",
      "metadata": {
        "colab": {
          "base_uri": "https://localhost:8080/"
        },
        "id": "mzov-tupGRmu",
        "outputId": "0ecde398-1097-4210-cb21-acdf33696d1c"
      },
      "source": [
        "num= int(input ('Escribir un número cualquiera'))\n",
        "if num == 200:\n",
        "  print (\"escribiste el 200\")\n",
        "else:\n",
        "  if num >200:\n",
        "    print(\"El número escrito es MAYOR a 200\")\n",
        "  else: \n",
        "    print (\"El número escrito NO ES 200\")\n",
        "  "
      ],
      "execution_count": 12,
      "outputs": [
        {
          "output_type": "stream",
          "text": [
            "Escribir un número cualquiera150\n",
            "El número escrito NO ES 200\n"
          ],
          "name": "stdout"
        }
      ]
    },
    {
      "cell_type": "markdown",
      "metadata": {
        "id": "kpqkxW54HkMl"
      },
      "source": [
        "# **Condiciones Múltiples**\n",
        "\n",
        "Cuando se presentan situaciones con más de una condición que dependen unas de otras, estas se pueden tratar mediante el manejo de varias sentencias o comandos if, o mediante el manejo del comando elif. Sin embargo, en muchos casos cuando hay múltiples condiciones, la programación necesita mayor cantidad de lineas de código.\n",
        "En esos casos, es necesario, el uso de operadores lógicos como el and y el or."
      ]
    },
    {
      "cell_type": "code",
      "metadata": {
        "colab": {
          "base_uri": "https://localhost:8080/"
        },
        "id": "0ZzLWZP5IkG9",
        "outputId": "b560ba85-f89e-4876-bdc0-02b1b648708d"
      },
      "source": [
        "x= int(input(\"valor\"))  #Condicional anidada\n",
        "if 0<x:\n",
        "  if x<10:\n",
        "    print(\"x es un número positivo\")"
      ],
      "execution_count": 16,
      "outputs": [
        {
          "output_type": "stream",
          "text": [
            "valor3\n",
            "x es un número positivo\n"
          ],
          "name": "stdout"
        }
      ]
    },
    {
      "cell_type": "code",
      "metadata": {
        "colab": {
          "base_uri": "https://localhost:8080/"
        },
        "id": "EZD_TAgQJ8Xl",
        "outputId": "d9b2fe0a-2245-4101-dbdb-eabc47773b90"
      },
      "source": [
        "x=int(input(\"valor\")) # Condicional boolena\n",
        "if 0<x and x<10:\n",
        "  print(\"x es un número de un solo dígito\")"
      ],
      "execution_count": 20,
      "outputs": [
        {
          "output_type": "stream",
          "text": [
            "valor15\n"
          ],
          "name": "stdout"
        }
      ]
    },
    {
      "cell_type": "code",
      "metadata": {
        "colab": {
          "base_uri": "https://localhost:8080/"
        },
        "id": "G_ovR1WxKwL7",
        "outputId": "2b35d453-c206-4a94-9d27-ea496b4bf8f6"
      },
      "source": [
        "x=int(input(\"valor\")) # Condicional\n",
        "if 0<x<10:\n",
        "  print(\"x es un número de un solo dígito\")"
      ],
      "execution_count": 21,
      "outputs": [
        {
          "output_type": "stream",
          "text": [
            "valor15\n"
          ],
          "name": "stdout"
        }
      ]
    },
    {
      "cell_type": "markdown",
      "metadata": {
        "id": "bbkQSyCGLdN3"
      },
      "source": [
        "Esta condición es la misma expresión booleana compuesta y la misma expresión condicional anidada."
      ]
    }
  ]
}