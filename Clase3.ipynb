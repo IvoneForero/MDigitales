{
  "nbformat": 4,
  "nbformat_minor": 0,
  "metadata": {
    "colab": {
      "name": "Clase3.ipynb",
      "provenance": [],
      "authorship_tag": "ABX9TyPb4q09SHY6DV1NOIuaaRAc",
      "include_colab_link": true
    },
    "kernelspec": {
      "name": "python3",
      "display_name": "Python 3"
    },
    "language_info": {
      "name": "python"
    }
  },
  "cells": [
    {
      "cell_type": "markdown",
      "metadata": {
        "id": "view-in-github",
        "colab_type": "text"
      },
      "source": [
        "<a href=\"https://colab.research.google.com/github/IvoneForero/MDigitales/blob/main/Clase3.ipynb\" target=\"_parent\"><img src=\"https://colab.research.google.com/assets/colab-badge.svg\" alt=\"Open In Colab\"/></a>"
      ]
    },
    {
      "cell_type": "markdown",
      "metadata": {
        "id": "11iNcwLj4fSK"
      },
      "source": [
        "Clase 3          06/Agosto/2021\n",
        "\n",
        "# Estructuras condicionales (Control)\n",
        "\n",
        "Al momento de construir una instrucción de tipo condicional se deberá comprender que dichas instrucciones, estan diseñadas para ayudar en la toma de decisiones.\n",
        "\n",
        "**Ejemplo:**\n",
        "\n",
        "**Si** pedro va a ala tienda por la izquierda, llegará más rápido, sino se demorará más.\n",
        "\n",
        "Existen varios tipos de instrucciones, algunos pueden ser simples y otros multiples, sin embargo, solo se generan dos resultados.\n",
        "1. Verdadero\n",
        "2. Falso\n",
        "\n",
        "En python tales resultados serían **True** o **False**.\n",
        "\n"
      ]
    },
    {
      "cell_type": "markdown",
      "metadata": {
        "id": "mEj5C4mj6PGi"
      },
      "source": [
        "Para aplicar los condicionales que veremos a continuación debemos recordar los comandos de operadores matemáticos vistos en la clase anterior:\n",
        "\n",
        "1. Igualdad (==)  // 2==7//  False\n",
        "2. Diferencia (!=)  //rosado != verde // True\n",
        "3. Menor que (<)  //12 > 11 // False\n",
        "4. Mayor que (>)   // 1>1.5 // False\n",
        "5. Menor o igual que (<=)  //30 <= 30 // True\n",
        "6. Mayor o igual que (>=)  //1>=2 // False"
      ]
    },
    {
      "cell_type": "markdown",
      "metadata": {
        "id": "oSvTi3Uc7L_a"
      },
      "source": [
        "En condiciones multiples podemos enlazar los operadores lógicos:\n",
        "1. y (and)\n",
        "2. o (or)\n",
        "3. No (no) \n",
        "\n",
        "Ejemplos:\n",
        "\n",
        "1. 3==8 and 8>12 // False\n",
        "2. 3==3 or 15<3 // True\n",
        "3. not True // False"
      ]
    },
    {
      "cell_type": "markdown",
      "metadata": {
        "id": "ok54oumx75Hp"
      },
      "source": [
        "![Clase3Diagrama.png](data:image/png;base64,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)\n",
        "\n",
        "Para aplicar los operadores matematicos logicos, tenemos que tener en cuenta lo que llamamos **diagrama de flujo**, esto nos permite mayor organización de las ideas para la toma de decisiones."
      ]
    },
    {
      "cell_type": "markdown",
      "metadata": {
        "id": "rqnE8NRv8MjI"
      },
      "source": [
        "#**El comando if**\n",
        "\n",
        "\n",
        "Este comando permite evaluar si una sentencia ers verdadera o falsa. Es decir, se ejecuta una acción establecida mediante un codígo de instrucciones o varias instrucciones inmediatamente en las líneas siguientes a dicha condición."
      ]
    },
    {
      "cell_type": "code",
      "metadata": {
        "colab": {
          "base_uri": "https://localhost:8080/"
        },
        "id": "-h6NhcnT4aKs",
        "outputId": "ab3da6e1-d6f4-4b47-e390-cc10276f7e6d"
      },
      "source": [
        "num= input ('Escribir un número cualquiera')\n",
        "if num == 200:\n",
        "  print (\"escribiste el 200\")"
      ],
      "execution_count": null,
      "outputs": [
        {
          "output_type": "stream",
          "text": [
            "Escribir un número cualquiera100\n"
          ],
          "name": "stdout"
        }
      ]
    },
    {
      "cell_type": "markdown",
      "metadata": {
        "id": "HCOKcP9wCSW3"
      },
      "source": [
        "# **El comando ELSE** \n",
        "\n",
        "En español es conocido como \"si no\". Este comando permite relacionar las acciones que deberia realizar en caso de que la condicion sea falso."
      ]
    },
    {
      "cell_type": "code",
      "metadata": {
        "colab": {
          "base_uri": "https://localhost:8080/"
        },
        "id": "6ySS1j0lDRHO",
        "outputId": "24db8d61-b115-4e18-817b-f789d74fd24b"
      },
      "source": [
        "num= input ('Escribir un número cualquiera')\n",
        "if num == 200:\n",
        "  print (\"escribiste el 200\")\n",
        "else: \n",
        "    print (\"El número escrito No es 200\")"
      ],
      "execution_count": null,
      "outputs": [
        {
          "output_type": "stream",
          "text": [
            "Escribir un número cualquiera200\n",
            "El número escrito No es 200\n"
          ],
          "name": "stdout"
        }
      ]
    },
    {
      "cell_type": "code",
      "metadata": {
        "colab": {
          "base_uri": "https://localhost:8080/"
        },
        "id": "9ZnYkv7ZCk3m",
        "outputId": "6749a37f-07f8-43f8-d534-a9a8624bdbec"
      },
      "source": [
        "num= int(input ('Escribir un número cualquiera'))\n",
        "if num == 200:\n",
        "  print (\"escribiste el 200\")\n",
        "else: \n",
        "    print (\"El número escrito No es 200\")"
      ],
      "execution_count": null,
      "outputs": [
        {
          "output_type": "stream",
          "text": [
            "Escribir un número cualquiera200\n",
            "escribiste el 200\n"
          ],
          "name": "stdout"
        }
      ]
    },
    {
      "cell_type": "markdown",
      "metadata": {
        "id": "Z-toj21iD3gx"
      },
      "source": [
        "# **El comando ELIF** \n",
        "\n",
        "Significa \"sino, si\" y permite concatenar condiciones:"
      ]
    },
    {
      "cell_type": "code",
      "metadata": {
        "id": "07vcaOtUEIZ1"
      },
      "source": [
        "num= int(input ('Escribir un número cualquiera'))\n",
        "if num == 200:\n",
        "  print (\"escribiste el 200\")\n",
        "elif num >200\n",
        "  print(\"El número escrito es MAYOR a 200\")\n",
        "else: \n",
        "    print (\"El número escrito NO ES 200\")"
      ],
      "execution_count": null,
      "outputs": []
    },
    {
      "cell_type": "code",
      "metadata": {
        "colab": {
          "base_uri": "https://localhost:8080/"
        },
        "id": "mzov-tupGRmu",
        "outputId": "0ecde398-1097-4210-cb21-acdf33696d1c"
      },
      "source": [
        "num= int(input ('Escribir un número cualquiera'))\n",
        "if num == 200:\n",
        "  print (\"escribiste el 200\")\n",
        "else:\n",
        "  if num >200:\n",
        "    print(\"El número escrito es MAYOR a 200\")\n",
        "  else: \n",
        "    print (\"El número escrito NO ES 200\")\n",
        "  "
      ],
      "execution_count": null,
      "outputs": [
        {
          "output_type": "stream",
          "text": [
            "Escribir un número cualquiera150\n",
            "El número escrito NO ES 200\n"
          ],
          "name": "stdout"
        }
      ]
    },
    {
      "cell_type": "markdown",
      "metadata": {
        "id": "kpqkxW54HkMl"
      },
      "source": [
        "# **Condiciones Múltiples**\n",
        "\n",
        "Cuando se presentan situaciones con más de una condición que dependen unas de otras, estas se pueden tratar mediante el manejo de varias sentencias o comandos if, o mediante el manejo del comando elif. Sin embargo, en muchos casos cuando hay múltiples condiciones, la programación necesita mayor cantidad de lineas de código.\n",
        "En esos casos, es necesario, el uso de operadores lógicos como el and y el or."
      ]
    },
    {
      "cell_type": "code",
      "metadata": {
        "colab": {
          "base_uri": "https://localhost:8080/"
        },
        "id": "0ZzLWZP5IkG9",
        "outputId": "b560ba85-f89e-4876-bdc0-02b1b648708d"
      },
      "source": [
        "x= int(input(\"valor\"))  #Condicional anidada\n",
        "if 0<x:\n",
        "  if x<10:\n",
        "    print(\"x es un número positivo\")"
      ],
      "execution_count": null,
      "outputs": [
        {
          "output_type": "stream",
          "text": [
            "valor3\n",
            "x es un número positivo\n"
          ],
          "name": "stdout"
        }
      ]
    },
    {
      "cell_type": "code",
      "metadata": {
        "colab": {
          "base_uri": "https://localhost:8080/"
        },
        "id": "EZD_TAgQJ8Xl",
        "outputId": "d9b2fe0a-2245-4101-dbdb-eabc47773b90"
      },
      "source": [
        "x=int(input(\"valor\")) # Condicional boolena\n",
        "if 0<x and x<10:\n",
        "  print(\"x es un número de un solo dígito\")"
      ],
      "execution_count": null,
      "outputs": [
        {
          "output_type": "stream",
          "text": [
            "valor15\n"
          ],
          "name": "stdout"
        }
      ]
    },
    {
      "cell_type": "code",
      "metadata": {
        "colab": {
          "base_uri": "https://localhost:8080/"
        },
        "id": "G_ovR1WxKwL7",
        "outputId": "2b35d453-c206-4a94-9d27-ea496b4bf8f6"
      },
      "source": [
        "x=int(input(\"valor\")) # Condicional\n",
        "if 0<x<10:\n",
        "  print(\"x es un número de un solo dígito\")"
      ],
      "execution_count": null,
      "outputs": [
        {
          "output_type": "stream",
          "text": [
            "valor15\n"
          ],
          "name": "stdout"
        }
      ]
    },
    {
      "cell_type": "markdown",
      "metadata": {
        "id": "bbkQSyCGLdN3"
      },
      "source": [
        "Esta condición es la misma expresión booleana compuesta y la misma expresión condicional anidada."
      ]
    },
    {
      "cell_type": "markdown",
      "metadata": {
        "id": "N-CvTYFLM7o0"
      },
      "source": [
        "# **Estructuras de control iterativas**\n",
        "\n",
        "las variables son claves en las estructuras de control iterativas, puesto que son el medio entre la iteración y la condición que se este ejecutando.\n",
        "\n",
        "**¿Que es iteración?**\n",
        "\n",
        "Iteración es la consecución del codigo tantas veces requiera hasta que se cumplan las condiciones establecidas.\n",
        "\n",
        "**Banderas **\n",
        "Son las variablers que toman un valor preferiblemente binario, booleano e indican un estado.\n",
        "\n",
        "ejemplo:\n"
      ]
    },
    {
      "cell_type": "code",
      "metadata": {
        "colab": {
          "base_uri": "https://localhost:8080/"
        },
        "id": "_Sxw3AQwNzdU",
        "outputId": "5eb3da5f-31d5-4d6a-a6f7-8454326e4369"
      },
      "source": [
        "suma=False\n",
        "total=0\n",
        "a=3\n",
        "b=10\n",
        "if (suma==False):\n",
        "  total=a+b\n",
        "  suma=True\n",
        "\n",
        "if (suma==True):\n",
        "  print(\"El valor total de la suma es:\",total)"
      ],
      "execution_count": null,
      "outputs": [
        {
          "output_type": "stream",
          "text": [
            "El valor total de la suma es: 13\n"
          ],
          "name": "stdout"
        }
      ]
    },
    {
      "cell_type": "markdown",
      "metadata": {
        "id": "J8_DKJaPPg-q"
      },
      "source": [
        "La variable suma en este caso es de tipo booleano y su finción es indicar cuando se ejecuto la suma. Por lo tanto tiene un estado inicial \"False\" pero luego de ejecutar la suma, toma el valor \"True\".\n",
        "Cuando pasa esto escuchamos la tipica frase \"La babdera que levantó\". Esto quiere decir que una u otra acción hizo que el estado de la bandera cambiará.\n",
        "\n",
        "\n",
        "Ejemplo cualitativo **CASO CONTAGIO**"
      ]
    },
    {
      "cell_type": "code",
      "metadata": {
        "colab": {
          "base_uri": "https://localhost:8080/"
        },
        "id": "ihisFIbuQfs8",
        "outputId": "eaa013cb-d5ae-4ad5-956e-0eb094b3f5c4"
      },
      "source": [
        "paciente=input(\"Nombre del paciente\")\n",
        "contagio_v= input (\"¿Te has realizado la prueba de contagio?\")\n",
        "\n",
        "if(contagio_v==\"No\"):\n",
        "  print(\"La paciente\", paciente, \"no se ha realizado la prueba para validar, por favor realizarse la pruenba en el centro más cercano\")\n",
        "  print(\"Aplicarse la prueba\")\n",
        "  contagio_v=\"Pendiente\"\n",
        "\n",
        "if (contagio_v==\"Pendiente\"):\n",
        "  print(paciente, \"por favor revisar el correo donde se le adjunto el resultado de la prueba\")\n",
        "  contagio_v=\"Si\"\n",
        "\n",
        "if (contagio_v==\"Si\"):\n",
        "  print(paciente, \"dado que es POSITIVO el resultado de su prueba, mantener una distancia de las personas por lo menos 15 días\")\n"
      ],
      "execution_count": null,
      "outputs": [
        {
          "output_type": "stream",
          "text": [
            "Nombre del pacienteivon\n",
            "¿Te has realizado la prueba de contagio?No\n",
            "La paciente ivon no se ha realizado la prueba para validar, por favor realizarse la pruenba en el centro más cercano\n",
            "Aplicarse la prueba\n",
            "ivon por favor revisar el correo donde se le adjunto el resultado de la prueba\n",
            "ivon dado que es POSITIVO el resultado de su prueba, mantener una distancia de las personas por lo menos 15 días\n"
          ],
          "name": "stdout"
        }
      ]
    },
    {
      "cell_type": "markdown",
      "metadata": {
        "id": "9r2uGsnST_am"
      },
      "source": [
        "**Ejercicio en Clase**\n",
        "\n",
        "El bootcamp comenzo el 26 de julio del 2021, se les explico a las estudiantes que se les evaluaría de la siguinte forma:\n",
        "\n",
        "\n",
        "* Tareas=10%\n",
        "* Talleres =25%\n",
        "* Asistencia= 5%\n",
        "* Participación=15%\n",
        "* Proyecto=45%\n",
        "\n",
        "Teniendo en cuenta las ponderaciones de calificación del bootcamp, las estudiantes deciden desarrollar un programa que les permita saber cuanto tendrían que sacar en el proyecto para tener una definitiva de 3.7 mínimo en el curso. Si las notas hasta el momento son las siguientes:\n",
        "* Tareas =4.5\n",
        "* Talleres=4\n",
        "* Asistencia=5\n",
        "* Participación=4\n",
        "\n",
        "¿Cuanto tendrían que sacar en el proyecto?."
      ]
    },
    {
      "cell_type": "code",
      "metadata": {
        "colab": {
          "base_uri": "https://localhost:8080/"
        },
        "id": "hQxyqYj3T6th",
        "outputId": "bcdbd507-77c0-4117-ce48-21664e08f19f"
      },
      "source": [
        "tareas=4.5\n",
        "talleres=4\n",
        "asistencia=5\n",
        "participacion=4\n",
        "proyecto=35\n",
        "total=tareas*0.1+talleres*0.25+asistencia*0.05+participacion*0.15\n",
        "aprobo=(3.7-total)/0.45\n",
        "print(aprobo)"
      ],
      "execution_count": null,
      "outputs": [
        {
          "output_type": "stream",
          "text": [
            "3.1111111111111116\n"
          ],
          "name": "stdout"
        }
      ]
    }
  ]
}