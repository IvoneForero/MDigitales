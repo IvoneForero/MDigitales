{
  "nbformat": 4,
  "nbformat_minor": 0,
  "metadata": {
    "colab": {
      "name": "Taller2_Clase8.ipynb",
      "provenance": [],
      "authorship_tag": "ABX9TyMTO8QMoOc7jAs3ZEanQrRa",
      "include_colab_link": true
    },
    "kernelspec": {
      "name": "python3",
      "display_name": "Python 3"
    },
    "language_info": {
      "name": "python"
    }
  },
  "cells": [
    {
      "cell_type": "markdown",
      "metadata": {
        "id": "view-in-github",
        "colab_type": "text"
      },
      "source": [
        "<a href=\"https://colab.research.google.com/github/IvoneForero/MDigitales/blob/main/Taller2_Clase8.ipynb\" target=\"_parent\"><img src=\"https://colab.research.google.com/assets/colab-badge.svg\" alt=\"Open In Colab\"/></a>"
      ]
    },
    {
      "cell_type": "code",
      "metadata": {
        "id": "E25KcF1N7BNI"
      },
      "source": [
        ""
      ],
      "execution_count": null,
      "outputs": []
    },
    {
      "cell_type": "markdown",
      "metadata": {
        "id": "PBDyfiJB7QbL"
      },
      "source": [
        "13/AGOSTO/2021    ----  CLASE 8  ----\n",
        "\n",
        "**Ejercicio de Funciones - Recordatorio**\n",
        "\n",
        "\n"
      ]
    },
    {
      "cell_type": "code",
      "metadata": {
        "colab": {
          "base_uri": "https://localhost:8080/",
          "height": 129
        },
        "id": "scUO3DDz8VRD",
        "outputId": "06fafa74-30e3-47be-d6f0-65e47ebb7c7c"
      },
      "source": [
        "lcompras=list()\n",
        "while articulo!=' ':\n",
        "   articulo=input(\"Que producto se va a comprar?\")\n",
        "  lcompras.append(articulo)\n",
        "print(lcompras)"
      ],
      "execution_count": 8,
      "outputs": [
        {
          "output_type": "error",
          "ename": "IndentationError",
          "evalue": "ignored",
          "traceback": [
            "\u001b[0;36m  File \u001b[0;32m\"<ipython-input-8-1650d07d4b44>\"\u001b[0;36m, line \u001b[0;32m4\u001b[0m\n\u001b[0;31m    lcompras.append(articulo)\u001b[0m\n\u001b[0m                             ^\u001b[0m\n\u001b[0;31mIndentationError\u001b[0m\u001b[0;31m:\u001b[0m unindent does not match any outer indentation level\n"
          ]
        }
      ]
    },
    {
      "cell_type": "markdown",
      "metadata": {
        "id": "n1OmZhIFAMLj"
      },
      "source": [
        "Se le pide a la analista realizar una estimación poblacional a partir de información descriptiva relevante sobre la población de los paisws en vía de desarrollo.\n",
        "\n",
        "Para ello de inicio a un programa que permita ingresar como prueba 5 países y su respectiva población e identificar que país tiene la mayor cantidad de habitantes."
      ]
    },
    {
      "cell_type": "code",
      "metadata": {
        "colab": {
          "base_uri": "https://localhost:8080/"
        },
        "id": "y8kYkP54A9vk",
        "outputId": "db222171-7cb1-4d94-b28a-a689cb1d2e4f"
      },
      "source": [
        "def poblacion():\n",
        "  pais=[]\n",
        "  for x in range(5):\n",
        "    nombre=input(\"Ingresa el nombre del pais:\")\n",
        "    cant=int(input(\"Ingrese la cantidad de habitantes:\"))\n",
        "    pais.append((nombre,cant))\n",
        "  return pais\n",
        "\n",
        "def view(pais):\n",
        "  print(\"Habitantes por país:\")\n",
        "  for x in range(len(pais)):\n",
        "    print(pais[x][0],pais[x][1])\n",
        "\n",
        "def mayor(pais):\n",
        "  p=0\n",
        "  for x in range(1, len(pais)):\n",
        "    if pais [x][1]>pais[p][1]:\n",
        "      pos=x\n",
        "  print(\"El país con la mas alta población registrada es:\", pais[pos][0])\n",
        "\n",
        "pais=poblacion()\n",
        "view(pais)\n",
        "mayor(pais)\n",
        "   "
      ],
      "execution_count": 21,
      "outputs": [
        {
          "output_type": "stream",
          "text": [
            "Ingresa el nombre del pais:jkdjasd\n",
            "Ingrese la cantidad de habitantes:4555\n",
            "Ingresa el nombre del pais:asdasd\n",
            "Ingrese la cantidad de habitantes:23555\n",
            "Ingresa el nombre del pais:asdasdasd\n",
            "Ingrese la cantidad de habitantes:22555\n",
            "Ingresa el nombre del pais:asdasdas\n",
            "Ingrese la cantidad de habitantes:6000\n",
            "Ingresa el nombre del pais:dasda\n",
            "Ingrese la cantidad de habitantes:7000\n",
            "Habitantes por país:\n",
            "jkdjasd 4555\n",
            "asdasd 23555\n",
            "asdasdasd 22555\n",
            "asdasdas 6000\n",
            "dasda 7000\n",
            "El país con la mas alta población registrada es: dasda\n"
          ],
          "name": "stdout"
        }
      ]
    },
    {
      "cell_type": "markdown",
      "metadata": {
        "id": "oCZ35v5kE9Cn"
      },
      "source": [
        "# **TALLER No. 2**\n",
        "\n",
        "---\n",
        "\n",
        "Se solicita realizar un programa que permita identificar el nivel de cumplimiento del area de ventas de la empresa AVA.\n",
        "\n",
        "Entre los principales requerimientos se encuentra los siguientes:\n",
        "\n",
        "1. Permita ingresar la cantidad de vendedores del area de ventas.\n",
        "2. Permita ingresar la puntuación por cada uno de ellos (escala de 1 a 10).\n",
        "3. El programa debe permitir identificar el vendedor con peor rendimiento y mejor rendimiento.\n",
        "4. Obtener también el promedio general del nivel de cumplimiento de área de ventas.\n",
        "\n",
        "**Nota:** si hay empate en la puntuación para definir el primer y último puesto, se define por orden alfabetico.\n"
      ]
    },
    {
      "cell_type": "code",
      "metadata": {
        "colab": {
          "base_uri": "https://localhost:8080/"
        },
        "id": "mfrmf7S1GMZR",
        "outputId": "dee3ead1-aacb-4098-e5a5-2fe1aa6c3fdc"
      },
      "source": [
        "se=[1,10,7,9,3,15]\n",
        "sorted(se)"
      ],
      "execution_count": 22,
      "outputs": [
        {
          "output_type": "execute_result",
          "data": {
            "text/plain": [
              "[1, 3, 7, 9, 10, 15]"
            ]
          },
          "metadata": {
            "tags": []
          },
          "execution_count": 22
        }
      ]
    },
    {
      "cell_type": "code",
      "metadata": {
        "colab": {
          "base_uri": "https://localhost:8080/"
        },
        "id": "jLVqJKm1GwkA",
        "outputId": "ff39cbd2-574f-4bdf-e2f5-9ddd6934afb1"
      },
      "source": [
        "def datos():\n",
        "  cantvend=input('Ingrese la cantida de vendedores:')\n",
        "  vendedor=[]\n",
        "  for x in range(int(cantvend)):\n",
        "    nombre=input(\"Ingresa el nombre del vendedor:\")\n",
        "    cant=int(input(\"Ingrese la puntuación:\"))\n",
        "    vendedor.append((nombre,cant))\n",
        "  return vendedor\n",
        "\n",
        "def promedio(vendedor):\n",
        "  acum=0\n",
        "  menor=0\n",
        "  mayor=0\n",
        "  vendedor = sorted(vendedor)\n",
        "  for x in range(0, len(vendedor)):\n",
        "    if vendedor[x][1]>vendedor[mayor][1]:\n",
        "      mayor=x\n",
        "  \n",
        "    if vendedor[x][1]<vendedor[menor][1]:\n",
        "      menor=x\n",
        "    \n",
        "    acum=acum+int(vendedor[x][1])\n",
        "  \n",
        "  print(\"El promedio general del nivel de cumpliento del área de ventas fué:\", round(acum/len(vendedor),2))\n",
        "  print(\"El vendedor con mayor puntiación es :\", vendedor[mayor][0], 'con una puntuación de:', vendedor[mayor][1])\n",
        "  print(\"El vendedor con menor puntiación es :\", vendedor[menor][0], 'con una puntuación de:', vendedor[menor][1])\n",
        "\n",
        "vendedor=datos()\n",
        "promedio(vendedor)\n",
        "\n"
      ],
      "execution_count": 46,
      "outputs": [
        {
          "output_type": "stream",
          "text": [
            "Ingrese la cantida de vendedores:5\n",
            "Ingresa el nombre del vendedor:Ivon Forero\n",
            "Ingrese la puntuación:10\n",
            "Ingresa el nombre del vendedor:Luisa Varón\n",
            "Ingrese la puntuación:10\n",
            "Ingresa el nombre del vendedor:Francy Neira\n",
            "Ingrese la puntuación:8\n",
            "Ingresa el nombre del vendedor:Armando Diaz \n",
            "Ingrese la puntuación:9\n",
            "Ingresa el nombre del vendedor:Juan Felipe Cruz\n",
            "Ingrese la puntuación:7\n",
            "El promedio general del nivel de cumpliento del área de ventas fué: 8.8\n",
            "El vendedor con mayor puntiación es : Ivon Forero con una puntuación de: 10\n",
            "El vendedor con menor puntiación es : Juan Felipe Cruz con una puntuación de: 7\n"
          ],
          "name": "stdout"
        }
      ]
    }
  ]
}