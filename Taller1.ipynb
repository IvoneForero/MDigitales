{
  "nbformat": 4,
  "nbformat_minor": 0,
  "metadata": {
    "colab": {
      "name": "Taller1.ipynb",
      "provenance": [],
      "authorship_tag": "ABX9TyOIbpo9UVCtZCjWQkAuddxU",
      "include_colab_link": true
    },
    "kernelspec": {
      "name": "python3",
      "display_name": "Python 3"
    },
    "language_info": {
      "name": "python"
    }
  },
  "cells": [
    {
      "cell_type": "markdown",
      "metadata": {
        "id": "view-in-github",
        "colab_type": "text"
      },
      "source": [
        "<a href=\"https://colab.research.google.com/github/IvoneForero/MDigitales/blob/main/Taller1.ipynb\" target=\"_parent\"><img src=\"https://colab.research.google.com/assets/colab-badge.svg\" alt=\"Open In Colab\"/></a>"
      ]
    },
    {
      "cell_type": "markdown",
      "metadata": {
        "id": "RtYoMTMIa6Pv"
      },
      "source": [
        "06/agosto/2021\n",
        "\n",
        "# **TALLER NÚMERO 1**\n",
        "\n",
        "El bootcamp comenzo el 26 de julio del 2021, se les explico a las estudiantes que se les evaluaría de la siguinte forma:\n",
        "\n",
        "\n",
        "* Tareas=10%\n",
        "* Talleres =25%\n",
        "* Asistencia= 5%\n",
        "* Participación=15%\n",
        "* Proyecto=45%\n",
        "\n",
        "Teniendo en cuenta las ponderaciones de calificación del bootcamp, las estudiantes deciden desarrollar un programa que les permita saber cuanto tendrían que sacar en el proyecto para tener una definitiva de 3.7 mínimo en el curso. Si las notas hasta el momento son las siguientes:\n",
        "* Tareas =4.5\n",
        "* Talleres=4\n",
        "* Asistencia=5\n",
        "* Participación=4\n",
        "\n",
        "¿Cuanto tendrían que sacar en el proyecto?."
      ]
    },
    {
      "cell_type": "code",
      "metadata": {
        "colab": {
          "base_uri": "https://localhost:8080/"
        },
        "id": "D2NvGvxCa5rH",
        "outputId": "28a22b64-9272-4a9a-c18b-6c720c2b2c05"
      },
      "source": [
        "tareas=4.5\n",
        "talleres=4\n",
        "asistencia=5\n",
        "participacion=4\n",
        "proyecto=35\n",
        "total=tareas*0.1+talleres*0.25+asistencia*0.05+participacion*0.15\n",
        "aprobo=(3.7-total)/0.45\n",
        "print(aprobo)"
      ],
      "execution_count": 1,
      "outputs": [
        {
          "output_type": "stream",
          "text": [
            "3.1111111111111116\n"
          ],
          "name": "stdout"
        }
      ]
    }
  ]
}