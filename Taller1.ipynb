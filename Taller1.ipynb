{
  "nbformat": 4,
  "nbformat_minor": 0,
  "metadata": {
    "colab": {
      "name": "Taller1.ipynb",
      "provenance": [],
      "authorship_tag": "ABX9TyNrQJER+2S3MG19gD72ay7b",
      "include_colab_link": true
    },
    "kernelspec": {
      "name": "python3",
      "display_name": "Python 3"
    },
    "language_info": {
      "name": "python"
    }
  },
  "cells": [
    {
      "cell_type": "markdown",
      "metadata": {
        "id": "view-in-github",
        "colab_type": "text"
      },
      "source": [
        "<a href=\"https://colab.research.google.com/github/IvoneForero/MDigitales/blob/main/Taller1.ipynb\" target=\"_parent\"><img src=\"https://colab.research.google.com/assets/colab-badge.svg\" alt=\"Open In Colab\"/></a>"
      ]
    },
    {
      "cell_type": "markdown",
      "metadata": {
        "id": "PURu_8vOr4vG"
      },
      "source": [
        "06/agosto/2021\n",
        "\n",
        "# TALLER NÚMERO 1\n",
        "El bootcamp comenzo el 26 de julio del 2021, se les explico a las estudiantes que se les evaluaría de la siguinte forma:\n",
        "\n",
        "* Tareas=10%\n",
        "* Talleres =25%\n",
        "* Asistencia= 5%\n",
        "* Participación=15%\n",
        "* Proyecto=45%\n",
        "\n",
        "Teniendo en cuenta las ponderaciones de calificación del bootcamp, las estudiantes deciden desarrollar un programa que les permita saber cuanto tendrían que sacar en el proyecto para tener una definitiva de 3.7 mínimo en el curso. Si las notas hasta el momento son las siguientes:\n",
        "\n",
        "* Tareas =4.5\n",
        "* Talleres=4\n",
        "* Asistencia=5\n",
        "* Participación=4\n",
        "¿Cuanto tendrían que sacar en el proyecto?."
      ]
    },
    {
      "cell_type": "code",
      "metadata": {
        "colab": {
          "base_uri": "https://localhost:8080/"
        },
        "id": "KNpqUt82pkj8",
        "outputId": "1e77e5e5-ca3b-42e3-8226-c59bf62aed28"
      },
      "source": [
        "tareas=4.5*0.10\n",
        "talleres=4*0.25\n",
        "asistencia=5*0.05\n",
        "participacion=4*0.15\n",
        "proyecto=0.45\n",
        "definitiva=3.7\n",
        "acumulado=round(definitiva-(tareas+talleres+asistencia+participacion),1)\n",
        "proyecto=acumulado/proyecto\n",
        "print(\"La Nota que tengo que sacar en el Proyecto es de\",round(proyecto,1),\"para tener una definitiva de\",definitiva)\n",
        "\n"
      ],
      "execution_count": 15,
      "outputs": [
        {
          "output_type": "stream",
          "text": [
            "La Nota que tengo que sacar en el Proyecto es de 3.1 para tener una definitiva de 3.7\n"
          ],
          "name": "stdout"
        }
      ]
    }
  ]
}