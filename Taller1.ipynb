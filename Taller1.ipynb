{
  "nbformat": 4,
  "nbformat_minor": 0,
  "metadata": {
    "colab": {
      "name": "Taller1.ipynb",
      "provenance": [],
      "authorship_tag": "ABX9TyN0ctXHZoyDIvW+MpCLp1o+",
      "include_colab_link": true
    },
    "kernelspec": {
      "name": "python3",
      "display_name": "Python 3"
    },
    "language_info": {
      "name": "python"
    }
  },
  "cells": [
    {
      "cell_type": "markdown",
      "metadata": {
        "id": "view-in-github",
        "colab_type": "text"
      },
      "source": [
        "<a href=\"https://colab.research.google.com/github/IvoneForero/MDigitales/blob/main/Taller1.ipynb\" target=\"_parent\"><img src=\"https://colab.research.google.com/assets/colab-badge.svg\" alt=\"Open In Colab\"/></a>"
      ]
    },
    {
      "cell_type": "markdown",
      "metadata": {
        "id": "PURu_8vOr4vG"
      },
      "source": [
        "06/agosto/2021\n",
        "\n",
        "# TALLER NÚMERO 1\n",
        "\n",
        "\n",
        "# 1.\n",
        "El bootcamp comenzo el 26 de julio del 2021, se les explico a las estudiantes que se les evaluaría de la siguinte forma:\n",
        "\n",
        "* Tareas=10%\n",
        "* Talleres =25%\n",
        "* Asistencia= 5%\n",
        "* Participación=15%\n",
        "* Proyecto=45%\n",
        "\n",
        "Teniendo en cuenta las ponderaciones de calificación del bootcamp, las estudiantes deciden desarrollar un programa que les permita saber cuanto tendrían que sacar en el proyecto para tener una definitiva de 3.7 mínimo en el curso. Si las notas hasta el momento son las siguientes:\n",
        "\n",
        "* Tareas =4.5\n",
        "* Talleres=4\n",
        "* Asistencia=5\n",
        "* Participación=4\n",
        "¿Cuanto tendrían que sacar en el proyecto?."
      ]
    },
    {
      "cell_type": "code",
      "metadata": {
        "colab": {
          "base_uri": "https://localhost:8080/"
        },
        "id": "KNpqUt82pkj8",
        "outputId": "1e77e5e5-ca3b-42e3-8226-c59bf62aed28"
      },
      "source": [
        "tareas=4.5*0.10\n",
        "talleres=4*0.25\n",
        "asistencia=5*0.05\n",
        "participacion=4*0.15\n",
        "proyecto=0.45\n",
        "definitiva=3.7\n",
        "acumulado=round(definitiva-(tareas+talleres+asistencia+participacion),1)\n",
        "proyecto=acumulado/proyecto\n",
        "print(\"La Nota que tengo que sacar en el Proyecto es de\",round(proyecto,1),\"para tener una definitiva de\",definitiva)\n",
        "\n"
      ],
      "execution_count": null,
      "outputs": [
        {
          "output_type": "stream",
          "text": [
            "La Nota que tengo que sacar en el Proyecto es de 3.1 para tener una definitiva de 3.7\n"
          ],
          "name": "stdout"
        }
      ]
    },
    {
      "cell_type": "markdown",
      "metadata": {
        "id": "lS2DwAdn4EtQ"
      },
      "source": [
        "# 2.\n",
        "La empresa VIVAFLY tiene como eslogan: \"Satisfacción y plenitud en un solo viaje\". Por lo cual, uno de los medios que utiliza VIVAFLY para mantener la satisfacción al cliente, es realizar rifas a lo largo del año para fomentar mayor unión y entendimiento. Para el mes de septiembre, por motivos de celebración de Amor y Amistad, la empresa decide sortear los siguientes viajes a los 5 clientes con más antigüedad:\n",
        "\n",
        "1. Viaje todo incluído para dos personas a San Andrés(Premio 1)\n",
        "2. un pasadía a los termales de San Vicente incluyendo almuerzo (Premio 2)\n",
        "3. Viaje todo incluido para dos personas a Santa Marta (Premio 3)\n",
        "4. Pasadía al desierto de Tatacoa (Sin incluír alimentación) (Premio 4)\n",
        "\n",
        "\n",
        "La empresa utilizará para el sorteo el método de balotera. A continuación se menciona el color ganador por premio:\n",
        "\n",
        "1. Rosado= Premio 1\n",
        "2. Verde=Premio 2\n",
        "3. Azul=Premio 3\n",
        "4. Gris=Premio 4\n",
        "5. Roja=No hay premio\n",
        "\n",
        "La probabilidad de sacar una balota\n",
        "* rosada es del 15%\n",
        "* verde 20%\n",
        "* azul 5%\n",
        "* gris 20%\n",
        "* roja 40%.\n",
        "\n",
        "Adicionalmente, para las personas que SI obtengan premio, recibirán un bono en efectivo del porcentaje que represente la probabilidad de ganar con cada balota sobre un valor de 1.000.000 pesos. Sin embargo, se debe tener en cuenta que, Si al aplicar el porcentaje arroja un valor inferior a 120.000, no se les dará el bono en efectivo sino dos boletas de cine 4D para la película en estreno del mes incluyendo un solo combo de palomitas.Por otro lado, para la persona que saque balota roja obtendrá un premio de 120.000 pesos.\n",
        "\n",
        "**Nota:** El sorteo se realiza con el método de NO reemplazo. Es decir, la probabilidad de sacar cada una de las balotas es la misma para los 5 clientes. Porque a medida que vayan sacando las balotas ganadoras estás se regresan a la balotera y se mantendrá la misma cantidad de balotas.\n",
        "\n",
        "Teniendo en cuenta lo anterior.Se le pide a la analista que genere un código donde se pueda observar las respectivas premiaciones.\n",
        "\n",
        "las entradas deben ser las siguientes:\n",
        "\n",
        "* Nombre de la concursante\n",
        "* Color de balota\n",
        "\n",
        "Salida:\n",
        "\n",
        "* Premio\n",
        "\n",
        "Enunciado de salida: \"La empresa VIVAFLY se complace en anunciar que La participante _ ganó _ en nuestro sorteo de viajes de AMOR y AMISTAD\"\n",
        "\n",
        "Ejemplo: \"La empresa VIVAFLY se complace en anunciar que La participante ANA ganó un pasadía a los termales de San Vicente en nuestro sorteo de viajes de AMOR y AMISTAD\""
      ]
    },
    {
      "cell_type": "code",
      "metadata": {
        "id": "nD1tM0E359zP",
        "colab": {
          "base_uri": "https://localhost:8080/"
        },
        "outputId": "c10db5f0-6aae-4366-8d09-526b0a2fe827"
      },
      "source": [
        "premio1=\"Viaje todo incluído para dos personas a San Andrés\"\n",
        "premio2=\"Un pasadía a los termales de San Vicente incluyendo almuerzo\"\n",
        "premio3=\"Viaje todo incluido para dos personas a Santa Marta\"\n",
        "premio4=\"Pasadía al desierto de Tatacoa\"\n",
        "premio5=\"No ganó\"\n",
        "efectivo=1000000\n",
        "\n",
        "nombre=input('Nombre de la concursante: ')\n",
        "balota=input('Color de la balota: ')\n",
        "if balota==\"rosada\":\n",
        "  premio=premio1\n",
        "  premio_efe=efectivo*0.15\n",
        "elif balota==\"verde\":\n",
        "  premio=premio2\n",
        "  premio_efe=efectivo*0.20\n",
        "elif balota==\"azul\":\n",
        "  premio=premio3\n",
        "  premio_efe=efectivo*0.05\n",
        "elif balota==\"gris\":\n",
        "  premio=premio4\n",
        "  premio_efe=efectivo*0.20\n",
        "elif balota==\"roja\":\n",
        "  premio=premio5\n",
        "  premio_efe=120000 \n",
        "  #premio_efe=efectivo*0.4\n",
        "else:\n",
        "  premio='invalido'\n",
        "\n",
        "if premio=='invalido':\n",
        "  print('El color de la balota no es valido.')\n",
        "elif premio==premio5:\n",
        "  print(\"La empresa VIVAFLY lamenta anunciar que La participante\",nombre, \"no fue ganadora en nuestro sorteo de viajes de AMOR y AMISTAD. Pero tiene un premio de consolacion de:\", int(premio_efe), \"pesos en efectivo.\")\n",
        "elif premio_efe>=120000:\n",
        "  print(\"La empresa VIVAFLY se complace en anunciar que La participante\",nombre, \"ganó\", premio, \"en nuestro sorteo de viajes de AMOR y AMISTAD.\")\n",
        "  print('Adicionalmente gano', int(premio_efe), \"pesos en efectivo.\")\n",
        "else:\n",
        "  print(\"La empresa VIVAFLY se complace en anunciar que La participante\",nombre, \"ganó\", premio, \"en nuestro sorteo de viajes de AMOR y AMISTAD.\")\n",
        "  print('Adicionalmente ganó dos boletas de cine 4D para la película en estreno del mes incluyendo un solo combo de palomitas.')"
      ],
      "execution_count": 36,
      "outputs": [
        {
          "output_type": "stream",
          "text": [
            "Nombre de la concursante: Ivon Forero\n",
            "Color de la balota: rosada\n",
            "La empresa VIVAFLY se complace en anunciar que La participante Ivon Forero ganó Viaje todo incluído para dos personas a San Andrés en nuestro sorteo de viajes de AMOR y AMISTAD.\n",
            "Adicionalmente gano 150000 pesos en efectivo.\n"
          ],
          "name": "stdout"
        }
      ]
    }
  ]
}